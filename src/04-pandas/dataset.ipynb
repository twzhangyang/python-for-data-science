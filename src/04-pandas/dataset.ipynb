{
 "cells": [
  {
   "cell_type": "code",
   "execution_count": 2,
   "metadata": {
    "collapsed": true
   },
   "outputs": [],
   "source": [
    "import pandas as pd\n",
    "import matplotlib.pyplot as plt"
   ]
  },
  {
   "cell_type": "code",
   "execution_count": 3,
   "outputs": [],
   "source": [
    "stats = pd.read_csv(\"data.csv\")"
   ],
   "metadata": {
    "collapsed": false,
    "pycharm": {
     "name": "#%%\n"
    }
   }
  },
  {
   "cell_type": "code",
   "execution_count": 4,
   "outputs": [
    {
     "data": {
      "text/plain": "             Country Name Country Code  Birth rate  Internet users  \\\n0                   Aruba          ABW      10.244            78.9   \n1             Afghanistan          AFG      35.253             5.9   \n2                  Angola          AGO      45.985            19.1   \n3                 Albania          ALB      12.877            57.2   \n4    United Arab Emirates          ARE      11.044            88.0   \n..                    ...          ...         ...             ...   \n190           Yemen, Rep.          YEM      32.947            20.0   \n191          South Africa          ZAF      20.850            46.5   \n192      Congo, Dem. Rep.          COD      42.394             2.2   \n193                Zambia          ZMB      40.471            15.4   \n194              Zimbabwe          ZWE      35.715            18.5   \n\n            Income Group  \n0            High income  \n1             Low income  \n2    Upper middle income  \n3    Upper middle income  \n4            High income  \n..                   ...  \n190  Lower middle income  \n191  Upper middle income  \n192           Low income  \n193  Lower middle income  \n194           Low income  \n\n[195 rows x 5 columns]",
      "text/html": "<div>\n<style scoped>\n    .dataframe tbody tr th:only-of-type {\n        vertical-align: middle;\n    }\n\n    .dataframe tbody tr th {\n        vertical-align: top;\n    }\n\n    .dataframe thead th {\n        text-align: right;\n    }\n</style>\n<table border=\"1\" class=\"dataframe\">\n  <thead>\n    <tr style=\"text-align: right;\">\n      <th></th>\n      <th>Country Name</th>\n      <th>Country Code</th>\n      <th>Birth rate</th>\n      <th>Internet users</th>\n      <th>Income Group</th>\n    </tr>\n  </thead>\n  <tbody>\n    <tr>\n      <th>0</th>\n      <td>Aruba</td>\n      <td>ABW</td>\n      <td>10.244</td>\n      <td>78.9</td>\n      <td>High income</td>\n    </tr>\n    <tr>\n      <th>1</th>\n      <td>Afghanistan</td>\n      <td>AFG</td>\n      <td>35.253</td>\n      <td>5.9</td>\n      <td>Low income</td>\n    </tr>\n    <tr>\n      <th>2</th>\n      <td>Angola</td>\n      <td>AGO</td>\n      <td>45.985</td>\n      <td>19.1</td>\n      <td>Upper middle income</td>\n    </tr>\n    <tr>\n      <th>3</th>\n      <td>Albania</td>\n      <td>ALB</td>\n      <td>12.877</td>\n      <td>57.2</td>\n      <td>Upper middle income</td>\n    </tr>\n    <tr>\n      <th>4</th>\n      <td>United Arab Emirates</td>\n      <td>ARE</td>\n      <td>11.044</td>\n      <td>88.0</td>\n      <td>High income</td>\n    </tr>\n    <tr>\n      <th>...</th>\n      <td>...</td>\n      <td>...</td>\n      <td>...</td>\n      <td>...</td>\n      <td>...</td>\n    </tr>\n    <tr>\n      <th>190</th>\n      <td>Yemen, Rep.</td>\n      <td>YEM</td>\n      <td>32.947</td>\n      <td>20.0</td>\n      <td>Lower middle income</td>\n    </tr>\n    <tr>\n      <th>191</th>\n      <td>South Africa</td>\n      <td>ZAF</td>\n      <td>20.850</td>\n      <td>46.5</td>\n      <td>Upper middle income</td>\n    </tr>\n    <tr>\n      <th>192</th>\n      <td>Congo, Dem. Rep.</td>\n      <td>COD</td>\n      <td>42.394</td>\n      <td>2.2</td>\n      <td>Low income</td>\n    </tr>\n    <tr>\n      <th>193</th>\n      <td>Zambia</td>\n      <td>ZMB</td>\n      <td>40.471</td>\n      <td>15.4</td>\n      <td>Lower middle income</td>\n    </tr>\n    <tr>\n      <th>194</th>\n      <td>Zimbabwe</td>\n      <td>ZWE</td>\n      <td>35.715</td>\n      <td>18.5</td>\n      <td>Low income</td>\n    </tr>\n  </tbody>\n</table>\n<p>195 rows × 5 columns</p>\n</div>"
     },
     "execution_count": 4,
     "metadata": {},
     "output_type": "execute_result"
    }
   ],
   "source": [
    "stats"
   ],
   "metadata": {
    "collapsed": false,
    "pycharm": {
     "name": "#%%\n"
    }
   }
  },
  {
   "cell_type": "code",
   "execution_count": 5,
   "outputs": [
    {
     "name": "stdout",
     "output_type": "stream",
     "text": [
      "/Users/yrzhang/Documents/python-for-data-science-path/src/04-pandas\n"
     ]
    }
   ],
   "source": [
    "import os\n",
    "print(os.getcwd())"
   ],
   "metadata": {
    "collapsed": false,
    "pycharm": {
     "name": "#%%\n"
    }
   }
  },
  {
   "cell_type": "code",
   "execution_count": 6,
   "outputs": [],
   "source": [
    "#change dir\n",
    "#os.chdir('~/')"
   ],
   "metadata": {
    "collapsed": false,
    "pycharm": {
     "name": "#%%\n"
    }
   }
  },
  {
   "cell_type": "code",
   "execution_count": 7,
   "outputs": [
    {
     "data": {
      "text/plain": "195"
     },
     "execution_count": 7,
     "metadata": {},
     "output_type": "execute_result"
    }
   ],
   "source": [
    "len(stats)"
   ],
   "metadata": {
    "collapsed": false,
    "pycharm": {
     "name": "#%%\n"
    }
   }
  },
  {
   "cell_type": "code",
   "execution_count": 8,
   "outputs": [
    {
     "data": {
      "text/plain": "Index(['Country Name', 'Country Code', 'Birth rate', 'Internet users',\n       'Income Group'],\n      dtype='object')"
     },
     "execution_count": 8,
     "metadata": {},
     "output_type": "execute_result"
    }
   ],
   "source": [
    "stats.columns"
   ],
   "metadata": {
    "collapsed": false,
    "pycharm": {
     "name": "#%%\n"
    }
   }
  },
  {
   "cell_type": "code",
   "execution_count": 9,
   "outputs": [
    {
     "data": {
      "text/plain": "           Country Name Country Code  Birth rate  Internet users  \\\n0                 Aruba          ABW      10.244            78.9   \n1           Afghanistan          AFG      35.253             5.9   \n2                Angola          AGO      45.985            19.1   \n3               Albania          ALB      12.877            57.2   \n4  United Arab Emirates          ARE      11.044            88.0   \n\n          Income Group  \n0          High income  \n1           Low income  \n2  Upper middle income  \n3  Upper middle income  \n4          High income  ",
      "text/html": "<div>\n<style scoped>\n    .dataframe tbody tr th:only-of-type {\n        vertical-align: middle;\n    }\n\n    .dataframe tbody tr th {\n        vertical-align: top;\n    }\n\n    .dataframe thead th {\n        text-align: right;\n    }\n</style>\n<table border=\"1\" class=\"dataframe\">\n  <thead>\n    <tr style=\"text-align: right;\">\n      <th></th>\n      <th>Country Name</th>\n      <th>Country Code</th>\n      <th>Birth rate</th>\n      <th>Internet users</th>\n      <th>Income Group</th>\n    </tr>\n  </thead>\n  <tbody>\n    <tr>\n      <th>0</th>\n      <td>Aruba</td>\n      <td>ABW</td>\n      <td>10.244</td>\n      <td>78.9</td>\n      <td>High income</td>\n    </tr>\n    <tr>\n      <th>1</th>\n      <td>Afghanistan</td>\n      <td>AFG</td>\n      <td>35.253</td>\n      <td>5.9</td>\n      <td>Low income</td>\n    </tr>\n    <tr>\n      <th>2</th>\n      <td>Angola</td>\n      <td>AGO</td>\n      <td>45.985</td>\n      <td>19.1</td>\n      <td>Upper middle income</td>\n    </tr>\n    <tr>\n      <th>3</th>\n      <td>Albania</td>\n      <td>ALB</td>\n      <td>12.877</td>\n      <td>57.2</td>\n      <td>Upper middle income</td>\n    </tr>\n    <tr>\n      <th>4</th>\n      <td>United Arab Emirates</td>\n      <td>ARE</td>\n      <td>11.044</td>\n      <td>88.0</td>\n      <td>High income</td>\n    </tr>\n  </tbody>\n</table>\n</div>"
     },
     "execution_count": 9,
     "metadata": {},
     "output_type": "execute_result"
    }
   ],
   "source": [
    "stats.head(5)"
   ],
   "metadata": {
    "collapsed": false,
    "pycharm": {
     "name": "#%%\n"
    }
   }
  },
  {
   "cell_type": "code",
   "execution_count": 10,
   "outputs": [
    {
     "data": {
      "text/plain": "         Country Name Country Code  Birth rate  Internet users  \\\n190       Yemen, Rep.          YEM      32.947            20.0   \n191      South Africa          ZAF      20.850            46.5   \n192  Congo, Dem. Rep.          COD      42.394             2.2   \n193            Zambia          ZMB      40.471            15.4   \n194          Zimbabwe          ZWE      35.715            18.5   \n\n            Income Group  \n190  Lower middle income  \n191  Upper middle income  \n192           Low income  \n193  Lower middle income  \n194           Low income  ",
      "text/html": "<div>\n<style scoped>\n    .dataframe tbody tr th:only-of-type {\n        vertical-align: middle;\n    }\n\n    .dataframe tbody tr th {\n        vertical-align: top;\n    }\n\n    .dataframe thead th {\n        text-align: right;\n    }\n</style>\n<table border=\"1\" class=\"dataframe\">\n  <thead>\n    <tr style=\"text-align: right;\">\n      <th></th>\n      <th>Country Name</th>\n      <th>Country Code</th>\n      <th>Birth rate</th>\n      <th>Internet users</th>\n      <th>Income Group</th>\n    </tr>\n  </thead>\n  <tbody>\n    <tr>\n      <th>190</th>\n      <td>Yemen, Rep.</td>\n      <td>YEM</td>\n      <td>32.947</td>\n      <td>20.0</td>\n      <td>Lower middle income</td>\n    </tr>\n    <tr>\n      <th>191</th>\n      <td>South Africa</td>\n      <td>ZAF</td>\n      <td>20.850</td>\n      <td>46.5</td>\n      <td>Upper middle income</td>\n    </tr>\n    <tr>\n      <th>192</th>\n      <td>Congo, Dem. Rep.</td>\n      <td>COD</td>\n      <td>42.394</td>\n      <td>2.2</td>\n      <td>Low income</td>\n    </tr>\n    <tr>\n      <th>193</th>\n      <td>Zambia</td>\n      <td>ZMB</td>\n      <td>40.471</td>\n      <td>15.4</td>\n      <td>Lower middle income</td>\n    </tr>\n    <tr>\n      <th>194</th>\n      <td>Zimbabwe</td>\n      <td>ZWE</td>\n      <td>35.715</td>\n      <td>18.5</td>\n      <td>Low income</td>\n    </tr>\n  </tbody>\n</table>\n</div>"
     },
     "execution_count": 10,
     "metadata": {},
     "output_type": "execute_result"
    }
   ],
   "source": [
    "stats.tail(5)"
   ],
   "metadata": {
    "collapsed": false,
    "pycharm": {
     "name": "#%%\n"
    }
   }
  },
  {
   "cell_type": "code",
   "execution_count": 11,
   "outputs": [
    {
     "name": "stdout",
     "output_type": "stream",
     "text": [
      "<class 'pandas.core.frame.DataFrame'>\n",
      "RangeIndex: 195 entries, 0 to 194\n",
      "Data columns (total 5 columns):\n",
      " #   Column          Non-Null Count  Dtype  \n",
      "---  ------          --------------  -----  \n",
      " 0   Country Name    195 non-null    object \n",
      " 1   Country Code    195 non-null    object \n",
      " 2   Birth rate      195 non-null    float64\n",
      " 3   Internet users  195 non-null    float64\n",
      " 4   Income Group    195 non-null    object \n",
      "dtypes: float64(2), object(3)\n",
      "memory usage: 7.7+ KB\n"
     ]
    }
   ],
   "source": [
    "stats.info()"
   ],
   "metadata": {
    "collapsed": false,
    "pycharm": {
     "name": "#%%\n"
    }
   }
  },
  {
   "cell_type": "code",
   "execution_count": 12,
   "outputs": [
    {
     "data": {
      "text/plain": "       Birth rate  Internet users\ncount  195.000000      195.000000\nmean    21.469928       42.076471\nstd     10.605467       29.030788\nmin      7.900000        0.900000\n25%     12.120500       14.520000\n50%     19.680000       41.000000\n75%     29.759500       66.225000\nmax     49.661000       96.546800",
      "text/html": "<div>\n<style scoped>\n    .dataframe tbody tr th:only-of-type {\n        vertical-align: middle;\n    }\n\n    .dataframe tbody tr th {\n        vertical-align: top;\n    }\n\n    .dataframe thead th {\n        text-align: right;\n    }\n</style>\n<table border=\"1\" class=\"dataframe\">\n  <thead>\n    <tr style=\"text-align: right;\">\n      <th></th>\n      <th>Birth rate</th>\n      <th>Internet users</th>\n    </tr>\n  </thead>\n  <tbody>\n    <tr>\n      <th>count</th>\n      <td>195.000000</td>\n      <td>195.000000</td>\n    </tr>\n    <tr>\n      <th>mean</th>\n      <td>21.469928</td>\n      <td>42.076471</td>\n    </tr>\n    <tr>\n      <th>std</th>\n      <td>10.605467</td>\n      <td>29.030788</td>\n    </tr>\n    <tr>\n      <th>min</th>\n      <td>7.900000</td>\n      <td>0.900000</td>\n    </tr>\n    <tr>\n      <th>25%</th>\n      <td>12.120500</td>\n      <td>14.520000</td>\n    </tr>\n    <tr>\n      <th>50%</th>\n      <td>19.680000</td>\n      <td>41.000000</td>\n    </tr>\n    <tr>\n      <th>75%</th>\n      <td>29.759500</td>\n      <td>66.225000</td>\n    </tr>\n    <tr>\n      <th>max</th>\n      <td>49.661000</td>\n      <td>96.546800</td>\n    </tr>\n  </tbody>\n</table>\n</div>"
     },
     "execution_count": 12,
     "metadata": {},
     "output_type": "execute_result"
    }
   ],
   "source": [
    "stats.describe()"
   ],
   "metadata": {
    "collapsed": false,
    "pycharm": {
     "name": "#%%\n"
    }
   }
  },
  {
   "cell_type": "code",
   "execution_count": 13,
   "outputs": [
    {
     "data": {
      "text/plain": "                count       mean        std  min      25%    50%      75%  \\\nBirth rate      195.0  21.469928  10.605467  7.9  12.1205  19.68  29.7595   \nInternet users  195.0  42.076471  29.030788  0.9  14.5200  41.00  66.2250   \n\n                    max  \nBirth rate      49.6610  \nInternet users  96.5468  ",
      "text/html": "<div>\n<style scoped>\n    .dataframe tbody tr th:only-of-type {\n        vertical-align: middle;\n    }\n\n    .dataframe tbody tr th {\n        vertical-align: top;\n    }\n\n    .dataframe thead th {\n        text-align: right;\n    }\n</style>\n<table border=\"1\" class=\"dataframe\">\n  <thead>\n    <tr style=\"text-align: right;\">\n      <th></th>\n      <th>count</th>\n      <th>mean</th>\n      <th>std</th>\n      <th>min</th>\n      <th>25%</th>\n      <th>50%</th>\n      <th>75%</th>\n      <th>max</th>\n    </tr>\n  </thead>\n  <tbody>\n    <tr>\n      <th>Birth rate</th>\n      <td>195.0</td>\n      <td>21.469928</td>\n      <td>10.605467</td>\n      <td>7.9</td>\n      <td>12.1205</td>\n      <td>19.68</td>\n      <td>29.7595</td>\n      <td>49.6610</td>\n    </tr>\n    <tr>\n      <th>Internet users</th>\n      <td>195.0</td>\n      <td>42.076471</td>\n      <td>29.030788</td>\n      <td>0.9</td>\n      <td>14.5200</td>\n      <td>41.00</td>\n      <td>66.2250</td>\n      <td>96.5468</td>\n    </tr>\n  </tbody>\n</table>\n</div>"
     },
     "execution_count": 13,
     "metadata": {},
     "output_type": "execute_result"
    }
   ],
   "source": [
    "stats.describe().transpose()"
   ],
   "metadata": {
    "collapsed": false,
    "pycharm": {
     "name": "#%%\n"
    }
   }
  },
  {
   "cell_type": "code",
   "execution_count": 14,
   "outputs": [
    {
     "data": {
      "text/plain": "           Country Name Country Code  Birth rate  Internet users  \\\n0                 Aruba          ABW      10.244            78.9   \n1           Afghanistan          AFG      35.253             5.9   \n2                Angola          AGO      45.985            19.1   \n3               Albania          ALB      12.877            57.2   \n4  United Arab Emirates          ARE      11.044            88.0   \n\n          Income Group  \n0          High income  \n1           Low income  \n2  Upper middle income  \n3  Upper middle income  \n4          High income  ",
      "text/html": "<div>\n<style scoped>\n    .dataframe tbody tr th:only-of-type {\n        vertical-align: middle;\n    }\n\n    .dataframe tbody tr th {\n        vertical-align: top;\n    }\n\n    .dataframe thead th {\n        text-align: right;\n    }\n</style>\n<table border=\"1\" class=\"dataframe\">\n  <thead>\n    <tr style=\"text-align: right;\">\n      <th></th>\n      <th>Country Name</th>\n      <th>Country Code</th>\n      <th>Birth rate</th>\n      <th>Internet users</th>\n      <th>Income Group</th>\n    </tr>\n  </thead>\n  <tbody>\n    <tr>\n      <th>0</th>\n      <td>Aruba</td>\n      <td>ABW</td>\n      <td>10.244</td>\n      <td>78.9</td>\n      <td>High income</td>\n    </tr>\n    <tr>\n      <th>1</th>\n      <td>Afghanistan</td>\n      <td>AFG</td>\n      <td>35.253</td>\n      <td>5.9</td>\n      <td>Low income</td>\n    </tr>\n    <tr>\n      <th>2</th>\n      <td>Angola</td>\n      <td>AGO</td>\n      <td>45.985</td>\n      <td>19.1</td>\n      <td>Upper middle income</td>\n    </tr>\n    <tr>\n      <th>3</th>\n      <td>Albania</td>\n      <td>ALB</td>\n      <td>12.877</td>\n      <td>57.2</td>\n      <td>Upper middle income</td>\n    </tr>\n    <tr>\n      <th>4</th>\n      <td>United Arab Emirates</td>\n      <td>ARE</td>\n      <td>11.044</td>\n      <td>88.0</td>\n      <td>High income</td>\n    </tr>\n  </tbody>\n</table>\n</div>"
     },
     "execution_count": 14,
     "metadata": {},
     "output_type": "execute_result"
    }
   ],
   "source": [
    "stats.head(5)"
   ],
   "metadata": {
    "collapsed": false,
    "pycharm": {
     "name": "#%%\n"
    }
   }
  },
  {
   "cell_type": "code",
   "execution_count": 15,
   "outputs": [
    {
     "data": {
      "text/plain": "  Country Name Country Code  Birth rate  Internet users         Income Group\n2       Angola          AGO      45.985            19.1  Upper middle income\n3      Albania          ALB      12.877            57.2  Upper middle income",
      "text/html": "<div>\n<style scoped>\n    .dataframe tbody tr th:only-of-type {\n        vertical-align: middle;\n    }\n\n    .dataframe tbody tr th {\n        vertical-align: top;\n    }\n\n    .dataframe thead th {\n        text-align: right;\n    }\n</style>\n<table border=\"1\" class=\"dataframe\">\n  <thead>\n    <tr style=\"text-align: right;\">\n      <th></th>\n      <th>Country Name</th>\n      <th>Country Code</th>\n      <th>Birth rate</th>\n      <th>Internet users</th>\n      <th>Income Group</th>\n    </tr>\n  </thead>\n  <tbody>\n    <tr>\n      <th>2</th>\n      <td>Angola</td>\n      <td>AGO</td>\n      <td>45.985</td>\n      <td>19.1</td>\n      <td>Upper middle income</td>\n    </tr>\n    <tr>\n      <th>3</th>\n      <td>Albania</td>\n      <td>ALB</td>\n      <td>12.877</td>\n      <td>57.2</td>\n      <td>Upper middle income</td>\n    </tr>\n  </tbody>\n</table>\n</div>"
     },
     "execution_count": 15,
     "metadata": {},
     "output_type": "execute_result"
    }
   ],
   "source": [
    "# Rows\n",
    "stats[2:4]"
   ],
   "metadata": {
    "collapsed": false,
    "pycharm": {
     "name": "#%%\n"
    }
   }
  },
  {
   "cell_type": "code",
   "execution_count": 16,
   "outputs": [
    {
     "data": {
      "text/plain": "              Country Name Country Code  Birth rate  Internet users  \\\n185  Virgin Islands (U.S.)          VIR      10.700            45.3   \n186                Vietnam          VNM      15.537            43.9   \n187                Vanuatu          VUT      26.739            11.3   \n188     West Bank and Gaza          PSE      30.394            46.6   \n189                  Samoa          WSM      26.172            15.3   \n190            Yemen, Rep.          YEM      32.947            20.0   \n191           South Africa          ZAF      20.850            46.5   \n192       Congo, Dem. Rep.          COD      42.394             2.2   \n193                 Zambia          ZMB      40.471            15.4   \n194               Zimbabwe          ZWE      35.715            18.5   \n\n            Income Group  \n185          High income  \n186  Lower middle income  \n187  Lower middle income  \n188  Lower middle income  \n189  Lower middle income  \n190  Lower middle income  \n191  Upper middle income  \n192           Low income  \n193  Lower middle income  \n194           Low income  ",
      "text/html": "<div>\n<style scoped>\n    .dataframe tbody tr th:only-of-type {\n        vertical-align: middle;\n    }\n\n    .dataframe tbody tr th {\n        vertical-align: top;\n    }\n\n    .dataframe thead th {\n        text-align: right;\n    }\n</style>\n<table border=\"1\" class=\"dataframe\">\n  <thead>\n    <tr style=\"text-align: right;\">\n      <th></th>\n      <th>Country Name</th>\n      <th>Country Code</th>\n      <th>Birth rate</th>\n      <th>Internet users</th>\n      <th>Income Group</th>\n    </tr>\n  </thead>\n  <tbody>\n    <tr>\n      <th>185</th>\n      <td>Virgin Islands (U.S.)</td>\n      <td>VIR</td>\n      <td>10.700</td>\n      <td>45.3</td>\n      <td>High income</td>\n    </tr>\n    <tr>\n      <th>186</th>\n      <td>Vietnam</td>\n      <td>VNM</td>\n      <td>15.537</td>\n      <td>43.9</td>\n      <td>Lower middle income</td>\n    </tr>\n    <tr>\n      <th>187</th>\n      <td>Vanuatu</td>\n      <td>VUT</td>\n      <td>26.739</td>\n      <td>11.3</td>\n      <td>Lower middle income</td>\n    </tr>\n    <tr>\n      <th>188</th>\n      <td>West Bank and Gaza</td>\n      <td>PSE</td>\n      <td>30.394</td>\n      <td>46.6</td>\n      <td>Lower middle income</td>\n    </tr>\n    <tr>\n      <th>189</th>\n      <td>Samoa</td>\n      <td>WSM</td>\n      <td>26.172</td>\n      <td>15.3</td>\n      <td>Lower middle income</td>\n    </tr>\n    <tr>\n      <th>190</th>\n      <td>Yemen, Rep.</td>\n      <td>YEM</td>\n      <td>32.947</td>\n      <td>20.0</td>\n      <td>Lower middle income</td>\n    </tr>\n    <tr>\n      <th>191</th>\n      <td>South Africa</td>\n      <td>ZAF</td>\n      <td>20.850</td>\n      <td>46.5</td>\n      <td>Upper middle income</td>\n    </tr>\n    <tr>\n      <th>192</th>\n      <td>Congo, Dem. Rep.</td>\n      <td>COD</td>\n      <td>42.394</td>\n      <td>2.2</td>\n      <td>Low income</td>\n    </tr>\n    <tr>\n      <th>193</th>\n      <td>Zambia</td>\n      <td>ZMB</td>\n      <td>40.471</td>\n      <td>15.4</td>\n      <td>Lower middle income</td>\n    </tr>\n    <tr>\n      <th>194</th>\n      <td>Zimbabwe</td>\n      <td>ZWE</td>\n      <td>35.715</td>\n      <td>18.5</td>\n      <td>Low income</td>\n    </tr>\n  </tbody>\n</table>\n</div>"
     },
     "execution_count": 16,
     "metadata": {},
     "output_type": "execute_result"
    }
   ],
   "source": [
    "stats[185:]"
   ],
   "metadata": {
    "collapsed": false,
    "pycharm": {
     "name": "#%%\n"
    }
   }
  },
  {
   "cell_type": "code",
   "execution_count": 17,
   "outputs": [
    {
     "data": {
      "text/plain": "0                     Aruba\n1               Afghanistan\n2                    Angola\n3                   Albania\n4      United Arab Emirates\n               ...         \n190             Yemen, Rep.\n191            South Africa\n192        Congo, Dem. Rep.\n193                  Zambia\n194                Zimbabwe\nName: Country Name, Length: 195, dtype: object"
     },
     "execution_count": 17,
     "metadata": {},
     "output_type": "execute_result"
    }
   ],
   "source": [
    "# Columns\n",
    "stats['Country Name']"
   ],
   "metadata": {
    "collapsed": false,
    "pycharm": {
     "name": "#%%\n"
    }
   }
  },
  {
   "cell_type": "code",
   "execution_count": 18,
   "outputs": [
    {
     "data": {
      "text/plain": "             Country Name Country Code\n0                   Aruba          ABW\n1             Afghanistan          AFG\n2                  Angola          AGO\n3                 Albania          ALB\n4    United Arab Emirates          ARE\n..                    ...          ...\n190           Yemen, Rep.          YEM\n191          South Africa          ZAF\n192      Congo, Dem. Rep.          COD\n193                Zambia          ZMB\n194              Zimbabwe          ZWE\n\n[195 rows x 2 columns]",
      "text/html": "<div>\n<style scoped>\n    .dataframe tbody tr th:only-of-type {\n        vertical-align: middle;\n    }\n\n    .dataframe tbody tr th {\n        vertical-align: top;\n    }\n\n    .dataframe thead th {\n        text-align: right;\n    }\n</style>\n<table border=\"1\" class=\"dataframe\">\n  <thead>\n    <tr style=\"text-align: right;\">\n      <th></th>\n      <th>Country Name</th>\n      <th>Country Code</th>\n    </tr>\n  </thead>\n  <tbody>\n    <tr>\n      <th>0</th>\n      <td>Aruba</td>\n      <td>ABW</td>\n    </tr>\n    <tr>\n      <th>1</th>\n      <td>Afghanistan</td>\n      <td>AFG</td>\n    </tr>\n    <tr>\n      <th>2</th>\n      <td>Angola</td>\n      <td>AGO</td>\n    </tr>\n    <tr>\n      <th>3</th>\n      <td>Albania</td>\n      <td>ALB</td>\n    </tr>\n    <tr>\n      <th>4</th>\n      <td>United Arab Emirates</td>\n      <td>ARE</td>\n    </tr>\n    <tr>\n      <th>...</th>\n      <td>...</td>\n      <td>...</td>\n    </tr>\n    <tr>\n      <th>190</th>\n      <td>Yemen, Rep.</td>\n      <td>YEM</td>\n    </tr>\n    <tr>\n      <th>191</th>\n      <td>South Africa</td>\n      <td>ZAF</td>\n    </tr>\n    <tr>\n      <th>192</th>\n      <td>Congo, Dem. Rep.</td>\n      <td>COD</td>\n    </tr>\n    <tr>\n      <th>193</th>\n      <td>Zambia</td>\n      <td>ZMB</td>\n    </tr>\n    <tr>\n      <th>194</th>\n      <td>Zimbabwe</td>\n      <td>ZWE</td>\n    </tr>\n  </tbody>\n</table>\n<p>195 rows × 2 columns</p>\n</div>"
     },
     "execution_count": 18,
     "metadata": {},
     "output_type": "execute_result"
    }
   ],
   "source": [
    "stats[['Country Name', 'Country Code']]"
   ],
   "metadata": {
    "collapsed": false,
    "pycharm": {
     "name": "#%%\n"
    }
   }
  },
  {
   "cell_type": "code",
   "execution_count": 20,
   "outputs": [
    {
     "data": {
      "text/plain": "<AxesSubplot:ylabel='Density'>"
     },
     "execution_count": 20,
     "metadata": {},
     "output_type": "execute_result"
    },
    {
     "data": {
      "text/plain": "<Figure size 1008x432 with 1 Axes>",
      "image/png": "[encoded data removed]"
     },
     "metadata": {
      "needs_background": "light"
     },
     "output_type": "display_data"
    }
   ],
   "source": [
    "stats['Internet users'].plot(kind='density', figsize=(14, 6))"
   ],
   "metadata": {
    "collapsed": false,
    "pycharm": {
     "name": "#%%\n"
    }
   }
  },
  {
   "cell_type": "code",
   "execution_count": 19,
   "outputs": [],
   "source": [],
   "metadata": {
    "collapsed": false,
    "pycharm": {
     "name": "#%%\n"
    }
   }
  }
 ],
 "metadata": {
  "kernelspec": {
   "display_name": "Python 3",
   "language": "python",
   "name": "python3"
  },
  "language_info": {
   "codemirror_mode": {
    "name": "ipython",
    "version": 2
   },
   "file_extension": ".py",
   "mimetype": "text/x-python",
   "name": "python",
   "nbconvert_exporter": "python",
   "pygments_lexer": "ipython2",
   "version": "2.7.6"
  }
 },
 "nbformat": 4,
 "nbformat_minor": 0
}