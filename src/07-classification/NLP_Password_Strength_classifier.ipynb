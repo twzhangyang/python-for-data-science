{
 "cells": [
  {
   "cell_type": "code",
   "execution_count": 2,
   "metadata": {},
   "outputs": [],
   "source": [
    "import pandas as pd\n",
    "import numpy as np\n",
    "import seaborn as sns\n",
    "import warnings\n",
    "warnings.filterwarnings('ignore')"
   ]
  },
  {
   "cell_type": "markdown",
   "metadata": {},
   "source": [
    "#### REading dataset"
   ]
  },
  {
   "cell_type": "code",
   "execution_count": 3,
   "metadata": {},
   "outputs": [
    {
     "name": "stderr",
     "output_type": "stream",
     "text": [
      "b'Skipping line 2810: expected 2 fields, saw 5\\nSkipping line 4641: expected 2 fields, saw 5\\nSkipping line 7171: expected 2 fields, saw 5\\nSkipping line 11220: expected 2 fields, saw 5\\nSkipping line 13809: expected 2 fields, saw 5\\nSkipping line 14132: expected 2 fields, saw 5\\nSkipping line 14293: expected 2 fields, saw 5\\nSkipping line 14865: expected 2 fields, saw 5\\nSkipping line 17419: expected 2 fields, saw 5\\nSkipping line 22801: expected 2 fields, saw 5\\nSkipping line 25001: expected 2 fields, saw 5\\nSkipping line 26603: expected 2 fields, saw 5\\nSkipping line 26742: expected 2 fields, saw 5\\nSkipping line 29702: expected 2 fields, saw 5\\nSkipping line 32767: expected 2 fields, saw 5\\nSkipping line 32878: expected 2 fields, saw 5\\nSkipping line 35643: expected 2 fields, saw 5\\nSkipping line 36550: expected 2 fields, saw 5\\nSkipping line 38732: expected 2 fields, saw 5\\nSkipping line 40567: expected 2 fields, saw 5\\nSkipping line 40576: expected 2 fields, saw 5\\nSkipping line 41864: expected 2 fields, saw 5\\nSkipping line 46861: expected 2 fields, saw 5\\nSkipping line 47939: expected 2 fields, saw 5\\nSkipping line 48628: expected 2 fields, saw 5\\nSkipping line 48908: expected 2 fields, saw 5\\nSkipping line 57582: expected 2 fields, saw 5\\nSkipping line 58782: expected 2 fields, saw 5\\nSkipping line 58984: expected 2 fields, saw 5\\nSkipping line 61518: expected 2 fields, saw 5\\nSkipping line 63451: expected 2 fields, saw 5\\nSkipping line 68141: expected 2 fields, saw 5\\nSkipping line 72083: expected 2 fields, saw 5\\nSkipping line 74027: expected 2 fields, saw 5\\nSkipping line 77811: expected 2 fields, saw 5\\nSkipping line 83958: expected 2 fields, saw 5\\nSkipping line 85295: expected 2 fields, saw 5\\nSkipping line 88665: expected 2 fields, saw 5\\nSkipping line 89198: expected 2 fields, saw 5\\nSkipping line 92499: expected 2 fields, saw 5\\nSkipping line 92751: expected 2 fields, saw 5\\nSkipping line 93689: expected 2 fields, saw 5\\nSkipping line 94776: expected 2 fields, saw 5\\nSkipping line 97334: expected 2 fields, saw 5\\nSkipping line 102316: expected 2 fields, saw 5\\nSkipping line 103421: expected 2 fields, saw 5\\nSkipping line 106872: expected 2 fields, saw 5\\nSkipping line 109363: expected 2 fields, saw 5\\nSkipping line 110117: expected 2 fields, saw 5\\nSkipping line 110465: expected 2 fields, saw 5\\nSkipping line 113843: expected 2 fields, saw 5\\nSkipping line 115634: expected 2 fields, saw 5\\nSkipping line 121518: expected 2 fields, saw 5\\nSkipping line 123692: expected 2 fields, saw 5\\nSkipping line 124708: expected 2 fields, saw 5\\nSkipping line 129608: expected 2 fields, saw 5\\nSkipping line 133176: expected 2 fields, saw 5\\nSkipping line 135532: expected 2 fields, saw 5\\nSkipping line 138042: expected 2 fields, saw 5\\nSkipping line 139485: expected 2 fields, saw 5\\nSkipping line 140401: expected 2 fields, saw 5\\nSkipping line 144093: expected 2 fields, saw 5\\nSkipping line 149850: expected 2 fields, saw 5\\nSkipping line 151831: expected 2 fields, saw 5\\nSkipping line 158014: expected 2 fields, saw 5\\nSkipping line 162047: expected 2 fields, saw 5\\nSkipping line 164515: expected 2 fields, saw 5\\nSkipping line 170313: expected 2 fields, saw 5\\nSkipping line 171325: expected 2 fields, saw 5\\nSkipping line 171424: expected 2 fields, saw 5\\nSkipping line 175920: expected 2 fields, saw 5\\nSkipping line 176210: expected 2 fields, saw 5\\nSkipping line 183603: expected 2 fields, saw 5\\nSkipping line 190264: expected 2 fields, saw 5\\nSkipping line 191683: expected 2 fields, saw 5\\nSkipping line 191988: expected 2 fields, saw 5\\nSkipping line 195450: expected 2 fields, saw 5\\nSkipping line 195754: expected 2 fields, saw 5\\nSkipping line 197124: expected 2 fields, saw 5\\nSkipping line 199263: expected 2 fields, saw 5\\nSkipping line 202603: expected 2 fields, saw 5\\nSkipping line 209960: expected 2 fields, saw 5\\nSkipping line 213218: expected 2 fields, saw 5\\nSkipping line 217060: expected 2 fields, saw 5\\nSkipping line 220121: expected 2 fields, saw 5\\nSkipping line 223518: expected 2 fields, saw 5\\nSkipping line 226293: expected 2 fields, saw 5\\nSkipping line 227035: expected 2 fields, saw 7\\nSkipping line 227341: expected 2 fields, saw 5\\nSkipping line 227808: expected 2 fields, saw 5\\nSkipping line 228516: expected 2 fields, saw 5\\nSkipping line 228733: expected 2 fields, saw 5\\nSkipping line 232043: expected 2 fields, saw 5\\nSkipping line 232426: expected 2 fields, saw 5\\nSkipping line 234490: expected 2 fields, saw 5\\nSkipping line 239626: expected 2 fields, saw 5\\nSkipping line 240461: expected 2 fields, saw 5\\nSkipping line 244518: expected 2 fields, saw 5\\nSkipping line 245395: expected 2 fields, saw 5\\nSkipping line 246168: expected 2 fields, saw 5\\nSkipping line 246655: expected 2 fields, saw 5\\nSkipping line 246752: expected 2 fields, saw 5\\nSkipping line 247189: expected 2 fields, saw 5\\nSkipping line 250276: expected 2 fields, saw 5\\nSkipping line 255327: expected 2 fields, saw 5\\nSkipping line 257094: expected 2 fields, saw 5\\n'\n",
      "b'Skipping line 264626: expected 2 fields, saw 5\\nSkipping line 265028: expected 2 fields, saw 5\\nSkipping line 269150: expected 2 fields, saw 5\\nSkipping line 271360: expected 2 fields, saw 5\\nSkipping line 273975: expected 2 fields, saw 5\\nSkipping line 274742: expected 2 fields, saw 5\\nSkipping line 276227: expected 2 fields, saw 5\\nSkipping line 279807: expected 2 fields, saw 5\\nSkipping line 283425: expected 2 fields, saw 5\\nSkipping line 287468: expected 2 fields, saw 5\\nSkipping line 292995: expected 2 fields, saw 5\\nSkipping line 293496: expected 2 fields, saw 5\\nSkipping line 293735: expected 2 fields, saw 5\\nSkipping line 295060: expected 2 fields, saw 5\\nSkipping line 296643: expected 2 fields, saw 5\\nSkipping line 296848: expected 2 fields, saw 5\\nSkipping line 308926: expected 2 fields, saw 5\\nSkipping line 310360: expected 2 fields, saw 5\\nSkipping line 317004: expected 2 fields, saw 5\\nSkipping line 318207: expected 2 fields, saw 5\\nSkipping line 331783: expected 2 fields, saw 5\\nSkipping line 333864: expected 2 fields, saw 5\\nSkipping line 335958: expected 2 fields, saw 5\\nSkipping line 336290: expected 2 fields, saw 5\\nSkipping line 343526: expected 2 fields, saw 5\\nSkipping line 343857: expected 2 fields, saw 5\\nSkipping line 344059: expected 2 fields, saw 5\\nSkipping line 348691: expected 2 fields, saw 5\\nSkipping line 353446: expected 2 fields, saw 5\\nSkipping line 357073: expected 2 fields, saw 5\\nSkipping line 359753: expected 2 fields, saw 5\\nSkipping line 359974: expected 2 fields, saw 5\\nSkipping line 366534: expected 2 fields, saw 5\\nSkipping line 369514: expected 2 fields, saw 5\\nSkipping line 377759: expected 2 fields, saw 5\\nSkipping line 379327: expected 2 fields, saw 5\\nSkipping line 380769: expected 2 fields, saw 5\\nSkipping line 381073: expected 2 fields, saw 5\\nSkipping line 381489: expected 2 fields, saw 5\\nSkipping line 386304: expected 2 fields, saw 5\\nSkipping line 387635: expected 2 fields, saw 5\\nSkipping line 389613: expected 2 fields, saw 5\\nSkipping line 392604: expected 2 fields, saw 5\\nSkipping line 393184: expected 2 fields, saw 5\\nSkipping line 395530: expected 2 fields, saw 5\\nSkipping line 396939: expected 2 fields, saw 5\\nSkipping line 397385: expected 2 fields, saw 5\\nSkipping line 397509: expected 2 fields, saw 5\\nSkipping line 402902: expected 2 fields, saw 5\\nSkipping line 405187: expected 2 fields, saw 5\\nSkipping line 408412: expected 2 fields, saw 5\\nSkipping line 419423: expected 2 fields, saw 5\\nSkipping line 420962: expected 2 fields, saw 5\\nSkipping line 425965: expected 2 fields, saw 5\\nSkipping line 427496: expected 2 fields, saw 5\\nSkipping line 438881: expected 2 fields, saw 5\\nSkipping line 439776: expected 2 fields, saw 5\\nSkipping line 440345: expected 2 fields, saw 5\\nSkipping line 445507: expected 2 fields, saw 5\\nSkipping line 445548: expected 2 fields, saw 5\\nSkipping line 447184: expected 2 fields, saw 5\\nSkipping line 448603: expected 2 fields, saw 5\\nSkipping line 451732: expected 2 fields, saw 5\\nSkipping line 458249: expected 2 fields, saw 5\\nSkipping line 460274: expected 2 fields, saw 5\\nSkipping line 467630: expected 2 fields, saw 5\\nSkipping line 473961: expected 2 fields, saw 5\\nSkipping line 476281: expected 2 fields, saw 5\\nSkipping line 478010: expected 2 fields, saw 5\\nSkipping line 478322: expected 2 fields, saw 5\\nSkipping line 479999: expected 2 fields, saw 5\\nSkipping line 480898: expected 2 fields, saw 5\\nSkipping line 481688: expected 2 fields, saw 5\\nSkipping line 485193: expected 2 fields, saw 5\\nSkipping line 485519: expected 2 fields, saw 5\\nSkipping line 486000: expected 2 fields, saw 5\\nSkipping line 489063: expected 2 fields, saw 5\\nSkipping line 494525: expected 2 fields, saw 5\\nSkipping line 495009: expected 2 fields, saw 5\\nSkipping line 501954: expected 2 fields, saw 5\\nSkipping line 508035: expected 2 fields, saw 5\\nSkipping line 508828: expected 2 fields, saw 5\\nSkipping line 509833: expected 2 fields, saw 5\\nSkipping line 510410: expected 2 fields, saw 5\\nSkipping line 518229: expected 2 fields, saw 5\\nSkipping line 520302: expected 2 fields, saw 5\\nSkipping line 520340: expected 2 fields, saw 5\\n'\n",
      "b'Skipping line 525174: expected 2 fields, saw 5\\nSkipping line 526251: expected 2 fields, saw 5\\nSkipping line 529611: expected 2 fields, saw 5\\nSkipping line 531398: expected 2 fields, saw 5\\nSkipping line 534146: expected 2 fields, saw 5\\nSkipping line 544954: expected 2 fields, saw 5\\nSkipping line 553002: expected 2 fields, saw 5\\nSkipping line 553883: expected 2 fields, saw 5\\nSkipping line 553887: expected 2 fields, saw 5\\nSkipping line 553915: expected 2 fields, saw 5\\nSkipping line 554172: expected 2 fields, saw 5\\nSkipping line 563534: expected 2 fields, saw 5\\nSkipping line 565191: expected 2 fields, saw 5\\nSkipping line 574108: expected 2 fields, saw 5\\nSkipping line 574412: expected 2 fields, saw 5\\nSkipping line 575985: expected 2 fields, saw 5\\nSkipping line 580091: expected 2 fields, saw 5\\nSkipping line 582682: expected 2 fields, saw 5\\nSkipping line 585885: expected 2 fields, saw 5\\nSkipping line 590171: expected 2 fields, saw 5\\nSkipping line 591924: expected 2 fields, saw 5\\nSkipping line 592515: expected 2 fields, saw 5\\nSkipping line 593888: expected 2 fields, saw 5\\nSkipping line 596245: expected 2 fields, saw 5\\nSkipping line 607344: expected 2 fields, saw 5\\nSkipping line 607633: expected 2 fields, saw 5\\nSkipping line 610939: expected 2 fields, saw 5\\nSkipping line 613638: expected 2 fields, saw 5\\nSkipping line 615643: expected 2 fields, saw 5\\nSkipping line 615901: expected 2 fields, saw 5\\nSkipping line 617389: expected 2 fields, saw 5\\nSkipping line 634641: expected 2 fields, saw 5\\nSkipping line 635755: expected 2 fields, saw 5\\nSkipping line 646243: expected 2 fields, saw 5\\nSkipping line 647165: expected 2 fields, saw 5\\nSkipping line 648610: expected 2 fields, saw 5\\nSkipping line 648772: expected 2 fields, saw 5\\nSkipping line 651833: expected 2 fields, saw 5\\nSkipping line 653663: expected 2 fields, saw 5\\nSkipping line 656233: expected 2 fields, saw 5\\nSkipping line 656694: expected 2 fields, saw 5\\nSkipping line 659783: expected 2 fields, saw 5\\nSkipping line 660478: expected 2 fields, saw 5\\nSkipping line 661133: expected 2 fields, saw 5\\nSkipping line 661736: expected 2 fields, saw 5\\nSkipping line 669827: expected 2 fields, saw 5\\n'\n"
     ]
    },
    {
     "data": {
      "text/plain": "      password  strength\n0     kzde5577         1\n1     kino3434         1\n2    visi7k1yr         1\n3     megzy123         1\n4  lamborghin1         1",
      "text/html": "<div>\n<style scoped>\n    .dataframe tbody tr th:only-of-type {\n        vertical-align: middle;\n    }\n\n    .dataframe tbody tr th {\n        vertical-align: top;\n    }\n\n    .dataframe thead th {\n        text-align: right;\n    }\n</style>\n<table border=\"1\" class=\"dataframe\">\n  <thead>\n    <tr style=\"text-align: right;\">\n      <th></th>\n      <th>password</th>\n      <th>strength</th>\n    </tr>\n  </thead>\n  <tbody>\n    <tr>\n      <th>0</th>\n      <td>kzde5577</td>\n      <td>1</td>\n    </tr>\n    <tr>\n      <th>1</th>\n      <td>kino3434</td>\n      <td>1</td>\n    </tr>\n    <tr>\n      <th>2</th>\n      <td>visi7k1yr</td>\n      <td>1</td>\n    </tr>\n    <tr>\n      <th>3</th>\n      <td>megzy123</td>\n      <td>1</td>\n    </tr>\n    <tr>\n      <th>4</th>\n      <td>lamborghin1</td>\n      <td>1</td>\n    </tr>\n  </tbody>\n</table>\n</div>"
     },
     "execution_count": 3,
     "metadata": {},
     "output_type": "execute_result"
    }
   ],
   "source": [
    "data=pd.read_csv('data.csv',error_bad_lines=False)\n",
    "data.head()"
   ]
  },
  {
   "cell_type": "code",
   "execution_count": 4,
   "metadata": {},
   "outputs": [
    {
     "data": {
      "text/plain": "array([1, 2, 0])"
     },
     "execution_count": 4,
     "metadata": {},
     "output_type": "execute_result"
    }
   ],
   "source": [
    "data['strength'].unique()"
   ]
  },
  {
   "cell_type": "code",
   "execution_count": 4,
   "metadata": {},
   "outputs": [],
   "source": []
  },
  {
   "cell_type": "markdown",
   "metadata": {},
   "source": [
    "#### code to check all the missing values in my dataset"
   ]
  },
  {
   "cell_type": "code",
   "execution_count": 5,
   "metadata": {},
   "outputs": [
    {
     "data": {
      "text/plain": "password    1\nstrength    0\ndtype: int64"
     },
     "execution_count": 5,
     "metadata": {},
     "output_type": "execute_result"
    }
   ],
   "source": [
    "data.isna().sum()"
   ]
  },
  {
   "cell_type": "code",
   "execution_count": 6,
   "metadata": {},
   "outputs": [
    {
     "data": {
      "text/plain": "       password  strength\n367579      NaN         0",
      "text/html": "<div>\n<style scoped>\n    .dataframe tbody tr th:only-of-type {\n        vertical-align: middle;\n    }\n\n    .dataframe tbody tr th {\n        vertical-align: top;\n    }\n\n    .dataframe thead th {\n        text-align: right;\n    }\n</style>\n<table border=\"1\" class=\"dataframe\">\n  <thead>\n    <tr style=\"text-align: right;\">\n      <th></th>\n      <th>password</th>\n      <th>strength</th>\n    </tr>\n  </thead>\n  <tbody>\n    <tr>\n      <th>367579</th>\n      <td>NaN</td>\n      <td>0</td>\n    </tr>\n  </tbody>\n</table>\n</div>"
     },
     "execution_count": 6,
     "metadata": {},
     "output_type": "execute_result"
    }
   ],
   "source": [
    "data[data['password'].isnull()]"
   ]
  },
  {
   "cell_type": "code",
   "execution_count": 7,
   "metadata": {},
   "outputs": [],
   "source": [
    "data.dropna(inplace=True)"
   ]
  },
  {
   "cell_type": "code",
   "execution_count": 8,
   "metadata": {},
   "outputs": [
    {
     "data": {
      "text/plain": "password    0\nstrength    0\ndtype: int64"
     },
     "execution_count": 8,
     "metadata": {},
     "output_type": "execute_result"
    }
   ],
   "source": [
    "data.isnull().sum()"
   ]
  },
  {
   "cell_type": "code",
   "execution_count": 9,
   "metadata": {},
   "outputs": [
    {
     "data": {
      "text/plain": "<AxesSubplot:xlabel='strength', ylabel='count'>"
     },
     "execution_count": 9,
     "metadata": {},
     "output_type": "execute_result"
    },
    {
     "data": {
      "text/plain": "<Figure size 432x288 with 1 Axes>",
      "image/png": "[encoded data removed]"
     },
     "metadata": {
      "needs_background": "light"
     },
     "output_type": "display_data"
    }
   ],
   "source": [
    "sns.countplot(data['strength'])"
   ]
  },
  {
   "cell_type": "code",
   "execution_count": 10,
   "metadata": {},
   "outputs": [],
   "source": [
    "password_tuple=np.array(data)"
   ]
  },
  {
   "cell_type": "code",
   "execution_count": 11,
   "metadata": {},
   "outputs": [
    {
     "data": {
      "text/plain": "array([['kzde5577', 1],\n       ['kino3434', 1],\n       ['visi7k1yr', 1],\n       ...,\n       ['184520socram', 1],\n       ['marken22a', 1],\n       ['fxx4pw4g', 1]], dtype=object)"
     },
     "execution_count": 11,
     "metadata": {},
     "output_type": "execute_result"
    }
   ],
   "source": [
    "password_tuple"
   ]
  },
  {
   "cell_type": "code",
   "execution_count": 11,
   "metadata": {},
   "outputs": [],
   "source": []
  },
  {
   "cell_type": "markdown",
   "metadata": {},
   "source": [
    "#### shuffling randomly for robustness"
   ]
  },
  {
   "cell_type": "code",
   "execution_count": 12,
   "metadata": {},
   "outputs": [],
   "source": [
    "import random\n",
    "random.shuffle(password_tuple)"
   ]
  },
  {
   "cell_type": "code",
   "execution_count": 13,
   "metadata": {},
   "outputs": [],
   "source": [
    "x=[labels[0] for labels in password_tuple]\n",
    "y=[labels[1] for labels in password_tuple]\n"
   ]
  },
  {
   "cell_type": "code",
   "execution_count": 14,
   "metadata": {},
   "outputs": [
    {
     "data": {
      "text/plain": "['kzde5577',\n 'kino3434',\n 'kzde5577',\n 'kino3434',\n 'kino3434',\n 'lamborghin1',\n 'AVYq1lDE4MgAZfNt',\n 'u6c8vhow',\n 'visi7k1yr',\n 'kzde5577',\n 'u6c8vhow',\n 'kzde5577',\n 'kzde5577',\n 'AVYq1lDE4MgAZfNt',\n 'visi7k1yr',\n 'universe2908',\n '52558000aaa',\n 'jytifok873',\n '612035180tok',\n 'lamborghin1',\n 'as326159',\n 'visi7k1yr',\n 'megzy123',\n '612035180tok',\n 'universe2908',\n '612035180tok',\n 'asv5o9yu',\n 'jerusalem393',\n 'kzde5577',\n 'intel1',\n 'faranumar91',\n 'trabajonet9',\n 'idofo673',\n 'megzy123',\n '612035180tok',\n 'v1118714',\n 'schalke04',\n 'jytifok873',\n 'fk9qi21m',\n 'megzy123',\n 'WUt9IZzE0OQ7PkNE',\n 'intel1',\n 'juliel009',\n 'schalke04',\n 'idofo673',\n 'WUt9IZzE0OQ7PkNE',\n 'exitos2009',\n 'asgaliu11',\n 'lsdlsd1',\n 'intel1',\n 'olmaz.',\n 'schalke04',\n 'g067057895',\n 'gaymaids1',\n 'idofo673',\n 'hpqkoxsn5',\n 'g067057895',\n 'a2531106',\n 'u6c8vhow',\n 'klara-tershina3H',\n 'u6c8vhow',\n 'visi7k1yr',\n 'WUt9IZzE0OQ7PkNE',\n 'snolyuj04',\n 'yqugu927',\n 'snolyuj04',\n 'cigicigi123',\n 'openup12',\n 'obstacle25',\n 'u6c8vhow',\n 'alimagik1',\n 'cigicigi123',\n 'v1118714',\n 'gdfn76',\n 'elyass15@ajilent-ci',\n 'megzy123',\n 'b4NbTxDEyNgG141J',\n 'prisonbreak1',\n 'bozoxik602',\n '0169395484a',\n '6975038lp',\n 'asv5o9yu',\n 'as326159',\n 'pHyqueDIyNQ8vmhb',\n 'fahad123',\n 'patri1973',\n 'p2share',\n 'czuodhj972',\n 'bozoxik602',\n 'TyWM72UNEex8Q8Y',\n 'yqugu927',\n 'hayhayq2',\n 'cesarmaio1',\n 'trabajonet9',\n 'yqugu927',\n 'kunyukbabi69',\n 'universe2908',\n 'juliel009',\n '283671gus',\n 'jytifok873',\n 'prisonbreak1',\n 'juliel009',\n 'il0vey0u',\n 'ns2b0727',\n '0169395484a',\n '2021848709.',\n '929865yt',\n 'jalal123456',\n 'ns2b0727',\n 'go7kew7a2po',\n 'jytifok873',\n '612035180tok',\n 'j09000',\n 'kunyukbabi69',\n 'WUt9IZzE0OQ7PkNE',\n '6tequila6',\n '6975038lp',\n 'gill02',\n 'tamanagung6',\n 'jerusalem393',\n 'Iamthelegend1!',\n '10Erjrlmebup0n',\n 'gaymaids1',\n 'khmer100.03278&?><Mnb',\n 'kino3434',\n 'jUV4dSDQwNwPpA36',\n '64959rodro',\n 'jUV4dSDQwNwPpA36',\n 'hayhayq2',\n 'klara-tershina3H',\n 'trabajonet9',\n 'ga98SIzk0NwhiZaE',\n 'go7kew7a2po',\n 'lamborghin1',\n 'v1118714',\n '746xitEGiqObog',\n 'bgrvl80',\n 'idofo673',\n 'WUt9IZzE0OQ7PkNE',\n 'oekojWyH120063',\n '2yz4ewwg',\n 'cesarmaio1',\n 'yitbos77',\n 'k1k2k3k4k5k6',\n 'asgaliu11',\n 'yitbos77',\n 'z3ro1sm',\n 'aquhih220',\n '612035180tok',\n 'oekojWyH120063',\n 'a2531106',\n 'kinga22',\n 'cesarmaio1',\n '123maxbala',\n 'matiofox08',\n '746xitEGiqObog',\n 'cesarmaio1',\n 'u6c8vhow',\n 'jytifok873',\n 'v1118714',\n 'exitos2009',\n 'calcifer32',\n 'gdfn76',\n 'g067057895',\n 'matiofox08',\n '2yz4ewwg',\n 'WUt9IZzE0OQ7PkNE',\n 'klara-tershina3H',\n 'elonex24',\n 'damyvo114',\n 'nicolas05',\n '5gzj5uf',\n 'mohantra1',\n 'meopvywk628',\n 'xyws951753',\n 'u6c8vhow',\n 'nicolas05',\n 'jytifok873',\n 'tamanagung6',\n '10Erjrlmebup0n',\n 'aquhih220',\n 'gkrqjs6',\n 'mazdarx7',\n 'trabajonet9',\n 'a0972986650',\n 'czuodhj972',\n 'jonothepoop1',\n 'a2531106',\n '612035180tok',\n 'matiofox08',\n 'pHyqueDIyNQ8vmhb',\n 'icap12',\n 'intel1',\n 'czuodhj972',\n 'mazdarx7',\n 'ok>bdk',\n 'jalingo1',\n 'wxS2ztDk4OATjBfI',\n 'kzde5577',\n '4osxw4r',\n 'elonex24',\n 'a2531106',\n 'pikey231',\n '26522876p',\n '64959rodro',\n '283671gus',\n 'nello11',\n 'jalal123456',\n 'intel1',\n 's0xwym7h',\n 'AVYq1lDE4MgAZfNt',\n '1972vishara',\n 'RqsuUsDYxNgr8T40',\n 'nicolas05',\n 'ga98SIzk0NwhiZaE',\n 'jalingo1',\n 'yu4cmn',\n 'teste10',\n 'prisonbreak1',\n 'vgnfs495vp',\n 'd04m11',\n 'khmer100.03278&?><Mnb',\n 'wxS2ztDk4OATjBfI',\n 'tia150979',\n 'fnmsdha476',\n 'as326159',\n 'nello11',\n 'barra23',\n 'a0972986650',\n 'TyWM72UNEex8Q8Y',\n 'franczuk33',\n 'kyxvufl37',\n '123477889a',\n 'ejeko677',\n 'yqugu927',\n 'yu4cmn',\n 'cesarmaio1',\n 'kino3434',\n '7mV0pKTA3MgHy8Jv',\n '12345yolanda',\n 'idofo673',\n 'nicolas05',\n 'okn9zp9o',\n 'yitbos77',\n 'warriors08',\n '746xitEGiqObog',\n 's9830950044',\n 'holamundo1',\n 'k1k2k3k4k5k6',\n 'mustang337',\n 'Iamthelegend1!',\n 'metopelo1623',\n 'calcifer32',\n 'qn5xpg3k00',\n '7942vikas',\n 'bgrvl80',\n 'jonothepoop1',\n '2akira2',\n 'meriton23',\n 'RqsuUsDYxNgr8T40',\n '0870330135a',\n 'alchimie79',\n '20Dgw7TQ0OQVdly7',\n 'hpqkoxsn5',\n 'marita1',\n '6yy6yy',\n 'yllime123',\n 'cesarmaio1',\n 'p2share',\n 'koabcswzt3',\n 'juliel009',\n 'ts34a3fodh3i',\n 'yk530mg8',\n 'g3rappa',\n 'alchimie79',\n 'schalke04',\n 'zoobike04',\n 'j09000',\n 'x8512514',\n 't8IkFRDIxMAFV2JW',\n 'vgnfs495vp',\n 'ram@!sita15392',\n 'sasuke4',\n 'k9b8cz6aj2',\n 'hodygid757',\n 'snolyuj04',\n '0870330135a',\n 'mohantra1',\n 'jytifok873',\n 'kino3434',\n '283671gus',\n 'denise18',\n 'bgrvl80',\n 'www32223222',\n 'sanki1',\n 'igejasy712',\n 'czuodhj972',\n 'juliel009',\n 'zoobike04',\n 'puegwajy416',\n '1597535youssi',\n 'poseidon2011',\n 'WUt9IZzE0OQ7PkNE',\n '33kanun03',\n 'z888888',\n 'x8512514',\n '12345yolanda',\n 'krumbul123',\n 'mohantra1',\n 'v1118714',\n 'gkrqjs6',\n 'yqugu927',\n '283671gus',\n 'intel1',\n 'polo2014',\n '2fakjv',\n 'gkrqjs6',\n 'hosna1368',\n 'kswa2mrv',\n 'hayhayq2',\n 'd4xQ3LjUwMQFVCYQ',\n 'z7zbgIDkzMQeHUd9',\n 'potatobus150',\n 'AS0130066',\n 'go7kew7a2po',\n 'mike09',\n 'sbaUsoTA1OAzuevI',\n 'frhnsvelhfr1',\n 'y0unus',\n 'DTUQG5jU5MwmR1L9',\n 'bugatti01',\n 'schalke04',\n 'isqizkg1',\n 'ikanez886',\n 'markama10',\n 'bencike7',\n 'ebacuro434',\n 'ppnyadam09',\n '746xitEGiqObog',\n 'zidadoh258',\n 'u6c8vhow',\n 'mario489800',\n 'caramelo9',\n 'ycqtgdso3',\n 'Iamthelegend1!',\n 'a03242241431a',\n 'matiofox08',\n 'mohantra1',\n '2021848709.',\n 'cesarmaio1',\n 'ppnyadam09',\n 'asv5o9yu',\n 'khurram_',\n 'rLLh4WDQ2OAWbDO5',\n 'demon10',\n 'xlxlxl777',\n 'z7zbgIDkzMQeHUd9',\n 'wibi182d',\n 'yy4129',\n '1972vishara',\n 'n501iomf',\n 'tia150979',\n 'folashade1',\n 'bozoxik602',\n '7mV0pKTA3MgHy8Jv',\n 'mazdarx7',\n '123net123',\n 'gill02',\n 'nicolas05',\n 'hodygid757',\n 'sanki1',\n 'juany57',\n 'wisal1234',\n 'oekojWyH120063',\n 'moimoimoi9',\n 'j09000',\n '2010server',\n 'examy624',\n 'lamborghin1',\n 'z888888',\n 'jerusalem393',\n 'hayhayq2',\n 'gdfn76',\n 'matiz4533',\n 'caramelo9',\n 'deryxi704',\n 'rogyh820',\n 'z3ro1sm',\n 'hpqkoxsn5',\n 'damyvo114',\n 'xanyrum650',\n 'kikeq102',\n 'pazzini24',\n 'frhnsvelhfr1',\n 'ajyrew547',\n 'aosmaxd0',\n '6tequila6',\n '20010509wang',\n '2021848709.',\n '3CgRg8DA1NQY1iEj',\n 'JEQuloqOFUd102',\n '215466kenyi',\n 'Oshity07142014',\n 'mario489800',\n 'idofo673',\n 'qefoquf1uf',\n 'meriton23',\n 'mike09',\n '1ngaymuadong',\n 'cerner09',\n 'acetita478',\n 'nK0yKXTU0NQHZE2e',\n 'ebacuro434',\n 'xiau5ff',\n 'oatcake87',\n 'lofebop480',\n 'ns2b0727',\n 'hlQ8gDTExMQWkeda',\n 'a110804032',\n 'megzy123',\n 'finisterra1',\n 'visi7k1yr',\n 'g3rappa',\n 'gozv3e5',\n 'lymuvop730',\n 'cristiano7',\n 'kuntz80',\n 'demon10',\n 'UF1Z2WjE5Mg26R1K',\n 'sanki1',\n 'RqsuUsDYxNgr8T40',\n 'kzde5577',\n 'JEQuloqOFUd102',\n '631ihOZogELoVap',\n '0169395484a',\n 'koabcswzt3',\n 'ebacuro434',\n '1234159hero',\n 'elabadmin1386',\n 'ebacuro434',\n 'kswa2mrv',\n 'Oshity07142014',\n 'ldteugao6',\n '929865yt',\n 'wycinu436',\n 'calcifer32',\n 'alimagik1',\n 'planes123',\n 'cdann123',\n 'ginger972',\n '2GnTStTE4Mw4MTwv',\n 'ok>bdk',\n 'hpqkoxsn5',\n 'jsm159167',\n 'Iamthelegend1!',\n 'we34dar88',\n 'meriton23',\n 'kunyukbabi69',\n 'kitty555',\n 'osimeytju12',\n 'seng987321',\n 'jsm159167',\n 'wo9aiwangyan',\n 'deryxi704',\n 'grazi0201',\n 'a2486315',\n 'asdasdf1',\n 'byeypb2',\n '1ngaymuadong',\n '147963asd',\n 'barboza221294',\n 'yu4cmn',\n 'olmaz.',\n 'bugatti01',\n 'fbjurcd961',\n 's9830950044',\n 'barra23',\n 'junaid5',\n 'obstacle25',\n 'yy4129',\n 'khmer100.03278&?><Mnb',\n 'rakag279',\n 'as8594505',\n 'viri13',\n 'VMjz4eTkxNAbOyUU',\n 'yqugu927',\n 'woon12',\n 'sebax2013',\n 'clave08',\n '9950twofour0',\n 'TyWM72UNEex8Q8Y',\n 'zjl0kx03',\n 'krumbul123',\n 'faranumar91',\n 'pazzini24',\n 'galoucura1',\n 'hasan18',\n 'zjl0kx03',\n 'portales1',\n 'ahibyg892',\n 'meopvywk628',\n 'may112001',\n 'mathilde54550',\n 'puegwajy416',\n 'galoucura1',\n 'parent777',\n 'metopelo1623',\n 'gill02',\n 'control9',\n 'moken7',\n 'qefoquf1uf',\n 'princ3sa',\n 'parent777',\n '3f5xd41l0ik7',\n 'ebogel225',\n 'aslpls2009',\n 'xiau5ff',\n 'c3h8bkzr',\n 'aio42fv',\n 'tukaxo486',\n 'jalal123456',\n 'QWERTY0011',\n 'yogesh143',\n 'kikeq102',\n 'upomel180',\n 'tukaxo486',\n 'cesarmaio1',\n 's4m2dx9e6',\n 'control9',\n 'fr8OClDY1MAdEhHa',\n 'tukaxo486',\n 'prisonbreak1',\n 'teemteem97',\n 'purpledog1992',\n 'vehat387',\n 'oscar69',\n 'edcmki90',\n 'elonex24',\n 'kzde5577',\n 'plumilla1',\n 'pikey231',\n 'memjan123',\n '248sUqiFEJuRag',\n 'bugatti01',\n 'limichan99',\n '64whbrb351',\n 'xf6385494',\n 'teemteem97',\n 'novelia21',\n 'kXzWOozU2MQ1Jv1h',\n 'yuri110995',\n '64959rodro',\n 'cdann123',\n 'roxana1993',\n 'sarahi1628',\n 'mustang337',\n 'demon10',\n 'satelite31',\n 'kitty555',\n 'aslanmarco007',\n '1234159hero',\n '0870330135a',\n 'hola45',\n 'a0972986650',\n 'frhnsvelhfr1',\n 'u03kz6ez',\n '238wofutUtIGyf',\n 'woogee04',\n 'clave08',\n 'xlxlxl777',\n 'j09000',\n 'carla99',\n 'juany57',\n 'satelite31',\n '248sUqiFEJuRag',\n 'exitos2009',\n 'g067057895',\n 'gutergut599',\n 'gkrqjs6',\n 'pato221182',\n 'damyvo114',\n 'mussuh4',\n 'zedika521',\n 'cerner09',\n 'may112001',\n 'tamanagung6',\n '52558000aaa',\n 'wuzyci421',\n 'q0pv0fk',\n 'sebax2013',\n 'terrassa6',\n 'groster152',\n 'azerty32',\n 'aslanmarco007',\n 'sbaUsoTA1OAzuevI',\n 'killer5',\n 'v10rica',\n 'robot425',\n 'xW8-3w7-MFB-CKH',\n '2021848709.',\n '123maxbala',\n '0VKWoODkwOAc0pZK',\n 'jEzZXUTE3MgJ4fVk',\n 'QWERTY0011',\n 'aio42fv',\n 'tomas7896',\n '1991vikash',\n 'VMjz4eTkxNAbOyUU',\n 'graciela2',\n 'popo0404',\n 'deryxi704',\n 'ahibyg892',\n 'raykuaz32',\n 'tin030201',\n 'afs34214',\n 'oekojWyH120063',\n 'shotiko18',\n 'kXzWOozU2MQ1Jv1h',\n 'beijing168',\n 'clave08',\n 'j2yj2yj2y',\n 'kjkjkj1',\n 'rakag279',\n 'fudijep286',\n '631ihOZogELoVap',\n 'hola45',\n 'sbaUsoTA1OAzuevI',\n 'zcsntdmhe098',\n 'adminmao888',\n 'matha81',\n 'pedronha96',\n '123net123',\n 'GGmm26120904..',\n 'deryxi704',\n 'p3rf3ct0',\n 'fnmsdha476',\n 'terrassa6',\n 'WUt9IZzE0OQ7PkNE',\n 'as326159',\n 'mayur@8netinfotech',\n 'rsuvxz08b',\n 'kXzWOozU2MQ1Jv1h',\n 'zjl0kx03',\n '6yy6yy',\n 'xanyrum650',\n 'poilkjmnb987',\n 'Iamthelegend1!',\n 'wuzsadav933',\n '2GnTStTE4Mw4MTwv',\n 'calcifer32',\n 'bencike7',\n 'butisugo39',\n '52756652a',\n 'olyucskw52',\n 'ekufite742',\n 'lovelory1',\n 'ezekiel720',\n 'J0LcDWDc2NAVE8j3',\n 'iubat09',\n 'upomel180',\n 'viri13',\n 'sbl571017',\n '6tequila6',\n 'clave08',\n 'rLLh4WDQ2OAWbDO5',\n 'yzxwvgbdu503',\n 'alchimie79',\n 'ass359',\n 'roxana1993',\n 'djngeyut2707',\n 'sergius1964',\n 'JEQuloqOFUd102',\n 'jesmond26',\n 'wisal1234',\n 'IjUcOtYqAwel725',\n 'jEzZXUTE3MgJ4fVk',\n 'j03l4ytr1',\n 'AS0130066',\n 'x0004534',\n 'mario489800',\n 'faranumar91',\n 'b4NbTxDEyNgG141J',\n 'yu4cmn',\n 's4m2dx9e6',\n '727nimdadre',\n 'qopybuxi2',\n 'QWERTY0011',\n 'pukiw102',\n 'change201',\n 'clumsy0619',\n 'topgan22',\n 'fnmsdha476',\n 'p0lp0l',\n 'jonothepoop1',\n 'a0972986650',\n '2021848709.',\n 'teemteem97',\n 'regodib479',\n 'mussuh4',\n 'kjkjkj1',\n 'vijay1995',\n 'gopal8420',\n 'diarie1',\n 'yut0838828185',\n 'cdann123',\n 'kyxvufl37',\n 'kyodai666',\n 'znbl5tj1',\n '1jancok',\n 'failz0r',\n 'overlord3127',\n 'MT766631',\n 'DTUQG5jU5MwmR1L9',\n 'mickael12',\n 'bang6k',\n 'khaled12',\n 'aziz098765',\n '6975038lp',\n '159951josh',\n 'QWERTY0011',\n 'tim80327',\n '4lgYVfzk1MwuzHcn',\n 'cyborged69',\n 'nokia6020',\n 'gopal8420',\n '64959rodro',\n 'gpc151192',\n 'p0lp0l',\n '159951josh',\n 'bc5e4vca',\n '123477889a',\n 'eth36498',\n 'xanyrum650',\n 'kenyu001',\n 'uxyloga692',\n 'jntjmh7',\n 'v1s2c3456',\n '612035180tok',\n 'igejasy712',\n 'grazi0201',\n 'samael666',\n 'kyodai666',\n 'nLIGyhTU1NQTAp6u',\n 'mustang337',\n 'anon13',\n 'kzde5577',\n 'pass0port',\n 'lqksuym982',\n 'carla99',\n 'just1n0k',\n 'fudijep286',\n 'buqodym199',\n 'LypOJUfuLYrO477',\n '16731673ir',\n 'hodaq103',\n 'teste10',\n 'topgan22',\n 'coy29061994',\n 'g3rappa',\n 'caramelo9',\n 'ns2b0727',\n 'fk9qi21m',\n '746xitEGiqObog',\n 'wycinu436',\n '123477889a',\n 'rakag279',\n 'control9',\n 'tim80327',\n 'Jovan13lovekenthjusvan4ever',\n 'muoaqxwc21',\n 'nikolas369',\n 'krumbul123',\n 'sebax2013',\n 'evivad588',\n 'L2i2ZwTg1MQajeBm',\n 'mndzbqkv651',\n 'cigicigi123',\n 'l4torr3',\n '241189dumai',\n 'l4torr3',\n 'wjngzro27',\n 'evivad588',\n 'koabcswzt3',\n '123net123',\n '2010server',\n 'ahibyg892',\n 'sebo82',\n '1katertje',\n 'kenneth610',\n 'ikanez886',\n '16731673ir',\n 'rogyh820',\n 'fahad123',\n '727nimdadre',\n 'a0972986650',\n 'ilunia20',\n 'djda1203zj',\n 'alchimie79',\n 'u6c8vhow',\n 'hola45',\n 'bambink182',\n 'xp;ysmybst',\n 'tamanagung6',\n 'falre1524',\n '727nimdadre',\n '20010509wang',\n '72o0yzekib4',\n 'luiskeko31',\n 'openup12',\n 'sasuke4',\n 'muoaqxwc21',\n 'luthien123',\n 'rogyh820',\n 'jalal123456',\n 'zb08110229',\n 'puegwajy416',\n 'hamqrc6',\n 'jl440033',\n 'hard7ware',\n 'guliotth82',\n 'TyWM72UNEex8Q8Y',\n 'ninja420',\n 'finisterra1',\n 'meriton23',\n 'kikeq102',\n '000webhostcom',\n 'pmcm110118008',\n 'cyborged69',\n 'servbot88',\n 'moimoimoi9',\n 'gkrqjs6',\n '6yy6yy',\n 'acgyj188',\n 'aosmaxd0',\n 'ok>bdk',\n 'junaid5',\n 'mndzbqkv651',\n 'Iamthelegend1!',\n 'franczuk33',\n 'jUV4dSDQwNwPpA36',\n 'tomas7896',\n 'kukimuki123',\n 'rogama69',\n 'whosdabest1',\n '210496av',\n 'IP1yaTDUzOQWAeI5',\n 'vardhan19',\n 'hylefup708',\n '763EBFC5',\n 'adfbwrnt4',\n 'Ju6BIMTU0MwYXtL4',\n 'housefly74',\n '763EBFC5',\n 'change201',\n 'djngeyut2707',\n 'acgyj188',\n 'kenneth610',\n 'zjl0kx03',\n 'mel008',\n 'n501iomf',\n 'vmdo3i',\n 'tuto0378',\n 'mario489800',\n 'IRZA98',\n 'jonothepoop1',\n '2010server',\n '07dpv1127b',\n '1satguru1',\n 'jalingo1',\n 'teemteem97',\n 'azizi120583',\n 'wuzsadav933',\n 'legna13',\n 'ajyrew547',\n 'eth36498',\n 'coy29061994',\n 'isqizkg1',\n 'AVYq1lDE4MgAZfNt',\n 'samemene@sm',\n 'BB11227122',\n 'sqsn7a9',\n '9h7v4z91',\n 'pukiw102',\n 'kunyukbabi69',\n 'schalke04',\n 'aan2900220',\n '6975038lp',\n 'princ3sa',\n 'kVczcljg4OA25Aeb',\n 'azerty32',\n 'smart95',\n 'shotiko18',\n 'sysoja794',\n 'hisnipes1',\n '241189dumai',\n 'Truelove19902610',\n 'jalingo1',\n 'ok>bdk',\n 'PSVkampioen2013',\n 'tuto0378',\n 'd6VyrkFV6oblxNs5N8cW',\n 'nello11',\n 'afan520307',\n 'kunyukbabi69',\n '20Dgw7TQ0OQVdly7',\n 'gozv3e5',\n 'PSVkampioen2013',\n 'pass0port',\n 'djda1203zj',\n 'kswa2mrv',\n 'hosna1368',\n '2652033abc',\n 'rLLh4WDQ2OAWbDO5',\n 'zb08110229',\n 'j2yj2yj2y',\n 'hard7ware',\n 'edcmki90',\n 'junaid5',\n 'lolmdr1',\n 'njmania114',\n 'q4Ger4OX7S2GZ3',\n 'Truelove19902610',\n 'satelite31',\n 'elperro1',\n 'galoucura1',\n 'goony01',\n 'emilly123',\n 'irivur594',\n 'josef0867',\n 'ypodahe201',\n 'metopelo1623',\n 'paulino123',\n '7l1hu1xa',\n 'kciseba24521',\n 'mario489800',\n 'paola1995',\n 'SLAEgyTk0OQxphJq',\n 'afs34214',\n 'z3ro1sm',\n 'qwekl12',\n 'ldteugao6',\n 'webstudio8',\n 'colorado27',\n 'sqsn7a9',\n 'kenneth610',\n 'hot622204',\n 'meopvywk628',\n 'twil8x0',\n 'b9m7cxcgc',\n 'ts02521712',\n '225arysorIgEKa',\n 'NEw5g2zM4OQQimNV',\n 'ppnyadam09',\n 'ras996633',\n 'webhost08',\n 'o7ShLdTM0NAQRI7E',\n 'ebacuro434',\n 'SLAEgyTk0OQxphJq',\n 'rakag279',\n 'mickael12',\n 'jbiz04h4',\n 'SLAEgyTk0OQxphJq',\n '64959rodro',\n 'TyWM72UNEex8Q8Y',\n '16731673ir',\n 'ukyzopi369',\n 'llahetihw1',\n 'synyxyr723',\n 'trust123',\n 'wilian123',\n 'ajyrew547',\n '25sz4a1i',\n '94311163nobp',\n 'grazi0201',\n 'sanjaime1',\n 'azizi120583',\n '9950twofour0',\n 'y0unus',\n 'butisugo39',\n 'gerylyx688',\n 'seller1',\n 'jl440033',\n 'zjl0kx03',\n 'alhama11408',\n 'woaini0',\n 'elperro1',\n 'njmania114',\n '4TXr5KDYxNQVTo4g',\n 'emufat882',\n 'whosdabest1',\n '8g8x2su3',\n 'jfk490giwb',\n 'matiofox08',\n 'znbl5tj1',\n 'rrilni1747',\n '19821010a',\n 'creeped12',\n 'hqh2eYjQxOQPYIsA',\n 'mario489800',\n 'hodygid757',\n ...]"
     },
     "execution_count": 14,
     "metadata": {},
     "output_type": "execute_result"
    }
   ],
   "source": [
    "x"
   ]
  },
  {
   "cell_type": "code",
   "execution_count": 14,
   "metadata": {},
   "outputs": [],
   "source": []
  },
  {
   "cell_type": "markdown",
   "metadata": {},
   "source": [
    "#### create a custom function to split input into characters of list"
   ]
  },
  {
   "cell_type": "code",
   "execution_count": 15,
   "metadata": {},
   "outputs": [],
   "source": [
    "def word_divide_char(inputs):\n",
    "    character=[]\n",
    "    for i in inputs:\n",
    "        character.append(i)\n",
    "    return character"
   ]
  },
  {
   "cell_type": "code",
   "execution_count": 16,
   "metadata": {},
   "outputs": [
    {
     "data": {
      "text/plain": "['k', 'z', 'd', 'e', '5', '5', '7', '7']"
     },
     "execution_count": 16,
     "metadata": {},
     "output_type": "execute_result"
    }
   ],
   "source": [
    "word_divide_char('kzde5577')"
   ]
  },
  {
   "cell_type": "code",
   "execution_count": 16,
   "metadata": {},
   "outputs": [],
   "source": []
  },
  {
   "cell_type": "markdown",
   "metadata": {},
   "source": [
    "#### import TF-IDF vectorizer to convert String data into numerical data"
   ]
  },
  {
   "cell_type": "code",
   "execution_count": 18,
   "metadata": {},
   "outputs": [],
   "source": [
    "from sklearn.feature_extraction.text import TfidfVectorizer\n"
   ]
  },
  {
   "cell_type": "code",
   "execution_count": 19,
   "metadata": {},
   "outputs": [],
   "source": [
    "vectorizer=TfidfVectorizer(tokenizer=word_divide_char)"
   ]
  },
  {
   "cell_type": "markdown",
   "metadata": {},
   "source": [
    "#### apply TF-IDF vectorizer on data"
   ]
  },
  {
   "cell_type": "code",
   "execution_count": 20,
   "metadata": {},
   "outputs": [],
   "source": [
    "X=vectorizer.fit_transform(x)"
   ]
  },
  {
   "cell_type": "code",
   "execution_count": 21,
   "metadata": {},
   "outputs": [
    {
     "data": {
      "text/plain": "(669639, 131)"
     },
     "execution_count": 21,
     "metadata": {},
     "output_type": "execute_result"
    }
   ],
   "source": [
    "X.shape"
   ]
  },
  {
   "cell_type": "code",
   "execution_count": 22,
   "metadata": {},
   "outputs": [
    {
     "data": {
      "text/plain": "['\\x01',\n '\\x04',\n '\\x05',\n '\\x06',\n '\\x08',\n '\\x0e',\n '\\x0f',\n '\\x10',\n '\\x16',\n '\\x17',\n '\\x19',\n '\\x1b',\n '\\x1c',\n '\\x1e',\n ' ',\n '!',\n '\"',\n '#',\n '$',\n '%',\n '&',\n '(',\n ')',\n '*',\n '+',\n '-',\n '.',\n '/',\n '0',\n '1',\n '2',\n '3',\n '4',\n '5',\n '6',\n '7',\n '8',\n '9',\n ';',\n '<',\n '=',\n '>',\n '?',\n '@',\n '[',\n '\\\\',\n ']',\n '^',\n '_',\n '`',\n 'a',\n 'b',\n 'c',\n 'd',\n 'e',\n 'f',\n 'g',\n 'h',\n 'i',\n 'j',\n 'k',\n 'l',\n 'm',\n 'n',\n 'o',\n 'p',\n 'q',\n 'r',\n 's',\n 't',\n 'u',\n 'v',\n 'w',\n 'x',\n 'y',\n 'z',\n '{',\n '|',\n '}',\n '~',\n '\\x7f',\n '\\x8d',\n '\\xa0',\n '¡',\n '¦',\n '¨',\n '«',\n '¯',\n '°',\n '±',\n '²',\n '³',\n '´',\n 'µ',\n '·',\n 'º',\n '¼',\n '¾',\n '¿',\n 'ß',\n 'à',\n 'á',\n 'â',\n 'ä',\n 'å',\n 'æ',\n 'ç',\n 'è',\n 'é',\n 'ê',\n 'í',\n 'ï',\n 'ð',\n 'ñ',\n 'ò',\n 'ó',\n 'ô',\n 'õ',\n '÷',\n 'ù',\n 'ú',\n 'û',\n 'ü',\n 'ý',\n 'þ',\n 'ÿ',\n 'œ',\n '—',\n '‚',\n '‹',\n '›']"
     },
     "execution_count": 22,
     "metadata": {},
     "output_type": "execute_result"
    }
   ],
   "source": [
    "vectorizer.get_feature_names()"
   ]
  },
  {
   "cell_type": "code",
   "execution_count": 23,
   "metadata": {},
   "outputs": [
    {
     "data": {
      "text/plain": "<1x131 sparse matrix of type '<class 'numpy.float64'>'\n\twith 6 stored elements in Compressed Sparse Row format>"
     },
     "execution_count": 23,
     "metadata": {},
     "output_type": "execute_result"
    }
   ],
   "source": [
    "first_document_vector=X[0]\n",
    "first_document_vector"
   ]
  },
  {
   "cell_type": "code",
   "execution_count": 24,
   "metadata": {},
   "outputs": [
    {
     "data": {
      "text/plain": "matrix([[0.        ],\n        [0.        ],\n        [0.        ],\n        [0.        ],\n        [0.        ],\n        [0.        ],\n        [0.        ],\n        [0.        ],\n        [0.        ],\n        [0.        ],\n        [0.        ],\n        [0.        ],\n        [0.        ],\n        [0.        ],\n        [0.        ],\n        [0.        ],\n        [0.        ],\n        [0.        ],\n        [0.        ],\n        [0.        ],\n        [0.        ],\n        [0.        ],\n        [0.        ],\n        [0.        ],\n        [0.        ],\n        [0.        ],\n        [0.        ],\n        [0.        ],\n        [0.        ],\n        [0.        ],\n        [0.        ],\n        [0.        ],\n        [0.        ],\n        [0.56684326],\n        [0.        ],\n        [0.59216351],\n        [0.        ],\n        [0.        ],\n        [0.        ],\n        [0.        ],\n        [0.        ],\n        [0.        ],\n        [0.        ],\n        [0.        ],\n        [0.        ],\n        [0.        ],\n        [0.        ],\n        [0.        ],\n        [0.        ],\n        [0.        ],\n        [0.        ],\n        [0.        ],\n        [0.        ],\n        [0.28551282],\n        [0.22103053],\n        [0.        ],\n        [0.        ],\n        [0.        ],\n        [0.        ],\n        [0.        ],\n        [0.29119501],\n        [0.        ],\n        [0.        ],\n        [0.        ],\n        [0.        ],\n        [0.        ],\n        [0.        ],\n        [0.        ],\n        [0.        ],\n        [0.        ],\n        [0.        ],\n        [0.        ],\n        [0.        ],\n        [0.        ],\n        [0.        ],\n        [0.3359531 ],\n        [0.        ],\n        [0.        ],\n        [0.        ],\n        [0.        ],\n        [0.        ],\n        [0.        ],\n        [0.        ],\n        [0.        ],\n        [0.        ],\n        [0.        ],\n        [0.        ],\n        [0.        ],\n        [0.        ],\n        [0.        ],\n        [0.        ],\n        [0.        ],\n        [0.        ],\n        [0.        ],\n        [0.        ],\n        [0.        ],\n        [0.        ],\n        [0.        ],\n        [0.        ],\n        [0.        ],\n        [0.        ],\n        [0.        ],\n        [0.        ],\n        [0.        ],\n        [0.        ],\n        [0.        ],\n        [0.        ],\n        [0.        ],\n        [0.        ],\n        [0.        ],\n        [0.        ],\n        [0.        ],\n        [0.        ],\n        [0.        ],\n        [0.        ],\n        [0.        ],\n        [0.        ],\n        [0.        ],\n        [0.        ],\n        [0.        ],\n        [0.        ],\n        [0.        ],\n        [0.        ],\n        [0.        ],\n        [0.        ],\n        [0.        ],\n        [0.        ],\n        [0.        ],\n        [0.        ],\n        [0.        ],\n        [0.        ]])"
     },
     "execution_count": 24,
     "metadata": {},
     "output_type": "execute_result"
    }
   ],
   "source": [
    "first_document_vector.T.todense()"
   ]
  },
  {
   "cell_type": "code",
   "execution_count": 25,
   "metadata": {},
   "outputs": [
    {
     "data": {
      "text/plain": "      TF-IDF\n7   0.592164\n5   0.566843\nz   0.335953\nk   0.291195\nd   0.285513\n..       ...\n<   0.000000\n;   0.000000\n9   0.000000\n8   0.000000\n›   0.000000\n\n[131 rows x 1 columns]",
      "text/html": "<div>\n<style scoped>\n    .dataframe tbody tr th:only-of-type {\n        vertical-align: middle;\n    }\n\n    .dataframe tbody tr th {\n        vertical-align: top;\n    }\n\n    .dataframe thead th {\n        text-align: right;\n    }\n</style>\n<table border=\"1\" class=\"dataframe\">\n  <thead>\n    <tr style=\"text-align: right;\">\n      <th></th>\n      <th>TF-IDF</th>\n    </tr>\n  </thead>\n  <tbody>\n    <tr>\n      <th>7</th>\n      <td>0.592164</td>\n    </tr>\n    <tr>\n      <th>5</th>\n      <td>0.566843</td>\n    </tr>\n    <tr>\n      <th>z</th>\n      <td>0.335953</td>\n    </tr>\n    <tr>\n      <th>k</th>\n      <td>0.291195</td>\n    </tr>\n    <tr>\n      <th>d</th>\n      <td>0.285513</td>\n    </tr>\n    <tr>\n      <th>...</th>\n      <td>...</td>\n    </tr>\n    <tr>\n      <th>&lt;</th>\n      <td>0.000000</td>\n    </tr>\n    <tr>\n      <th>;</th>\n      <td>0.000000</td>\n    </tr>\n    <tr>\n      <th>9</th>\n      <td>0.000000</td>\n    </tr>\n    <tr>\n      <th>8</th>\n      <td>0.000000</td>\n    </tr>\n    <tr>\n      <th>›</th>\n      <td>0.000000</td>\n    </tr>\n  </tbody>\n</table>\n<p>131 rows × 1 columns</p>\n</div>"
     },
     "execution_count": 25,
     "metadata": {},
     "output_type": "execute_result"
    }
   ],
   "source": [
    "df=pd.DataFrame(first_document_vector.T.todense(),index=vectorizer.get_feature_names(),columns=['TF-IDF'])\n",
    "df.sort_values(by=['TF-IDF'],ascending=False)"
   ]
  },
  {
   "cell_type": "code",
   "execution_count": 25,
   "metadata": {},
   "outputs": [],
   "source": []
  },
  {
   "cell_type": "markdown",
   "metadata": {},
   "source": [
    "#### split data into train & test\n",
    "    train---> To learn the relationship within data, \n",
    "    test-->  To do predictions, and this testing data will be unseen to my model"
   ]
  },
  {
   "cell_type": "code",
   "execution_count": 26,
   "metadata": {},
   "outputs": [],
   "source": [
    "from sklearn.model_selection import train_test_split"
   ]
  },
  {
   "cell_type": "code",
   "execution_count": 27,
   "metadata": {},
   "outputs": [],
   "source": [
    "X_train, X_test, y_train, y_test=train_test_split(X,y,test_size=0.2)"
   ]
  },
  {
   "cell_type": "code",
   "execution_count": 28,
   "metadata": {},
   "outputs": [
    {
     "data": {
      "text/plain": "(535711, 131)"
     },
     "execution_count": 28,
     "metadata": {},
     "output_type": "execute_result"
    }
   ],
   "source": [
    "X_train.shape"
   ]
  },
  {
   "cell_type": "code",
   "execution_count": 29,
   "metadata": {},
   "outputs": [],
   "source": [
    "from sklearn.linear_model import LogisticRegression"
   ]
  },
  {
   "cell_type": "code",
   "execution_count": 29,
   "metadata": {},
   "outputs": [],
   "source": []
  },
  {
   "cell_type": "markdown",
   "metadata": {},
   "source": [
    "#### Apply Logistic on data as use-cas is Classification"
   ]
  },
  {
   "cell_type": "code",
   "execution_count": 30,
   "metadata": {},
   "outputs": [],
   "source": [
    "clf=LogisticRegression(random_state=0,multi_class='multinomial')"
   ]
  },
  {
   "cell_type": "code",
   "execution_count": 31,
   "metadata": {},
   "outputs": [
    {
     "data": {
      "text/plain": "LogisticRegression(multi_class='multinomial', random_state=0)"
     },
     "execution_count": 31,
     "metadata": {},
     "output_type": "execute_result"
    }
   ],
   "source": [
    "clf.fit(X_train,y_train)"
   ]
  },
  {
   "cell_type": "code",
   "execution_count": 31,
   "metadata": {},
   "outputs": [],
   "source": []
  },
  {
   "cell_type": "markdown",
   "metadata": {},
   "source": [
    "#### doing prediction for specific custom data"
   ]
  },
  {
   "cell_type": "code",
   "execution_count": 32,
   "metadata": {},
   "outputs": [
    {
     "data": {
      "text/plain": "array([1])"
     },
     "execution_count": 32,
     "metadata": {},
     "output_type": "execute_result"
    }
   ],
   "source": [
    "dt=np.array(['%@123abcd'])\n",
    "pred=vectorizer.transform(dt)\n",
    "clf.predict(pred)"
   ]
  },
  {
   "cell_type": "code",
   "execution_count": 32,
   "metadata": {},
   "outputs": [],
   "source": []
  },
  {
   "cell_type": "markdown",
   "metadata": {},
   "source": [
    "#### doing prediction on X-Test data"
   ]
  },
  {
   "cell_type": "code",
   "execution_count": 33,
   "metadata": {},
   "outputs": [
    {
     "data": {
      "text/plain": "array([1, 1, 1, ..., 1, 1, 1])"
     },
     "execution_count": 33,
     "metadata": {},
     "output_type": "execute_result"
    }
   ],
   "source": [
    "y_pred=clf.predict(X_test)\n",
    "y_pred"
   ]
  },
  {
   "cell_type": "code",
   "execution_count": 33,
   "metadata": {},
   "outputs": [],
   "source": []
  },
  {
   "cell_type": "markdown",
   "metadata": {},
   "source": [
    "#### check Accuracy of your model using confusion_matrix,accuracy_score"
   ]
  },
  {
   "cell_type": "code",
   "execution_count": 34,
   "metadata": {},
   "outputs": [],
   "source": [
    "from sklearn.metrics import confusion_matrix,accuracy_score"
   ]
  },
  {
   "cell_type": "code",
   "execution_count": 35,
   "metadata": {},
   "outputs": [
    {
     "name": "stdout",
     "output_type": "stream",
     "text": [
      "[[ 5398 12739    11]\n",
      " [ 3881 92700  2505]\n",
      " [   37  5303 11354]]\n",
      "0.8172450869123709\n"
     ]
    }
   ],
   "source": [
    "cm=confusion_matrix(y_test,y_pred)\n",
    "print(cm)\n",
    "print(accuracy_score(y_test,y_pred))"
   ]
  },
  {
   "cell_type": "code",
   "execution_count": 35,
   "metadata": {},
   "outputs": [],
   "source": []
  },
  {
   "cell_type": "markdown",
   "metadata": {},
   "source": [
    "##### create report of your model"
   ]
  },
  {
   "cell_type": "code",
   "execution_count": 36,
   "metadata": {},
   "outputs": [
    {
     "name": "stdout",
     "output_type": "stream",
     "text": [
      "              precision    recall  f1-score   support\n",
      "\n",
      "           0       0.58      0.30      0.39     18148\n",
      "           1       0.84      0.94      0.88     99086\n",
      "           2       0.82      0.68      0.74     16694\n",
      "\n",
      "    accuracy                           0.82    133928\n",
      "   macro avg       0.75      0.64      0.67    133928\n",
      "weighted avg       0.80      0.82      0.80    133928\n",
      "\n"
     ]
    }
   ],
   "source": [
    "from sklearn.metrics import classification_report\n",
    "print(classification_report(y_test,y_pred))"
   ]
  },
  {
   "cell_type": "code",
   "execution_count": null,
   "metadata": {},
   "outputs": [],
   "source": []
  },
  {
   "cell_type": "code",
   "execution_count": null,
   "metadata": {},
   "outputs": [],
   "source": []
  }
 ],
 "metadata": {
  "kernelspec": {
   "name": "pycharm-10199dea",
   "language": "python",
   "display_name": "PyCharm (python-for-data-science-path)"
  },
  "language_info": {
   "codemirror_mode": {
    "name": "ipython",
    "version": 3
   },
   "file_extension": ".py",
   "mimetype": "text/x-python",
   "name": "python",
   "nbconvert_exporter": "python",
   "pygments_lexer": "ipython3",
   "version": "3.7.4"
  }
 },
 "nbformat": 4,
 "nbformat_minor": 2
}