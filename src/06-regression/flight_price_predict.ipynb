{
 "cells": [
  {
   "cell_type": "code",
   "execution_count": 7,
   "metadata": {},
   "outputs": [],
   "source": [
    "import pandas as pd\n",
    "import numpy as np\n",
    "import matplotlib.pyplot as plt\n",
    "import seaborn as sns"
   ]
  },
  {
   "cell_type": "markdown",
   "metadata": {},
   "source": [
    "#### Importing dataset\n",
    "    1.Since data is in form of excel file we have to use pandas read_excel to load the data\n",
    "    2.After loading it is important to check null values in a column or a row\n",
    "    3.If it is present then following can be done,\n",
    "        a.Filling NaN values with mean, median and mode using fillna() method\n",
    "        b.If Less missing values, we can drop it as well\n"
   ]
  },
  {
   "cell_type": "code",
   "execution_count": 8,
   "metadata": {},
   "outputs": [],
   "source": [
    "train_data=pd.read_excel('flights.xlsx')"
   ]
  },
  {
   "cell_type": "code",
   "execution_count": 10,
   "metadata": {},
   "outputs": [
    {
     "data": {
      "text/plain": "       Airline Date_of_Journey    Source Destination                  Route  \\\n0       IndiGo      24/03/2019  Banglore   New Delhi              BLR → DEL   \n1    Air India       1/05/2019   Kolkata    Banglore  CCU → IXR → BBI → BLR   \n2  Jet Airways       9/06/2019     Delhi      Cochin  DEL → LKO → BOM → COK   \n3       IndiGo      12/05/2019   Kolkata    Banglore        CCU → NAG → BLR   \n4       IndiGo      01/03/2019  Banglore   New Delhi        BLR → NAG → DEL   \n\n  Dep_Time  Arrival_Time Duration Total_Stops Additional_Info  Price  \n0    22:20  01:10 22 Mar   2h 50m    non-stop         No info   3897  \n1    05:50         13:15   7h 25m     2 stops         No info   7662  \n2    09:25  04:25 10 Jun      19h     2 stops         No info  13882  \n3    18:05         23:30   5h 25m      1 stop         No info   6218  \n4    16:50         21:35   4h 45m      1 stop         No info  13302  ",
      "text/html": "<div>\n<style scoped>\n    .dataframe tbody tr th:only-of-type {\n        vertical-align: middle;\n    }\n\n    .dataframe tbody tr th {\n        vertical-align: top;\n    }\n\n    .dataframe thead th {\n        text-align: right;\n    }\n</style>\n<table border=\"1\" class=\"dataframe\">\n  <thead>\n    <tr style=\"text-align: right;\">\n      <th></th>\n      <th>Airline</th>\n      <th>Date_of_Journey</th>\n      <th>Source</th>\n      <th>Destination</th>\n      <th>Route</th>\n      <th>Dep_Time</th>\n      <th>Arrival_Time</th>\n      <th>Duration</th>\n      <th>Total_Stops</th>\n      <th>Additional_Info</th>\n      <th>Price</th>\n    </tr>\n  </thead>\n  <tbody>\n    <tr>\n      <th>0</th>\n      <td>IndiGo</td>\n      <td>24/03/2019</td>\n      <td>Banglore</td>\n      <td>New Delhi</td>\n      <td>BLR → DEL</td>\n      <td>22:20</td>\n      <td>01:10 22 Mar</td>\n      <td>2h 50m</td>\n      <td>non-stop</td>\n      <td>No info</td>\n      <td>3897</td>\n    </tr>\n    <tr>\n      <th>1</th>\n      <td>Air India</td>\n      <td>1/05/2019</td>\n      <td>Kolkata</td>\n      <td>Banglore</td>\n      <td>CCU → IXR → BBI → BLR</td>\n      <td>05:50</td>\n      <td>13:15</td>\n      <td>7h 25m</td>\n      <td>2 stops</td>\n      <td>No info</td>\n      <td>7662</td>\n    </tr>\n    <tr>\n      <th>2</th>\n      <td>Jet Airways</td>\n      <td>9/06/2019</td>\n      <td>Delhi</td>\n      <td>Cochin</td>\n      <td>DEL → LKO → BOM → COK</td>\n      <td>09:25</td>\n      <td>04:25 10 Jun</td>\n      <td>19h</td>\n      <td>2 stops</td>\n      <td>No info</td>\n      <td>13882</td>\n    </tr>\n    <tr>\n      <th>3</th>\n      <td>IndiGo</td>\n      <td>12/05/2019</td>\n      <td>Kolkata</td>\n      <td>Banglore</td>\n      <td>CCU → NAG → BLR</td>\n      <td>18:05</td>\n      <td>23:30</td>\n      <td>5h 25m</td>\n      <td>1 stop</td>\n      <td>No info</td>\n      <td>6218</td>\n    </tr>\n    <tr>\n      <th>4</th>\n      <td>IndiGo</td>\n      <td>01/03/2019</td>\n      <td>Banglore</td>\n      <td>New Delhi</td>\n      <td>BLR → NAG → DEL</td>\n      <td>16:50</td>\n      <td>21:35</td>\n      <td>4h 45m</td>\n      <td>1 stop</td>\n      <td>No info</td>\n      <td>13302</td>\n    </tr>\n  </tbody>\n</table>\n</div>"
     },
     "execution_count": 10,
     "metadata": {},
     "output_type": "execute_result"
    }
   ],
   "source": [
    "train_data.head()"
   ]
  },
  {
   "cell_type": "code",
   "execution_count": 11,
   "metadata": {},
   "outputs": [
    {
     "name": "stdout",
     "output_type": "stream",
     "text": [
      "<class 'pandas.core.frame.DataFrame'>\n",
      "RangeIndex: 10683 entries, 0 to 10682\n",
      "Data columns (total 11 columns):\n",
      " #   Column           Non-Null Count  Dtype \n",
      "---  ------           --------------  ----- \n",
      " 0   Airline          10683 non-null  object\n",
      " 1   Date_of_Journey  10683 non-null  object\n",
      " 2   Source           10683 non-null  object\n",
      " 3   Destination      10683 non-null  object\n",
      " 4   Route            10682 non-null  object\n",
      " 5   Dep_Time         10683 non-null  object\n",
      " 6   Arrival_Time     10683 non-null  object\n",
      " 7   Duration         10683 non-null  object\n",
      " 8   Total_Stops      10682 non-null  object\n",
      " 9   Additional_Info  10683 non-null  object\n",
      " 10  Price            10683 non-null  int64 \n",
      "dtypes: int64(1), object(10)\n",
      "memory usage: 918.2+ KB\n"
     ]
    }
   ],
   "source": [
    "train_data.info()"
   ]
  },
  {
   "cell_type": "code",
   "execution_count": 12,
   "metadata": {},
   "outputs": [
    {
     "data": {
      "text/plain": "Airline            0\nDate_of_Journey    0\nSource             0\nDestination        0\nRoute              1\nDep_Time           0\nArrival_Time       0\nDuration           0\nTotal_Stops        1\nAdditional_Info    0\nPrice              0\ndtype: int64"
     },
     "execution_count": 12,
     "metadata": {},
     "output_type": "execute_result"
    }
   ],
   "source": [
    "train_data.isnull().sum()"
   ]
  },
  {
   "cell_type": "markdown",
   "metadata": {},
   "source": [
    "#### as less missing values,I can directly drop these"
   ]
  },
  {
   "cell_type": "code",
   "execution_count": 13,
   "metadata": {},
   "outputs": [],
   "source": [
    "train_data.dropna(inplace=True)"
   ]
  },
  {
   "cell_type": "code",
   "execution_count": 14,
   "metadata": {},
   "outputs": [
    {
     "data": {
      "text/plain": "Airline            0\nDate_of_Journey    0\nSource             0\nDestination        0\nRoute              0\nDep_Time           0\nArrival_Time       0\nDuration           0\nTotal_Stops        0\nAdditional_Info    0\nPrice              0\ndtype: int64"
     },
     "execution_count": 14,
     "metadata": {},
     "output_type": "execute_result"
    }
   ],
   "source": [
    "train_data.isnull().sum()"
   ]
  },
  {
   "cell_type": "code",
   "execution_count": 15,
   "metadata": {},
   "outputs": [
    {
     "data": {
      "text/plain": "Airline            object\nDate_of_Journey    object\nSource             object\nDestination        object\nRoute              object\nDep_Time           object\nArrival_Time       object\nDuration           object\nTotal_Stops        object\nAdditional_Info    object\nPrice               int64\ndtype: object"
     },
     "execution_count": 15,
     "metadata": {},
     "output_type": "execute_result"
    }
   ],
   "source": [
    "train_data.dtypes"
   ]
  },
  {
   "cell_type": "code",
   "execution_count": 15,
   "metadata": {},
   "outputs": [],
   "source": []
  },
  {
   "cell_type": "markdown",
   "metadata": {},
   "source": [
    "#### From description we can see that Date_of_Journey is a object data type,\n",
    "     Therefore, we have to convert this datatype into timestamp so as to use this column properly for prediction,bcz our \n",
    "     model will not be able to understand Theses string values,it just understand Time-stamp\n",
    "    For this we require pandas to_datetime to convert object data type to datetime dtype.\n",
    "\n",
    "\n",
    "    dt.day method will extract only day of that date\n",
    "    dt.month method will extract only month of that date"
   ]
  },
  {
   "cell_type": "code",
   "execution_count": 16,
   "metadata": {},
   "outputs": [],
   "source": [
    "def change_into_datetime(col):\n",
    "    train_data[col]=pd.to_datetime(train_data[col])\n",
    "    "
   ]
  },
  {
   "cell_type": "code",
   "execution_count": 17,
   "metadata": {},
   "outputs": [
    {
     "data": {
      "text/plain": "Index(['Airline', 'Date_of_Journey', 'Source', 'Destination', 'Route',\n       'Dep_Time', 'Arrival_Time', 'Duration', 'Total_Stops',\n       'Additional_Info', 'Price'],\n      dtype='object')"
     },
     "execution_count": 17,
     "metadata": {},
     "output_type": "execute_result"
    }
   ],
   "source": [
    "train_data.columns"
   ]
  },
  {
   "cell_type": "code",
   "execution_count": 18,
   "metadata": {},
   "outputs": [],
   "source": [
    "for i in ['Date_of_Journey','Dep_Time', 'Arrival_Time']:\n",
    "    change_into_datetime(i)"
   ]
  },
  {
   "cell_type": "code",
   "execution_count": 19,
   "metadata": {},
   "outputs": [
    {
     "data": {
      "text/plain": "Airline                    object\nDate_of_Journey    datetime64[ns]\nSource                     object\nDestination                object\nRoute                      object\nDep_Time           datetime64[ns]\nArrival_Time       datetime64[ns]\nDuration                   object\nTotal_Stops                object\nAdditional_Info            object\nPrice                       int64\ndtype: object"
     },
     "execution_count": 19,
     "metadata": {},
     "output_type": "execute_result"
    }
   ],
   "source": [
    "train_data.dtypes"
   ]
  },
  {
   "cell_type": "code",
   "execution_count": 19,
   "metadata": {},
   "outputs": [],
   "source": []
  },
  {
   "cell_type": "code",
   "execution_count": 19,
   "metadata": {},
   "outputs": [],
   "source": []
  },
  {
   "cell_type": "code",
   "execution_count": 20,
   "metadata": {},
   "outputs": [],
   "source": [
    "train_data['Journey_day']=train_data['Date_of_Journey'].dt.day"
   ]
  },
  {
   "cell_type": "code",
   "execution_count": 21,
   "metadata": {},
   "outputs": [],
   "source": [
    "train_data['Journey_month']=train_data['Date_of_Journey'].dt.month"
   ]
  },
  {
   "cell_type": "code",
   "execution_count": 22,
   "metadata": {},
   "outputs": [
    {
     "data": {
      "text/plain": "       Airline Date_of_Journey    Source Destination                  Route  \\\n0       IndiGo      2019-03-24  Banglore   New Delhi              BLR → DEL   \n1    Air India      2019-01-05   Kolkata    Banglore  CCU → IXR → BBI → BLR   \n2  Jet Airways      2019-09-06     Delhi      Cochin  DEL → LKO → BOM → COK   \n3       IndiGo      2019-12-05   Kolkata    Banglore        CCU → NAG → BLR   \n4       IndiGo      2019-01-03  Banglore   New Delhi        BLR → NAG → DEL   \n\n             Dep_Time        Arrival_Time Duration Total_Stops  \\\n0 2022-01-14 22:20:00 2022-03-22 01:10:00   2h 50m    non-stop   \n1 2022-01-14 05:50:00 2022-01-14 13:15:00   7h 25m     2 stops   \n2 2022-01-14 09:25:00 2022-06-10 04:25:00      19h     2 stops   \n3 2022-01-14 18:05:00 2022-01-14 23:30:00   5h 25m      1 stop   \n4 2022-01-14 16:50:00 2022-01-14 21:35:00   4h 45m      1 stop   \n\n  Additional_Info  Price  Journey_day  Journey_month  \n0         No info   3897           24              3  \n1         No info   7662            5              1  \n2         No info  13882            6              9  \n3         No info   6218            5             12  \n4         No info  13302            3              1  ",
      "text/html": "<div>\n<style scoped>\n    .dataframe tbody tr th:only-of-type {\n        vertical-align: middle;\n    }\n\n    .dataframe tbody tr th {\n        vertical-align: top;\n    }\n\n    .dataframe thead th {\n        text-align: right;\n    }\n</style>\n<table border=\"1\" class=\"dataframe\">\n  <thead>\n    <tr style=\"text-align: right;\">\n      <th></th>\n      <th>Airline</th>\n      <th>Date_of_Journey</th>\n      <th>Source</th>\n      <th>Destination</th>\n      <th>Route</th>\n      <th>Dep_Time</th>\n      <th>Arrival_Time</th>\n      <th>Duration</th>\n      <th>Total_Stops</th>\n      <th>Additional_Info</th>\n      <th>Price</th>\n      <th>Journey_day</th>\n      <th>Journey_month</th>\n    </tr>\n  </thead>\n  <tbody>\n    <tr>\n      <th>0</th>\n      <td>IndiGo</td>\n      <td>2019-03-24</td>\n      <td>Banglore</td>\n      <td>New Delhi</td>\n      <td>BLR → DEL</td>\n      <td>2022-01-14 22:20:00</td>\n      <td>2022-03-22 01:10:00</td>\n      <td>2h 50m</td>\n      <td>non-stop</td>\n      <td>No info</td>\n      <td>3897</td>\n      <td>24</td>\n      <td>3</td>\n    </tr>\n    <tr>\n      <th>1</th>\n      <td>Air India</td>\n      <td>2019-01-05</td>\n      <td>Kolkata</td>\n      <td>Banglore</td>\n      <td>CCU → IXR → BBI → BLR</td>\n      <td>2022-01-14 05:50:00</td>\n      <td>2022-01-14 13:15:00</td>\n      <td>7h 25m</td>\n      <td>2 stops</td>\n      <td>No info</td>\n      <td>7662</td>\n      <td>5</td>\n      <td>1</td>\n    </tr>\n    <tr>\n      <th>2</th>\n      <td>Jet Airways</td>\n      <td>2019-09-06</td>\n      <td>Delhi</td>\n      <td>Cochin</td>\n      <td>DEL → LKO → BOM → COK</td>\n      <td>2022-01-14 09:25:00</td>\n      <td>2022-06-10 04:25:00</td>\n      <td>19h</td>\n      <td>2 stops</td>\n      <td>No info</td>\n      <td>13882</td>\n      <td>6</td>\n      <td>9</td>\n    </tr>\n    <tr>\n      <th>3</th>\n      <td>IndiGo</td>\n      <td>2019-12-05</td>\n      <td>Kolkata</td>\n      <td>Banglore</td>\n      <td>CCU → NAG → BLR</td>\n      <td>2022-01-14 18:05:00</td>\n      <td>2022-01-14 23:30:00</td>\n      <td>5h 25m</td>\n      <td>1 stop</td>\n      <td>No info</td>\n      <td>6218</td>\n      <td>5</td>\n      <td>12</td>\n    </tr>\n    <tr>\n      <th>4</th>\n      <td>IndiGo</td>\n      <td>2019-01-03</td>\n      <td>Banglore</td>\n      <td>New Delhi</td>\n      <td>BLR → NAG → DEL</td>\n      <td>2022-01-14 16:50:00</td>\n      <td>2022-01-14 21:35:00</td>\n      <td>4h 45m</td>\n      <td>1 stop</td>\n      <td>No info</td>\n      <td>13302</td>\n      <td>3</td>\n      <td>1</td>\n    </tr>\n  </tbody>\n</table>\n</div>"
     },
     "execution_count": 22,
     "metadata": {},
     "output_type": "execute_result"
    }
   ],
   "source": [
    "train_data.head()"
   ]
  },
  {
   "cell_type": "code",
   "execution_count": null,
   "metadata": {},
   "outputs": [],
   "source": []
  },
  {
   "cell_type": "code",
   "execution_count": 23,
   "metadata": {},
   "outputs": [],
   "source": [
    "## Since we have converted Date_of_Journey column into integers, Now we can drop as it is of no use.\n",
    "train_data.drop('Date_of_Journey', axis=1, inplace=True)"
   ]
  },
  {
   "cell_type": "code",
   "execution_count": 23,
   "metadata": {},
   "outputs": [],
   "source": []
  },
  {
   "cell_type": "code",
   "execution_count": 23,
   "metadata": {},
   "outputs": [],
   "source": []
  },
  {
   "cell_type": "code",
   "execution_count": 24,
   "metadata": {},
   "outputs": [
    {
     "data": {
      "text/plain": "       Airline    Source Destination                  Route  \\\n0       IndiGo  Banglore   New Delhi              BLR → DEL   \n1    Air India   Kolkata    Banglore  CCU → IXR → BBI → BLR   \n2  Jet Airways     Delhi      Cochin  DEL → LKO → BOM → COK   \n3       IndiGo   Kolkata    Banglore        CCU → NAG → BLR   \n4       IndiGo  Banglore   New Delhi        BLR → NAG → DEL   \n\n             Dep_Time        Arrival_Time Duration Total_Stops  \\\n0 2022-01-14 22:20:00 2022-03-22 01:10:00   2h 50m    non-stop   \n1 2022-01-14 05:50:00 2022-01-14 13:15:00   7h 25m     2 stops   \n2 2022-01-14 09:25:00 2022-06-10 04:25:00      19h     2 stops   \n3 2022-01-14 18:05:00 2022-01-14 23:30:00   5h 25m      1 stop   \n4 2022-01-14 16:50:00 2022-01-14 21:35:00   4h 45m      1 stop   \n\n  Additional_Info  Price  Journey_day  Journey_month  \n0         No info   3897           24              3  \n1         No info   7662            5              1  \n2         No info  13882            6              9  \n3         No info   6218            5             12  \n4         No info  13302            3              1  ",
      "text/html": "<div>\n<style scoped>\n    .dataframe tbody tr th:only-of-type {\n        vertical-align: middle;\n    }\n\n    .dataframe tbody tr th {\n        vertical-align: top;\n    }\n\n    .dataframe thead th {\n        text-align: right;\n    }\n</style>\n<table border=\"1\" class=\"dataframe\">\n  <thead>\n    <tr style=\"text-align: right;\">\n      <th></th>\n      <th>Airline</th>\n      <th>Source</th>\n      <th>Destination</th>\n      <th>Route</th>\n      <th>Dep_Time</th>\n      <th>Arrival_Time</th>\n      <th>Duration</th>\n      <th>Total_Stops</th>\n      <th>Additional_Info</th>\n      <th>Price</th>\n      <th>Journey_day</th>\n      <th>Journey_month</th>\n    </tr>\n  </thead>\n  <tbody>\n    <tr>\n      <th>0</th>\n      <td>IndiGo</td>\n      <td>Banglore</td>\n      <td>New Delhi</td>\n      <td>BLR → DEL</td>\n      <td>2022-01-14 22:20:00</td>\n      <td>2022-03-22 01:10:00</td>\n      <td>2h 50m</td>\n      <td>non-stop</td>\n      <td>No info</td>\n      <td>3897</td>\n      <td>24</td>\n      <td>3</td>\n    </tr>\n    <tr>\n      <th>1</th>\n      <td>Air India</td>\n      <td>Kolkata</td>\n      <td>Banglore</td>\n      <td>CCU → IXR → BBI → BLR</td>\n      <td>2022-01-14 05:50:00</td>\n      <td>2022-01-14 13:15:00</td>\n      <td>7h 25m</td>\n      <td>2 stops</td>\n      <td>No info</td>\n      <td>7662</td>\n      <td>5</td>\n      <td>1</td>\n    </tr>\n    <tr>\n      <th>2</th>\n      <td>Jet Airways</td>\n      <td>Delhi</td>\n      <td>Cochin</td>\n      <td>DEL → LKO → BOM → COK</td>\n      <td>2022-01-14 09:25:00</td>\n      <td>2022-06-10 04:25:00</td>\n      <td>19h</td>\n      <td>2 stops</td>\n      <td>No info</td>\n      <td>13882</td>\n      <td>6</td>\n      <td>9</td>\n    </tr>\n    <tr>\n      <th>3</th>\n      <td>IndiGo</td>\n      <td>Kolkata</td>\n      <td>Banglore</td>\n      <td>CCU → NAG → BLR</td>\n      <td>2022-01-14 18:05:00</td>\n      <td>2022-01-14 23:30:00</td>\n      <td>5h 25m</td>\n      <td>1 stop</td>\n      <td>No info</td>\n      <td>6218</td>\n      <td>5</td>\n      <td>12</td>\n    </tr>\n    <tr>\n      <th>4</th>\n      <td>IndiGo</td>\n      <td>Banglore</td>\n      <td>New Delhi</td>\n      <td>BLR → NAG → DEL</td>\n      <td>2022-01-14 16:50:00</td>\n      <td>2022-01-14 21:35:00</td>\n      <td>4h 45m</td>\n      <td>1 stop</td>\n      <td>No info</td>\n      <td>13302</td>\n      <td>3</td>\n      <td>1</td>\n    </tr>\n  </tbody>\n</table>\n</div>"
     },
     "execution_count": 24,
     "metadata": {},
     "output_type": "execute_result"
    }
   ],
   "source": [
    "train_data.head()"
   ]
  },
  {
   "cell_type": "code",
   "execution_count": null,
   "metadata": {},
   "outputs": [],
   "source": []
  },
  {
   "cell_type": "code",
   "execution_count": 25,
   "metadata": {},
   "outputs": [],
   "source": [
    "def extract_hour(df,col):\n",
    "    df[col+\"_hour\"]=df[col].dt.hour"
   ]
  },
  {
   "cell_type": "code",
   "execution_count": 26,
   "metadata": {},
   "outputs": [],
   "source": [
    "def extract_min(df,col):\n",
    "    df[col+\"_minute\"]=df[col].dt.minute"
   ]
  },
  {
   "cell_type": "code",
   "execution_count": 27,
   "metadata": {},
   "outputs": [],
   "source": [
    "def drop_column(df,col):\n",
    "    df.drop(col,axis=1,inplace=True)"
   ]
  },
  {
   "cell_type": "code",
   "execution_count": 27,
   "metadata": {},
   "outputs": [],
   "source": []
  },
  {
   "cell_type": "code",
   "execution_count": 28,
   "metadata": {},
   "outputs": [],
   "source": [
    "# Departure time is when a plane leaves the gate. \n",
    "# Similar to Date_of_Journey we can extract values from Dep_Time\n",
    "extract_hour(train_data,'Dep_Time')"
   ]
  },
  {
   "cell_type": "code",
   "execution_count": 29,
   "metadata": {},
   "outputs": [],
   "source": [
    "# Extracting Minutes\n",
    "extract_min(train_data,'Dep_Time')"
   ]
  },
  {
   "cell_type": "code",
   "execution_count": 23,
   "metadata": {},
   "outputs": [],
   "source": [
    "# Now we can drop Dep_Time as it is of no use\n",
    "drop_column(train_data,'Dep_Time')"
   ]
  },
  {
   "cell_type": "code",
   "execution_count": 30,
   "metadata": {},
   "outputs": [
    {
     "data": {
      "text/plain": "       Airline    Source Destination                  Route  \\\n0       IndiGo  Banglore   New Delhi              BLR → DEL   \n1    Air India   Kolkata    Banglore  CCU → IXR → BBI → BLR   \n2  Jet Airways     Delhi      Cochin  DEL → LKO → BOM → COK   \n3       IndiGo   Kolkata    Banglore        CCU → NAG → BLR   \n4       IndiGo  Banglore   New Delhi        BLR → NAG → DEL   \n\n             Dep_Time        Arrival_Time Duration Total_Stops  \\\n0 2022-01-14 22:20:00 2022-03-22 01:10:00   2h 50m    non-stop   \n1 2022-01-14 05:50:00 2022-01-14 13:15:00   7h 25m     2 stops   \n2 2022-01-14 09:25:00 2022-06-10 04:25:00      19h     2 stops   \n3 2022-01-14 18:05:00 2022-01-14 23:30:00   5h 25m      1 stop   \n4 2022-01-14 16:50:00 2022-01-14 21:35:00   4h 45m      1 stop   \n\n  Additional_Info  Price  Journey_day  Journey_month  Dep_Time_hour  \\\n0         No info   3897           24              3             22   \n1         No info   7662            5              1              5   \n2         No info  13882            6              9              9   \n3         No info   6218            5             12             18   \n4         No info  13302            3              1             16   \n\n   Dep_Time_minute  \n0               20  \n1               50  \n2               25  \n3                5  \n4               50  ",
      "text/html": "<div>\n<style scoped>\n    .dataframe tbody tr th:only-of-type {\n        vertical-align: middle;\n    }\n\n    .dataframe tbody tr th {\n        vertical-align: top;\n    }\n\n    .dataframe thead th {\n        text-align: right;\n    }\n</style>\n<table border=\"1\" class=\"dataframe\">\n  <thead>\n    <tr style=\"text-align: right;\">\n      <th></th>\n      <th>Airline</th>\n      <th>Source</th>\n      <th>Destination</th>\n      <th>Route</th>\n      <th>Dep_Time</th>\n      <th>Arrival_Time</th>\n      <th>Duration</th>\n      <th>Total_Stops</th>\n      <th>Additional_Info</th>\n      <th>Price</th>\n      <th>Journey_day</th>\n      <th>Journey_month</th>\n      <th>Dep_Time_hour</th>\n      <th>Dep_Time_minute</th>\n    </tr>\n  </thead>\n  <tbody>\n    <tr>\n      <th>0</th>\n      <td>IndiGo</td>\n      <td>Banglore</td>\n      <td>New Delhi</td>\n      <td>BLR → DEL</td>\n      <td>2022-01-14 22:20:00</td>\n      <td>2022-03-22 01:10:00</td>\n      <td>2h 50m</td>\n      <td>non-stop</td>\n      <td>No info</td>\n      <td>3897</td>\n      <td>24</td>\n      <td>3</td>\n      <td>22</td>\n      <td>20</td>\n    </tr>\n    <tr>\n      <th>1</th>\n      <td>Air India</td>\n      <td>Kolkata</td>\n      <td>Banglore</td>\n      <td>CCU → IXR → BBI → BLR</td>\n      <td>2022-01-14 05:50:00</td>\n      <td>2022-01-14 13:15:00</td>\n      <td>7h 25m</td>\n      <td>2 stops</td>\n      <td>No info</td>\n      <td>7662</td>\n      <td>5</td>\n      <td>1</td>\n      <td>5</td>\n      <td>50</td>\n    </tr>\n    <tr>\n      <th>2</th>\n      <td>Jet Airways</td>\n      <td>Delhi</td>\n      <td>Cochin</td>\n      <td>DEL → LKO → BOM → COK</td>\n      <td>2022-01-14 09:25:00</td>\n      <td>2022-06-10 04:25:00</td>\n      <td>19h</td>\n      <td>2 stops</td>\n      <td>No info</td>\n      <td>13882</td>\n      <td>6</td>\n      <td>9</td>\n      <td>9</td>\n      <td>25</td>\n    </tr>\n    <tr>\n      <th>3</th>\n      <td>IndiGo</td>\n      <td>Kolkata</td>\n      <td>Banglore</td>\n      <td>CCU → NAG → BLR</td>\n      <td>2022-01-14 18:05:00</td>\n      <td>2022-01-14 23:30:00</td>\n      <td>5h 25m</td>\n      <td>1 stop</td>\n      <td>No info</td>\n      <td>6218</td>\n      <td>5</td>\n      <td>12</td>\n      <td>18</td>\n      <td>5</td>\n    </tr>\n    <tr>\n      <th>4</th>\n      <td>IndiGo</td>\n      <td>Banglore</td>\n      <td>New Delhi</td>\n      <td>BLR → NAG → DEL</td>\n      <td>2022-01-14 16:50:00</td>\n      <td>2022-01-14 21:35:00</td>\n      <td>4h 45m</td>\n      <td>1 stop</td>\n      <td>No info</td>\n      <td>13302</td>\n      <td>3</td>\n      <td>1</td>\n      <td>16</td>\n      <td>50</td>\n    </tr>\n  </tbody>\n</table>\n</div>"
     },
     "execution_count": 30,
     "metadata": {},
     "output_type": "execute_result"
    }
   ],
   "source": [
    "train_data.head()"
   ]
  },
  {
   "cell_type": "code",
   "execution_count": null,
   "metadata": {},
   "outputs": [],
   "source": []
  },
  {
   "cell_type": "code",
   "execution_count": 25,
   "metadata": {},
   "outputs": [],
   "source": [
    "# Arrival time is when the plane pulls up to the gate.\n",
    "# Similar to Date_of_Journey we can extract values from Arrival_Time\n",
    "\n",
    "# Extracting Hours\n",
    "extract_hour(train_data,'Arrival_Time')\n",
    "\n",
    "# Extracting minutes\n",
    "extract_min(train_data,'Arrival_Time')\n",
    "\n",
    "# Now we can drop Arrival_Time as it is of no use\n",
    "drop_column(train_data,'Arrival_Time')"
   ]
  },
  {
   "cell_type": "code",
   "execution_count": 33,
   "metadata": {},
   "outputs": [
    {
     "data": {
      "text/plain": "     Airline    Source Destination                  Route            Dep_Time  \\\n0     IndiGo  Banglore   New Delhi              BLR → DEL 2022-01-14 22:20:00   \n1  Air India   Kolkata    Banglore  CCU → IXR → BBI → BLR 2022-01-14 05:50:00   \n\n         Arrival_Time Duration Total_Stops Additional_Info  Price  \\\n0 2022-03-22 01:10:00   2h 50m    non-stop         No info   3897   \n1 2022-01-14 13:15:00   7h 25m     2 stops         No info   7662   \n\n   Journey_day  Journey_month  Dep_Time_hour  Dep_Time_minute  \n0           24              3             22               20  \n1            5              1              5               50  ",
      "text/html": "<div>\n<style scoped>\n    .dataframe tbody tr th:only-of-type {\n        vertical-align: middle;\n    }\n\n    .dataframe tbody tr th {\n        vertical-align: top;\n    }\n\n    .dataframe thead th {\n        text-align: right;\n    }\n</style>\n<table border=\"1\" class=\"dataframe\">\n  <thead>\n    <tr style=\"text-align: right;\">\n      <th></th>\n      <th>Airline</th>\n      <th>Source</th>\n      <th>Destination</th>\n      <th>Route</th>\n      <th>Dep_Time</th>\n      <th>Arrival_Time</th>\n      <th>Duration</th>\n      <th>Total_Stops</th>\n      <th>Additional_Info</th>\n      <th>Price</th>\n      <th>Journey_day</th>\n      <th>Journey_month</th>\n      <th>Dep_Time_hour</th>\n      <th>Dep_Time_minute</th>\n    </tr>\n  </thead>\n  <tbody>\n    <tr>\n      <th>0</th>\n      <td>IndiGo</td>\n      <td>Banglore</td>\n      <td>New Delhi</td>\n      <td>BLR → DEL</td>\n      <td>2022-01-14 22:20:00</td>\n      <td>2022-03-22 01:10:00</td>\n      <td>2h 50m</td>\n      <td>non-stop</td>\n      <td>No info</td>\n      <td>3897</td>\n      <td>24</td>\n      <td>3</td>\n      <td>22</td>\n      <td>20</td>\n    </tr>\n    <tr>\n      <th>1</th>\n      <td>Air India</td>\n      <td>Kolkata</td>\n      <td>Banglore</td>\n      <td>CCU → IXR → BBI → BLR</td>\n      <td>2022-01-14 05:50:00</td>\n      <td>2022-01-14 13:15:00</td>\n      <td>7h 25m</td>\n      <td>2 stops</td>\n      <td>No info</td>\n      <td>7662</td>\n      <td>5</td>\n      <td>1</td>\n      <td>5</td>\n      <td>50</td>\n    </tr>\n  </tbody>\n</table>\n</div>"
     },
     "execution_count": 33,
     "metadata": {},
     "output_type": "execute_result"
    }
   ],
   "source": [
    "train_data.head(2)"
   ]
  },
  {
   "cell_type": "code",
   "execution_count": null,
   "metadata": {},
   "outputs": [],
   "source": []
  },
  {
   "cell_type": "code",
   "execution_count": 32,
   "metadata": {},
   "outputs": [
    {
     "data": {
      "text/plain": "['2h', '50m']"
     },
     "execution_count": 32,
     "metadata": {},
     "output_type": "execute_result"
    }
   ],
   "source": [
    "'2h 50m'.split(' ')"
   ]
  },
  {
   "cell_type": "code",
   "execution_count": null,
   "metadata": {},
   "outputs": [],
   "source": []
  },
  {
   "cell_type": "markdown",
   "metadata": {},
   "source": [
    "#### Lets Apply pre-processing on duration column,Separate Duration hours and minute from duration"
   ]
  },
  {
   "cell_type": "code",
   "execution_count": 34,
   "metadata": {},
   "outputs": [],
   "source": [
    "duration=list(train_data['Duration'])\n",
    "\n",
    "for i in range(len(duration)):\n",
    "    if len(duration[i].split(' '))==2:\n",
    "        pass\n",
    "    else:\n",
    "        if 'h' in duration[i]:                   # Check if duration contains only hour\n",
    "            duration[i]=duration[i] + ' 0m'      # Adds 0 minute\n",
    "        else:\n",
    "            duration[i]='0h '+ duration[i]       # if duration contains only second, Adds 0 hour\n",
    "    "
   ]
  },
  {
   "cell_type": "code",
   "execution_count": 35,
   "metadata": {},
   "outputs": [],
   "source": [
    "train_data['Duration']=duration"
   ]
  },
  {
   "cell_type": "code",
   "execution_count": 37,
   "metadata": {},
   "outputs": [
    {
     "data": {
      "text/plain": "       Airline    Source Destination                  Route  \\\n0       IndiGo  Banglore   New Delhi              BLR → DEL   \n1    Air India   Kolkata    Banglore  CCU → IXR → BBI → BLR   \n2  Jet Airways     Delhi      Cochin  DEL → LKO → BOM → COK   \n3       IndiGo   Kolkata    Banglore        CCU → NAG → BLR   \n4       IndiGo  Banglore   New Delhi        BLR → NAG → DEL   \n\n             Dep_Time        Arrival_Time Duration Total_Stops  \\\n0 2022-01-14 22:20:00 2022-03-22 01:10:00   2h 50m    non-stop   \n1 2022-01-14 05:50:00 2022-01-14 13:15:00   7h 25m     2 stops   \n2 2022-01-14 09:25:00 2022-06-10 04:25:00   19h 0m     2 stops   \n3 2022-01-14 18:05:00 2022-01-14 23:30:00   5h 25m      1 stop   \n4 2022-01-14 16:50:00 2022-01-14 21:35:00   4h 45m      1 stop   \n\n  Additional_Info  Price  Journey_day  Journey_month  Dep_Time_hour  \\\n0         No info   3897           24              3             22   \n1         No info   7662            5              1              5   \n2         No info  13882            6              9              9   \n3         No info   6218            5             12             18   \n4         No info  13302            3              1             16   \n\n   Dep_Time_minute  \n0               20  \n1               50  \n2               25  \n3                5  \n4               50  ",
      "text/html": "<div>\n<style scoped>\n    .dataframe tbody tr th:only-of-type {\n        vertical-align: middle;\n    }\n\n    .dataframe tbody tr th {\n        vertical-align: top;\n    }\n\n    .dataframe thead th {\n        text-align: right;\n    }\n</style>\n<table border=\"1\" class=\"dataframe\">\n  <thead>\n    <tr style=\"text-align: right;\">\n      <th></th>\n      <th>Airline</th>\n      <th>Source</th>\n      <th>Destination</th>\n      <th>Route</th>\n      <th>Dep_Time</th>\n      <th>Arrival_Time</th>\n      <th>Duration</th>\n      <th>Total_Stops</th>\n      <th>Additional_Info</th>\n      <th>Price</th>\n      <th>Journey_day</th>\n      <th>Journey_month</th>\n      <th>Dep_Time_hour</th>\n      <th>Dep_Time_minute</th>\n    </tr>\n  </thead>\n  <tbody>\n    <tr>\n      <th>0</th>\n      <td>IndiGo</td>\n      <td>Banglore</td>\n      <td>New Delhi</td>\n      <td>BLR → DEL</td>\n      <td>2022-01-14 22:20:00</td>\n      <td>2022-03-22 01:10:00</td>\n      <td>2h 50m</td>\n      <td>non-stop</td>\n      <td>No info</td>\n      <td>3897</td>\n      <td>24</td>\n      <td>3</td>\n      <td>22</td>\n      <td>20</td>\n    </tr>\n    <tr>\n      <th>1</th>\n      <td>Air India</td>\n      <td>Kolkata</td>\n      <td>Banglore</td>\n      <td>CCU → IXR → BBI → BLR</td>\n      <td>2022-01-14 05:50:00</td>\n      <td>2022-01-14 13:15:00</td>\n      <td>7h 25m</td>\n      <td>2 stops</td>\n      <td>No info</td>\n      <td>7662</td>\n      <td>5</td>\n      <td>1</td>\n      <td>5</td>\n      <td>50</td>\n    </tr>\n    <tr>\n      <th>2</th>\n      <td>Jet Airways</td>\n      <td>Delhi</td>\n      <td>Cochin</td>\n      <td>DEL → LKO → BOM → COK</td>\n      <td>2022-01-14 09:25:00</td>\n      <td>2022-06-10 04:25:00</td>\n      <td>19h 0m</td>\n      <td>2 stops</td>\n      <td>No info</td>\n      <td>13882</td>\n      <td>6</td>\n      <td>9</td>\n      <td>9</td>\n      <td>25</td>\n    </tr>\n    <tr>\n      <th>3</th>\n      <td>IndiGo</td>\n      <td>Kolkata</td>\n      <td>Banglore</td>\n      <td>CCU → NAG → BLR</td>\n      <td>2022-01-14 18:05:00</td>\n      <td>2022-01-14 23:30:00</td>\n      <td>5h 25m</td>\n      <td>1 stop</td>\n      <td>No info</td>\n      <td>6218</td>\n      <td>5</td>\n      <td>12</td>\n      <td>18</td>\n      <td>5</td>\n    </tr>\n    <tr>\n      <th>4</th>\n      <td>IndiGo</td>\n      <td>Banglore</td>\n      <td>New Delhi</td>\n      <td>BLR → NAG → DEL</td>\n      <td>2022-01-14 16:50:00</td>\n      <td>2022-01-14 21:35:00</td>\n      <td>4h 45m</td>\n      <td>1 stop</td>\n      <td>No info</td>\n      <td>13302</td>\n      <td>3</td>\n      <td>1</td>\n      <td>16</td>\n      <td>50</td>\n    </tr>\n  </tbody>\n</table>\n</div>"
     },
     "execution_count": 37,
     "metadata": {},
     "output_type": "execute_result"
    }
   ],
   "source": [
    "train_data.head()"
   ]
  },
  {
   "cell_type": "code",
   "execution_count": 31,
   "metadata": {},
   "outputs": [
    {
     "data": {
      "text/plain": [
       "'50'"
      ]
     },
     "execution_count": 31,
     "metadata": {},
     "output_type": "execute_result"
    }
   ],
   "source": [
    "'2h 50m'.split(' ')[1][0:-1]"
   ]
  },
  {
   "cell_type": "code",
   "execution_count": null,
   "metadata": {},
   "outputs": [],
   "source": []
  },
  {
   "cell_type": "code",
   "execution_count": 38,
   "metadata": {},
   "outputs": [],
   "source": [
    "def hour(x):\n",
    "    return x.split(' ')[0][0:-1]\n"
   ]
  },
  {
   "cell_type": "code",
   "execution_count": 39,
   "metadata": {},
   "outputs": [],
   "source": [
    "def min(x):\n",
    "    return x.split(' ')[1][0:-1]"
   ]
  },
  {
   "cell_type": "code",
   "execution_count": 40,
   "metadata": {},
   "outputs": [],
   "source": [
    "train_data['Duration_hours']=train_data['Duration'].apply(hour)\n",
    "train_data['Duration_mins']=train_data['Duration'].apply(min)"
   ]
  },
  {
   "cell_type": "code",
   "execution_count": 41,
   "metadata": {},
   "outputs": [
    {
     "data": {
      "text/plain": "       Airline    Source Destination                  Route  \\\n0       IndiGo  Banglore   New Delhi              BLR → DEL   \n1    Air India   Kolkata    Banglore  CCU → IXR → BBI → BLR   \n2  Jet Airways     Delhi      Cochin  DEL → LKO → BOM → COK   \n3       IndiGo   Kolkata    Banglore        CCU → NAG → BLR   \n4       IndiGo  Banglore   New Delhi        BLR → NAG → DEL   \n\n             Dep_Time        Arrival_Time Duration Total_Stops  \\\n0 2022-01-14 22:20:00 2022-03-22 01:10:00   2h 50m    non-stop   \n1 2022-01-14 05:50:00 2022-01-14 13:15:00   7h 25m     2 stops   \n2 2022-01-14 09:25:00 2022-06-10 04:25:00   19h 0m     2 stops   \n3 2022-01-14 18:05:00 2022-01-14 23:30:00   5h 25m      1 stop   \n4 2022-01-14 16:50:00 2022-01-14 21:35:00   4h 45m      1 stop   \n\n  Additional_Info  Price  Journey_day  Journey_month  Dep_Time_hour  \\\n0         No info   3897           24              3             22   \n1         No info   7662            5              1              5   \n2         No info  13882            6              9              9   \n3         No info   6218            5             12             18   \n4         No info  13302            3              1             16   \n\n   Dep_Time_minute Duration_hours Duration_mins  \n0               20              2            50  \n1               50              7            25  \n2               25             19             0  \n3                5              5            25  \n4               50              4            45  ",
      "text/html": "<div>\n<style scoped>\n    .dataframe tbody tr th:only-of-type {\n        vertical-align: middle;\n    }\n\n    .dataframe tbody tr th {\n        vertical-align: top;\n    }\n\n    .dataframe thead th {\n        text-align: right;\n    }\n</style>\n<table border=\"1\" class=\"dataframe\">\n  <thead>\n    <tr style=\"text-align: right;\">\n      <th></th>\n      <th>Airline</th>\n      <th>Source</th>\n      <th>Destination</th>\n      <th>Route</th>\n      <th>Dep_Time</th>\n      <th>Arrival_Time</th>\n      <th>Duration</th>\n      <th>Total_Stops</th>\n      <th>Additional_Info</th>\n      <th>Price</th>\n      <th>Journey_day</th>\n      <th>Journey_month</th>\n      <th>Dep_Time_hour</th>\n      <th>Dep_Time_minute</th>\n      <th>Duration_hours</th>\n      <th>Duration_mins</th>\n    </tr>\n  </thead>\n  <tbody>\n    <tr>\n      <th>0</th>\n      <td>IndiGo</td>\n      <td>Banglore</td>\n      <td>New Delhi</td>\n      <td>BLR → DEL</td>\n      <td>2022-01-14 22:20:00</td>\n      <td>2022-03-22 01:10:00</td>\n      <td>2h 50m</td>\n      <td>non-stop</td>\n      <td>No info</td>\n      <td>3897</td>\n      <td>24</td>\n      <td>3</td>\n      <td>22</td>\n      <td>20</td>\n      <td>2</td>\n      <td>50</td>\n    </tr>\n    <tr>\n      <th>1</th>\n      <td>Air India</td>\n      <td>Kolkata</td>\n      <td>Banglore</td>\n      <td>CCU → IXR → BBI → BLR</td>\n      <td>2022-01-14 05:50:00</td>\n      <td>2022-01-14 13:15:00</td>\n      <td>7h 25m</td>\n      <td>2 stops</td>\n      <td>No info</td>\n      <td>7662</td>\n      <td>5</td>\n      <td>1</td>\n      <td>5</td>\n      <td>50</td>\n      <td>7</td>\n      <td>25</td>\n    </tr>\n    <tr>\n      <th>2</th>\n      <td>Jet Airways</td>\n      <td>Delhi</td>\n      <td>Cochin</td>\n      <td>DEL → LKO → BOM → COK</td>\n      <td>2022-01-14 09:25:00</td>\n      <td>2022-06-10 04:25:00</td>\n      <td>19h 0m</td>\n      <td>2 stops</td>\n      <td>No info</td>\n      <td>13882</td>\n      <td>6</td>\n      <td>9</td>\n      <td>9</td>\n      <td>25</td>\n      <td>19</td>\n      <td>0</td>\n    </tr>\n    <tr>\n      <th>3</th>\n      <td>IndiGo</td>\n      <td>Kolkata</td>\n      <td>Banglore</td>\n      <td>CCU → NAG → BLR</td>\n      <td>2022-01-14 18:05:00</td>\n      <td>2022-01-14 23:30:00</td>\n      <td>5h 25m</td>\n      <td>1 stop</td>\n      <td>No info</td>\n      <td>6218</td>\n      <td>5</td>\n      <td>12</td>\n      <td>18</td>\n      <td>5</td>\n      <td>5</td>\n      <td>25</td>\n    </tr>\n    <tr>\n      <th>4</th>\n      <td>IndiGo</td>\n      <td>Banglore</td>\n      <td>New Delhi</td>\n      <td>BLR → NAG → DEL</td>\n      <td>2022-01-14 16:50:00</td>\n      <td>2022-01-14 21:35:00</td>\n      <td>4h 45m</td>\n      <td>1 stop</td>\n      <td>No info</td>\n      <td>13302</td>\n      <td>3</td>\n      <td>1</td>\n      <td>16</td>\n      <td>50</td>\n      <td>4</td>\n      <td>45</td>\n    </tr>\n  </tbody>\n</table>\n</div>"
     },
     "execution_count": 41,
     "metadata": {},
     "output_type": "execute_result"
    }
   ],
   "source": [
    "train_data.head()"
   ]
  },
  {
   "cell_type": "code",
   "execution_count": 42,
   "metadata": {},
   "outputs": [],
   "source": [
    "train_data.drop('Duration',axis=1,inplace=True)"
   ]
  },
  {
   "cell_type": "code",
   "execution_count": 43,
   "metadata": {},
   "outputs": [
    {
     "data": {
      "text/plain": "       Airline    Source Destination                  Route  \\\n0       IndiGo  Banglore   New Delhi              BLR → DEL   \n1    Air India   Kolkata    Banglore  CCU → IXR → BBI → BLR   \n2  Jet Airways     Delhi      Cochin  DEL → LKO → BOM → COK   \n3       IndiGo   Kolkata    Banglore        CCU → NAG → BLR   \n4       IndiGo  Banglore   New Delhi        BLR → NAG → DEL   \n\n             Dep_Time        Arrival_Time Total_Stops Additional_Info  Price  \\\n0 2022-01-14 22:20:00 2022-03-22 01:10:00    non-stop         No info   3897   \n1 2022-01-14 05:50:00 2022-01-14 13:15:00     2 stops         No info   7662   \n2 2022-01-14 09:25:00 2022-06-10 04:25:00     2 stops         No info  13882   \n3 2022-01-14 18:05:00 2022-01-14 23:30:00      1 stop         No info   6218   \n4 2022-01-14 16:50:00 2022-01-14 21:35:00      1 stop         No info  13302   \n\n   Journey_day  Journey_month  Dep_Time_hour  Dep_Time_minute Duration_hours  \\\n0           24              3             22               20              2   \n1            5              1              5               50              7   \n2            6              9              9               25             19   \n3            5             12             18                5              5   \n4            3              1             16               50              4   \n\n  Duration_mins  \n0            50  \n1            25  \n2             0  \n3            25  \n4            45  ",
      "text/html": "<div>\n<style scoped>\n    .dataframe tbody tr th:only-of-type {\n        vertical-align: middle;\n    }\n\n    .dataframe tbody tr th {\n        vertical-align: top;\n    }\n\n    .dataframe thead th {\n        text-align: right;\n    }\n</style>\n<table border=\"1\" class=\"dataframe\">\n  <thead>\n    <tr style=\"text-align: right;\">\n      <th></th>\n      <th>Airline</th>\n      <th>Source</th>\n      <th>Destination</th>\n      <th>Route</th>\n      <th>Dep_Time</th>\n      <th>Arrival_Time</th>\n      <th>Total_Stops</th>\n      <th>Additional_Info</th>\n      <th>Price</th>\n      <th>Journey_day</th>\n      <th>Journey_month</th>\n      <th>Dep_Time_hour</th>\n      <th>Dep_Time_minute</th>\n      <th>Duration_hours</th>\n      <th>Duration_mins</th>\n    </tr>\n  </thead>\n  <tbody>\n    <tr>\n      <th>0</th>\n      <td>IndiGo</td>\n      <td>Banglore</td>\n      <td>New Delhi</td>\n      <td>BLR → DEL</td>\n      <td>2022-01-14 22:20:00</td>\n      <td>2022-03-22 01:10:00</td>\n      <td>non-stop</td>\n      <td>No info</td>\n      <td>3897</td>\n      <td>24</td>\n      <td>3</td>\n      <td>22</td>\n      <td>20</td>\n      <td>2</td>\n      <td>50</td>\n    </tr>\n    <tr>\n      <th>1</th>\n      <td>Air India</td>\n      <td>Kolkata</td>\n      <td>Banglore</td>\n      <td>CCU → IXR → BBI → BLR</td>\n      <td>2022-01-14 05:50:00</td>\n      <td>2022-01-14 13:15:00</td>\n      <td>2 stops</td>\n      <td>No info</td>\n      <td>7662</td>\n      <td>5</td>\n      <td>1</td>\n      <td>5</td>\n      <td>50</td>\n      <td>7</td>\n      <td>25</td>\n    </tr>\n    <tr>\n      <th>2</th>\n      <td>Jet Airways</td>\n      <td>Delhi</td>\n      <td>Cochin</td>\n      <td>DEL → LKO → BOM → COK</td>\n      <td>2022-01-14 09:25:00</td>\n      <td>2022-06-10 04:25:00</td>\n      <td>2 stops</td>\n      <td>No info</td>\n      <td>13882</td>\n      <td>6</td>\n      <td>9</td>\n      <td>9</td>\n      <td>25</td>\n      <td>19</td>\n      <td>0</td>\n    </tr>\n    <tr>\n      <th>3</th>\n      <td>IndiGo</td>\n      <td>Kolkata</td>\n      <td>Banglore</td>\n      <td>CCU → NAG → BLR</td>\n      <td>2022-01-14 18:05:00</td>\n      <td>2022-01-14 23:30:00</td>\n      <td>1 stop</td>\n      <td>No info</td>\n      <td>6218</td>\n      <td>5</td>\n      <td>12</td>\n      <td>18</td>\n      <td>5</td>\n      <td>5</td>\n      <td>25</td>\n    </tr>\n    <tr>\n      <th>4</th>\n      <td>IndiGo</td>\n      <td>Banglore</td>\n      <td>New Delhi</td>\n      <td>BLR → NAG → DEL</td>\n      <td>2022-01-14 16:50:00</td>\n      <td>2022-01-14 21:35:00</td>\n      <td>1 stop</td>\n      <td>No info</td>\n      <td>13302</td>\n      <td>3</td>\n      <td>1</td>\n      <td>16</td>\n      <td>50</td>\n      <td>4</td>\n      <td>45</td>\n    </tr>\n  </tbody>\n</table>\n</div>"
     },
     "execution_count": 43,
     "metadata": {},
     "output_type": "execute_result"
    }
   ],
   "source": [
    "train_data.head()"
   ]
  },
  {
   "cell_type": "code",
   "execution_count": 44,
   "metadata": {},
   "outputs": [
    {
     "data": {
      "text/plain": "Airline                    object\nSource                     object\nDestination                object\nRoute                      object\nDep_Time           datetime64[ns]\nArrival_Time       datetime64[ns]\nTotal_Stops                object\nAdditional_Info            object\nPrice                       int64\nJourney_day                 int64\nJourney_month               int64\nDep_Time_hour               int64\nDep_Time_minute             int64\nDuration_hours             object\nDuration_mins              object\ndtype: object"
     },
     "execution_count": 44,
     "metadata": {},
     "output_type": "execute_result"
    }
   ],
   "source": [
    "train_data.dtypes"
   ]
  },
  {
   "cell_type": "code",
   "execution_count": 45,
   "metadata": {},
   "outputs": [],
   "source": [
    "train_data['Duration_hours']=train_data['Duration_hours'].astype(int)\n",
    "train_data['Duration_mins']=train_data['Duration_mins'].astype(int)"
   ]
  },
  {
   "cell_type": "code",
   "execution_count": 46,
   "metadata": {},
   "outputs": [
    {
     "data": {
      "text/plain": "Airline                    object\nSource                     object\nDestination                object\nRoute                      object\nDep_Time           datetime64[ns]\nArrival_Time       datetime64[ns]\nTotal_Stops                object\nAdditional_Info            object\nPrice                       int64\nJourney_day                 int64\nJourney_month               int64\nDep_Time_hour               int64\nDep_Time_minute             int64\nDuration_hours              int64\nDuration_mins               int64\ndtype: object"
     },
     "execution_count": 46,
     "metadata": {},
     "output_type": "execute_result"
    }
   ],
   "source": [
    "train_data.dtypes"
   ]
  },
  {
   "cell_type": "code",
   "execution_count": 41,
   "metadata": {},
   "outputs": [
    {
     "data": {
      "text/html": [
       "<div>\n",
       "<style scoped>\n",
       "    .dataframe tbody tr th:only-of-type {\n",
       "        vertical-align: middle;\n",
       "    }\n",
       "\n",
       "    .dataframe tbody tr th {\n",
       "        vertical-align: top;\n",
       "    }\n",
       "\n",
       "    .dataframe thead th {\n",
       "        text-align: right;\n",
       "    }\n",
       "</style>\n",
       "<table border=\"1\" class=\"dataframe\">\n",
       "  <thead>\n",
       "    <tr style=\"text-align: right;\">\n",
       "      <th></th>\n",
       "      <th>Airline</th>\n",
       "      <th>Source</th>\n",
       "      <th>Destination</th>\n",
       "      <th>Route</th>\n",
       "      <th>Total_Stops</th>\n",
       "      <th>Additional_Info</th>\n",
       "      <th>Price</th>\n",
       "      <th>Journey_day</th>\n",
       "      <th>Journey_month</th>\n",
       "      <th>Dep_Time_hour</th>\n",
       "      <th>Dep_Time_minute</th>\n",
       "      <th>Arrival_Time_hour</th>\n",
       "      <th>Arrival_Time_minute</th>\n",
       "      <th>Duration_hours</th>\n",
       "      <th>Duration_mins</th>\n",
       "    </tr>\n",
       "  </thead>\n",
       "  <tbody>\n",
       "    <tr>\n",
       "      <th>0</th>\n",
       "      <td>IndiGo</td>\n",
       "      <td>Banglore</td>\n",
       "      <td>New Delhi</td>\n",
       "      <td>BLR → DEL</td>\n",
       "      <td>non-stop</td>\n",
       "      <td>No info</td>\n",
       "      <td>3897</td>\n",
       "      <td>24</td>\n",
       "      <td>3</td>\n",
       "      <td>22</td>\n",
       "      <td>20</td>\n",
       "      <td>1</td>\n",
       "      <td>10</td>\n",
       "      <td>2</td>\n",
       "      <td>50</td>\n",
       "    </tr>\n",
       "    <tr>\n",
       "      <th>1</th>\n",
       "      <td>Air India</td>\n",
       "      <td>Kolkata</td>\n",
       "      <td>Banglore</td>\n",
       "      <td>CCU → IXR → BBI → BLR</td>\n",
       "      <td>2 stops</td>\n",
       "      <td>No info</td>\n",
       "      <td>7662</td>\n",
       "      <td>5</td>\n",
       "      <td>1</td>\n",
       "      <td>5</td>\n",
       "      <td>50</td>\n",
       "      <td>13</td>\n",
       "      <td>15</td>\n",
       "      <td>7</td>\n",
       "      <td>25</td>\n",
       "    </tr>\n",
       "    <tr>\n",
       "      <th>2</th>\n",
       "      <td>Jet Airways</td>\n",
       "      <td>Delhi</td>\n",
       "      <td>Cochin</td>\n",
       "      <td>DEL → LKO → BOM → COK</td>\n",
       "      <td>2 stops</td>\n",
       "      <td>No info</td>\n",
       "      <td>13882</td>\n",
       "      <td>6</td>\n",
       "      <td>9</td>\n",
       "      <td>9</td>\n",
       "      <td>25</td>\n",
       "      <td>4</td>\n",
       "      <td>25</td>\n",
       "      <td>19</td>\n",
       "      <td>0</td>\n",
       "    </tr>\n",
       "    <tr>\n",
       "      <th>3</th>\n",
       "      <td>IndiGo</td>\n",
       "      <td>Kolkata</td>\n",
       "      <td>Banglore</td>\n",
       "      <td>CCU → NAG → BLR</td>\n",
       "      <td>1 stop</td>\n",
       "      <td>No info</td>\n",
       "      <td>6218</td>\n",
       "      <td>5</td>\n",
       "      <td>12</td>\n",
       "      <td>18</td>\n",
       "      <td>5</td>\n",
       "      <td>23</td>\n",
       "      <td>30</td>\n",
       "      <td>5</td>\n",
       "      <td>25</td>\n",
       "    </tr>\n",
       "    <tr>\n",
       "      <th>4</th>\n",
       "      <td>IndiGo</td>\n",
       "      <td>Banglore</td>\n",
       "      <td>New Delhi</td>\n",
       "      <td>BLR → NAG → DEL</td>\n",
       "      <td>1 stop</td>\n",
       "      <td>No info</td>\n",
       "      <td>13302</td>\n",
       "      <td>3</td>\n",
       "      <td>1</td>\n",
       "      <td>16</td>\n",
       "      <td>50</td>\n",
       "      <td>21</td>\n",
       "      <td>35</td>\n",
       "      <td>4</td>\n",
       "      <td>45</td>\n",
       "    </tr>\n",
       "  </tbody>\n",
       "</table>\n",
       "</div>"
      ],
      "text/plain": [
       "       Airline    Source Destination                  Route Total_Stops  \\\n",
       "0       IndiGo  Banglore   New Delhi              BLR → DEL    non-stop   \n",
       "1    Air India   Kolkata    Banglore  CCU → IXR → BBI → BLR     2 stops   \n",
       "2  Jet Airways     Delhi      Cochin  DEL → LKO → BOM → COK     2 stops   \n",
       "3       IndiGo   Kolkata    Banglore        CCU → NAG → BLR      1 stop   \n",
       "4       IndiGo  Banglore   New Delhi        BLR → NAG → DEL      1 stop   \n",
       "\n",
       "  Additional_Info  Price  Journey_day  Journey_month  Dep_Time_hour  \\\n",
       "0         No info   3897           24              3             22   \n",
       "1         No info   7662            5              1              5   \n",
       "2         No info  13882            6              9              9   \n",
       "3         No info   6218            5             12             18   \n",
       "4         No info  13302            3              1             16   \n",
       "\n",
       "   Dep_Time_minute  Arrival_Time_hour  Arrival_Time_minute  Duration_hours  \\\n",
       "0               20                  1                   10               2   \n",
       "1               50                 13                   15               7   \n",
       "2               25                  4                   25              19   \n",
       "3                5                 23                   30               5   \n",
       "4               50                 21                   35               4   \n",
       "\n",
       "   Duration_mins  \n",
       "0             50  \n",
       "1             25  \n",
       "2              0  \n",
       "3             25  \n",
       "4             45  "
      ]
     },
     "execution_count": 41,
     "metadata": {},
     "output_type": "execute_result"
    }
   ],
   "source": [
    "train_data.head()"
   ]
  },
  {
   "cell_type": "code",
   "execution_count": 47,
   "metadata": {},
   "outputs": [
    {
     "data": {
      "text/plain": "Airline                    object\nSource                     object\nDestination                object\nRoute                      object\nDep_Time           datetime64[ns]\nArrival_Time       datetime64[ns]\nTotal_Stops                object\nAdditional_Info            object\nPrice                       int64\nJourney_day                 int64\nJourney_month               int64\nDep_Time_hour               int64\nDep_Time_minute             int64\nDuration_hours              int64\nDuration_mins               int64\ndtype: object"
     },
     "execution_count": 47,
     "metadata": {},
     "output_type": "execute_result"
    }
   ],
   "source": [
    "train_data.dtypes"
   ]
  },
  {
   "cell_type": "code",
   "execution_count": 48,
   "metadata": {},
   "outputs": [
    {
     "data": {
      "text/plain": "['Airline', 'Source', 'Destination', 'Route', 'Total_Stops', 'Additional_Info']"
     },
     "execution_count": 48,
     "metadata": {},
     "output_type": "execute_result"
    }
   ],
   "source": [
    "cat_col=[col for col in train_data.columns if train_data[col].dtype=='O']\n",
    "cat_col"
   ]
  },
  {
   "cell_type": "code",
   "execution_count": 49,
   "metadata": {},
   "outputs": [
    {
     "data": {
      "text/plain": "['Dep_Time',\n 'Arrival_Time',\n 'Price',\n 'Journey_day',\n 'Journey_month',\n 'Dep_Time_hour',\n 'Dep_Time_minute',\n 'Duration_hours',\n 'Duration_mins']"
     },
     "execution_count": 49,
     "metadata": {},
     "output_type": "execute_result"
    }
   ],
   "source": [
    "cont_col=[col for col in train_data.columns if train_data[col].dtype!='O']\n",
    "cont_col"
   ]
  },
  {
   "cell_type": "markdown",
   "metadata": {},
   "source": [
    "### Handling Categorical Data"
   ]
  },
  {
   "cell_type": "markdown",
   "metadata": {},
   "source": [
    "\n",
    "#### We are using 2 main Encoding Techniques to convert Categorical data into some numerical format\n",
    "    Nominal data --> data are not in any order --> OneHotEncoder is used in this case\n",
    "    Ordinal data --> data are in order -->       LabelEncoder is used in this case"
   ]
  },
  {
   "cell_type": "code",
   "execution_count": 50,
   "metadata": {},
   "outputs": [
    {
     "data": {
      "text/plain": "       Airline    Source Destination                  Route Total_Stops  \\\n0       IndiGo  Banglore   New Delhi              BLR → DEL    non-stop   \n1    Air India   Kolkata    Banglore  CCU → IXR → BBI → BLR     2 stops   \n2  Jet Airways     Delhi      Cochin  DEL → LKO → BOM → COK     2 stops   \n3       IndiGo   Kolkata    Banglore        CCU → NAG → BLR      1 stop   \n4       IndiGo  Banglore   New Delhi        BLR → NAG → DEL      1 stop   \n\n  Additional_Info  \n0         No info  \n1         No info  \n2         No info  \n3         No info  \n4         No info  ",
      "text/html": "<div>\n<style scoped>\n    .dataframe tbody tr th:only-of-type {\n        vertical-align: middle;\n    }\n\n    .dataframe tbody tr th {\n        vertical-align: top;\n    }\n\n    .dataframe thead th {\n        text-align: right;\n    }\n</style>\n<table border=\"1\" class=\"dataframe\">\n  <thead>\n    <tr style=\"text-align: right;\">\n      <th></th>\n      <th>Airline</th>\n      <th>Source</th>\n      <th>Destination</th>\n      <th>Route</th>\n      <th>Total_Stops</th>\n      <th>Additional_Info</th>\n    </tr>\n  </thead>\n  <tbody>\n    <tr>\n      <th>0</th>\n      <td>IndiGo</td>\n      <td>Banglore</td>\n      <td>New Delhi</td>\n      <td>BLR → DEL</td>\n      <td>non-stop</td>\n      <td>No info</td>\n    </tr>\n    <tr>\n      <th>1</th>\n      <td>Air India</td>\n      <td>Kolkata</td>\n      <td>Banglore</td>\n      <td>CCU → IXR → BBI → BLR</td>\n      <td>2 stops</td>\n      <td>No info</td>\n    </tr>\n    <tr>\n      <th>2</th>\n      <td>Jet Airways</td>\n      <td>Delhi</td>\n      <td>Cochin</td>\n      <td>DEL → LKO → BOM → COK</td>\n      <td>2 stops</td>\n      <td>No info</td>\n    </tr>\n    <tr>\n      <th>3</th>\n      <td>IndiGo</td>\n      <td>Kolkata</td>\n      <td>Banglore</td>\n      <td>CCU → NAG → BLR</td>\n      <td>1 stop</td>\n      <td>No info</td>\n    </tr>\n    <tr>\n      <th>4</th>\n      <td>IndiGo</td>\n      <td>Banglore</td>\n      <td>New Delhi</td>\n      <td>BLR → NAG → DEL</td>\n      <td>1 stop</td>\n      <td>No info</td>\n    </tr>\n  </tbody>\n</table>\n</div>"
     },
     "execution_count": 50,
     "metadata": {},
     "output_type": "execute_result"
    }
   ],
   "source": [
    "categorical=train_data[cat_col]\n",
    "categorical.head()"
   ]
  },
  {
   "cell_type": "code",
   "execution_count": 51,
   "metadata": {},
   "outputs": [
    {
     "data": {
      "text/plain": "Jet Airways                          3849\nIndiGo                               2053\nAir India                            1751\nMultiple carriers                    1196\nSpiceJet                              818\nVistara                               479\nAir Asia                              319\nGoAir                                 194\nMultiple carriers Premium economy      13\nJet Airways Business                    6\nVistara Premium economy                 3\nTrujet                                  1\nName: Airline, dtype: int64"
     },
     "execution_count": 51,
     "metadata": {},
     "output_type": "execute_result"
    }
   ],
   "source": [
    "categorical['Airline'].value_counts()"
   ]
  },
  {
   "cell_type": "code",
   "execution_count": null,
   "metadata": {},
   "outputs": [],
   "source": []
  },
  {
   "cell_type": "markdown",
   "metadata": {},
   "source": [
    "#### Airline vs Price Analysis"
   ]
  },
  {
   "cell_type": "code",
   "execution_count": 52,
   "metadata": {},
   "outputs": [
    {
     "data": {
      "text/plain": "<AxesSubplot:xlabel='Airline', ylabel='Price'>"
     },
     "execution_count": 52,
     "metadata": {},
     "output_type": "execute_result"
    },
    {
     "data": {
      "text/plain": "<Figure size 1080x360 with 1 Axes>",
      "image/png": "[encoded data removed]"
     },
     "metadata": {
      "needs_background": "light"
     },
     "output_type": "display_data"
    }
   ],
   "source": [
    "plt.figure(figsize=(15,5))\n",
    "sns.boxplot(y='Price',x='Airline',data=train_data.sort_values('Price',ascending=False))"
   ]
  },
  {
   "cell_type": "code",
   "execution_count": null,
   "metadata": {},
   "outputs": [],
   "source": []
  },
  {
   "cell_type": "markdown",
   "metadata": {},
   "source": [
    "##### Conclusion-->  From graph we can see that Jet Airways Business have the highest Price., Apart from the first Airline almost all are having similar median"
   ]
  },
  {
   "cell_type": "code",
   "execution_count": null,
   "metadata": {},
   "outputs": [],
   "source": []
  },
  {
   "cell_type": "markdown",
   "metadata": {},
   "source": [
    "#### Perform Total_Stops vs Price Analysis"
   ]
  },
  {
   "cell_type": "code",
   "execution_count": 53,
   "metadata": {},
   "outputs": [
    {
     "data": {
      "text/plain": "<AxesSubplot:xlabel='Total_Stops', ylabel='Price'>"
     },
     "execution_count": 53,
     "metadata": {},
     "output_type": "execute_result"
    },
    {
     "data": {
      "text/plain": "<Figure size 1080x360 with 1 Axes>",
      "image/png": "[encoded data removed]"
     },
     "metadata": {
      "needs_background": "light"
     },
     "output_type": "display_data"
    }
   ],
   "source": [
    "plt.figure(figsize=(15,5))\n",
    "sns.boxplot(y='Price',x='Total_Stops',data=train_data.sort_values('Price',ascending=False))"
   ]
  },
  {
   "cell_type": "code",
   "execution_count": 54,
   "metadata": {},
   "outputs": [
    {
     "data": {
      "text/plain": "12"
     },
     "execution_count": 54,
     "metadata": {},
     "output_type": "execute_result"
    }
   ],
   "source": [
    "len(categorical['Airline'].unique())"
   ]
  },
  {
   "cell_type": "code",
   "execution_count": 55,
   "metadata": {},
   "outputs": [
    {
     "data": {
      "text/plain": "   Air India  GoAir  IndiGo  Jet Airways  Jet Airways Business  \\\n0          0      0       1            0                     0   \n1          1      0       0            0                     0   \n2          0      0       0            1                     0   \n3          0      0       1            0                     0   \n4          0      0       1            0                     0   \n\n   Multiple carriers  Multiple carriers Premium economy  SpiceJet  Trujet  \\\n0                  0                                  0         0       0   \n1                  0                                  0         0       0   \n2                  0                                  0         0       0   \n3                  0                                  0         0       0   \n4                  0                                  0         0       0   \n\n   Vistara  Vistara Premium economy  \n0        0                        0  \n1        0                        0  \n2        0                        0  \n3        0                        0  \n4        0                        0  ",
      "text/html": "<div>\n<style scoped>\n    .dataframe tbody tr th:only-of-type {\n        vertical-align: middle;\n    }\n\n    .dataframe tbody tr th {\n        vertical-align: top;\n    }\n\n    .dataframe thead th {\n        text-align: right;\n    }\n</style>\n<table border=\"1\" class=\"dataframe\">\n  <thead>\n    <tr style=\"text-align: right;\">\n      <th></th>\n      <th>Air India</th>\n      <th>GoAir</th>\n      <th>IndiGo</th>\n      <th>Jet Airways</th>\n      <th>Jet Airways Business</th>\n      <th>Multiple carriers</th>\n      <th>Multiple carriers Premium economy</th>\n      <th>SpiceJet</th>\n      <th>Trujet</th>\n      <th>Vistara</th>\n      <th>Vistara Premium economy</th>\n    </tr>\n  </thead>\n  <tbody>\n    <tr>\n      <th>0</th>\n      <td>0</td>\n      <td>0</td>\n      <td>1</td>\n      <td>0</td>\n      <td>0</td>\n      <td>0</td>\n      <td>0</td>\n      <td>0</td>\n      <td>0</td>\n      <td>0</td>\n      <td>0</td>\n    </tr>\n    <tr>\n      <th>1</th>\n      <td>1</td>\n      <td>0</td>\n      <td>0</td>\n      <td>0</td>\n      <td>0</td>\n      <td>0</td>\n      <td>0</td>\n      <td>0</td>\n      <td>0</td>\n      <td>0</td>\n      <td>0</td>\n    </tr>\n    <tr>\n      <th>2</th>\n      <td>0</td>\n      <td>0</td>\n      <td>0</td>\n      <td>1</td>\n      <td>0</td>\n      <td>0</td>\n      <td>0</td>\n      <td>0</td>\n      <td>0</td>\n      <td>0</td>\n      <td>0</td>\n    </tr>\n    <tr>\n      <th>3</th>\n      <td>0</td>\n      <td>0</td>\n      <td>1</td>\n      <td>0</td>\n      <td>0</td>\n      <td>0</td>\n      <td>0</td>\n      <td>0</td>\n      <td>0</td>\n      <td>0</td>\n      <td>0</td>\n    </tr>\n    <tr>\n      <th>4</th>\n      <td>0</td>\n      <td>0</td>\n      <td>1</td>\n      <td>0</td>\n      <td>0</td>\n      <td>0</td>\n      <td>0</td>\n      <td>0</td>\n      <td>0</td>\n      <td>0</td>\n      <td>0</td>\n    </tr>\n  </tbody>\n</table>\n</div>"
     },
     "execution_count": 55,
     "metadata": {},
     "output_type": "execute_result"
    }
   ],
   "source": [
    "# As Airline is Nominal Categorical data we will perform OneHotEncoding\n",
    "Airline=pd.get_dummies(categorical['Airline'], drop_first=True)\n",
    "Airline.head()"
   ]
  },
  {
   "cell_type": "code",
   "execution_count": 56,
   "metadata": {},
   "outputs": [
    {
     "data": {
      "text/plain": "Delhi       4536\nKolkata     2871\nBanglore    2197\nMumbai       697\nChennai      381\nName: Source, dtype: int64"
     },
     "execution_count": 56,
     "metadata": {},
     "output_type": "execute_result"
    }
   ],
   "source": [
    "categorical['Source'].value_counts()"
   ]
  },
  {
   "cell_type": "code",
   "execution_count": 57,
   "metadata": {},
   "outputs": [
    {
     "data": {
      "text/plain": "<seaborn.axisgrid.FacetGrid at 0x1351d3be0>"
     },
     "execution_count": 57,
     "metadata": {},
     "output_type": "execute_result"
    },
    {
     "data": {
      "text/plain": "<Figure size 1080x360 with 0 Axes>"
     },
     "metadata": {},
     "output_type": "display_data"
    },
    {
     "data": {
      "text/plain": "<Figure size 360x360 with 1 Axes>",
      "image/png": "[encoded data removed]"
     },
     "metadata": {
      "needs_background": "light"
     },
     "output_type": "display_data"
    }
   ],
   "source": [
    "# Source vs Price\n",
    "\n",
    "plt.figure(figsize=(15,5))\n",
    "sns.catplot(y='Price',x='Source',data=train_data.sort_values('Price',ascending=False),kind='boxen')"
   ]
  },
  {
   "cell_type": "code",
   "execution_count": 58,
   "metadata": {},
   "outputs": [
    {
     "data": {
      "text/plain": "   Chennai  Delhi  Kolkata  Mumbai\n0        0      0        0       0\n1        0      0        1       0\n2        0      1        0       0\n3        0      0        1       0\n4        0      0        0       0",
      "text/html": "<div>\n<style scoped>\n    .dataframe tbody tr th:only-of-type {\n        vertical-align: middle;\n    }\n\n    .dataframe tbody tr th {\n        vertical-align: top;\n    }\n\n    .dataframe thead th {\n        text-align: right;\n    }\n</style>\n<table border=\"1\" class=\"dataframe\">\n  <thead>\n    <tr style=\"text-align: right;\">\n      <th></th>\n      <th>Chennai</th>\n      <th>Delhi</th>\n      <th>Kolkata</th>\n      <th>Mumbai</th>\n    </tr>\n  </thead>\n  <tbody>\n    <tr>\n      <th>0</th>\n      <td>0</td>\n      <td>0</td>\n      <td>0</td>\n      <td>0</td>\n    </tr>\n    <tr>\n      <th>1</th>\n      <td>0</td>\n      <td>0</td>\n      <td>1</td>\n      <td>0</td>\n    </tr>\n    <tr>\n      <th>2</th>\n      <td>0</td>\n      <td>1</td>\n      <td>0</td>\n      <td>0</td>\n    </tr>\n    <tr>\n      <th>3</th>\n      <td>0</td>\n      <td>0</td>\n      <td>1</td>\n      <td>0</td>\n    </tr>\n    <tr>\n      <th>4</th>\n      <td>0</td>\n      <td>0</td>\n      <td>0</td>\n      <td>0</td>\n    </tr>\n  </tbody>\n</table>\n</div>"
     },
     "execution_count": 58,
     "metadata": {},
     "output_type": "execute_result"
    }
   ],
   "source": [
    "# As Source is Nominal Categorical data we will perform OneHotEncoding\n",
    "\n",
    "\n",
    "Source=pd.get_dummies(categorical['Source'], drop_first=True)\n",
    "Source.head()"
   ]
  },
  {
   "cell_type": "code",
   "execution_count": 59,
   "metadata": {},
   "outputs": [
    {
     "data": {
      "text/plain": "Cochin       4536\nBanglore     2871\nDelhi        1265\nNew Delhi     932\nHyderabad     697\nKolkata       381\nName: Destination, dtype: int64"
     },
     "execution_count": 59,
     "metadata": {},
     "output_type": "execute_result"
    }
   ],
   "source": [
    "categorical['Destination'].value_counts()"
   ]
  },
  {
   "cell_type": "code",
   "execution_count": 60,
   "metadata": {},
   "outputs": [
    {
     "data": {
      "text/plain": "   Cochin  Delhi  Hyderabad  Kolkata  New Delhi\n0       0      0          0        0          1\n1       0      0          0        0          0\n2       1      0          0        0          0\n3       0      0          0        0          0\n4       0      0          0        0          1",
      "text/html": "<div>\n<style scoped>\n    .dataframe tbody tr th:only-of-type {\n        vertical-align: middle;\n    }\n\n    .dataframe tbody tr th {\n        vertical-align: top;\n    }\n\n    .dataframe thead th {\n        text-align: right;\n    }\n</style>\n<table border=\"1\" class=\"dataframe\">\n  <thead>\n    <tr style=\"text-align: right;\">\n      <th></th>\n      <th>Cochin</th>\n      <th>Delhi</th>\n      <th>Hyderabad</th>\n      <th>Kolkata</th>\n      <th>New Delhi</th>\n    </tr>\n  </thead>\n  <tbody>\n    <tr>\n      <th>0</th>\n      <td>0</td>\n      <td>0</td>\n      <td>0</td>\n      <td>0</td>\n      <td>1</td>\n    </tr>\n    <tr>\n      <th>1</th>\n      <td>0</td>\n      <td>0</td>\n      <td>0</td>\n      <td>0</td>\n      <td>0</td>\n    </tr>\n    <tr>\n      <th>2</th>\n      <td>1</td>\n      <td>0</td>\n      <td>0</td>\n      <td>0</td>\n      <td>0</td>\n    </tr>\n    <tr>\n      <th>3</th>\n      <td>0</td>\n      <td>0</td>\n      <td>0</td>\n      <td>0</td>\n      <td>0</td>\n    </tr>\n    <tr>\n      <th>4</th>\n      <td>0</td>\n      <td>0</td>\n      <td>0</td>\n      <td>0</td>\n      <td>1</td>\n    </tr>\n  </tbody>\n</table>\n</div>"
     },
     "execution_count": 60,
     "metadata": {},
     "output_type": "execute_result"
    }
   ],
   "source": [
    "# As Destination is Nominal Categorical data we will perform OneHotEncoding\n",
    "\n",
    "Destination=pd.get_dummies(categorical['Destination'], drop_first=True)\n",
    "Destination.head()"
   ]
  },
  {
   "cell_type": "code",
   "execution_count": 61,
   "metadata": {},
   "outputs": [
    {
     "data": {
      "text/plain": "0                    BLR → DEL\n1        CCU → IXR → BBI → BLR\n2        DEL → LKO → BOM → COK\n3              CCU → NAG → BLR\n4              BLR → NAG → DEL\n                 ...          \n10678                CCU → BLR\n10679                CCU → BLR\n10680                BLR → DEL\n10681                BLR → DEL\n10682    DEL → GOI → BOM → COK\nName: Route, Length: 10682, dtype: object"
     },
     "execution_count": 61,
     "metadata": {},
     "output_type": "execute_result"
    }
   ],
   "source": [
    "categorical['Route']"
   ]
  },
  {
   "cell_type": "code",
   "execution_count": 62,
   "metadata": {},
   "outputs": [
    {
     "name": "stderr",
     "output_type": "stream",
     "text": [
      "/var/folders/8q/s8p7y9td1wv7nf_pqwhh5xd00000gn/T/ipykernel_57179/2976530867.py:1: SettingWithCopyWarning: \n",
      "A value is trying to be set on a copy of a slice from a DataFrame.\n",
      "Try using .loc[row_indexer,col_indexer] = value instead\n",
      "\n",
      "See the caveats in the documentation: https://pandas.pydata.org/pandas-docs/stable/user_guide/indexing.html#returning-a-view-versus-a-copy\n",
      "  categorical['Route_1']=categorical['Route'].str.split('→').str[0]\n",
      "/var/folders/8q/s8p7y9td1wv7nf_pqwhh5xd00000gn/T/ipykernel_57179/2976530867.py:2: SettingWithCopyWarning: \n",
      "A value is trying to be set on a copy of a slice from a DataFrame.\n",
      "Try using .loc[row_indexer,col_indexer] = value instead\n",
      "\n",
      "See the caveats in the documentation: https://pandas.pydata.org/pandas-docs/stable/user_guide/indexing.html#returning-a-view-versus-a-copy\n",
      "  categorical['Route_2']=categorical['Route'].str.split('→').str[1]\n",
      "/var/folders/8q/s8p7y9td1wv7nf_pqwhh5xd00000gn/T/ipykernel_57179/2976530867.py:3: SettingWithCopyWarning: \n",
      "A value is trying to be set on a copy of a slice from a DataFrame.\n",
      "Try using .loc[row_indexer,col_indexer] = value instead\n",
      "\n",
      "See the caveats in the documentation: https://pandas.pydata.org/pandas-docs/stable/user_guide/indexing.html#returning-a-view-versus-a-copy\n",
      "  categorical['Route_3']=categorical['Route'].str.split('→').str[2]\n",
      "/var/folders/8q/s8p7y9td1wv7nf_pqwhh5xd00000gn/T/ipykernel_57179/2976530867.py:4: SettingWithCopyWarning: \n",
      "A value is trying to be set on a copy of a slice from a DataFrame.\n",
      "Try using .loc[row_indexer,col_indexer] = value instead\n",
      "\n",
      "See the caveats in the documentation: https://pandas.pydata.org/pandas-docs/stable/user_guide/indexing.html#returning-a-view-versus-a-copy\n",
      "  categorical['Route_4']=categorical['Route'].str.split('→').str[3]\n",
      "/var/folders/8q/s8p7y9td1wv7nf_pqwhh5xd00000gn/T/ipykernel_57179/2976530867.py:5: SettingWithCopyWarning: \n",
      "A value is trying to be set on a copy of a slice from a DataFrame.\n",
      "Try using .loc[row_indexer,col_indexer] = value instead\n",
      "\n",
      "See the caveats in the documentation: https://pandas.pydata.org/pandas-docs/stable/user_guide/indexing.html#returning-a-view-versus-a-copy\n",
      "  categorical['Route_5']=categorical['Route'].str.split('→').str[4]\n"
     ]
    }
   ],
   "source": [
    "categorical['Route_1']=categorical['Route'].str.split('→').str[0]\n",
    "categorical['Route_2']=categorical['Route'].str.split('→').str[1]\n",
    "categorical['Route_3']=categorical['Route'].str.split('→').str[2]\n",
    "categorical['Route_4']=categorical['Route'].str.split('→').str[3]\n",
    "categorical['Route_5']=categorical['Route'].str.split('→').str[4]"
   ]
  },
  {
   "cell_type": "code",
   "execution_count": 63,
   "metadata": {},
   "outputs": [
    {
     "data": {
      "text/plain": "       Airline    Source Destination                  Route Total_Stops  \\\n0       IndiGo  Banglore   New Delhi              BLR → DEL    non-stop   \n1    Air India   Kolkata    Banglore  CCU → IXR → BBI → BLR     2 stops   \n2  Jet Airways     Delhi      Cochin  DEL → LKO → BOM → COK     2 stops   \n3       IndiGo   Kolkata    Banglore        CCU → NAG → BLR      1 stop   \n4       IndiGo  Banglore   New Delhi        BLR → NAG → DEL      1 stop   \n\n  Additional_Info Route_1 Route_2 Route_3 Route_4 Route_5  \n0         No info    BLR      DEL     NaN     NaN     NaN  \n1         No info    CCU     IXR     BBI      BLR     NaN  \n2         No info    DEL     LKO     BOM      COK     NaN  \n3         No info    CCU     NAG      BLR     NaN     NaN  \n4         No info    BLR     NAG      DEL     NaN     NaN  ",
      "text/html": "<div>\n<style scoped>\n    .dataframe tbody tr th:only-of-type {\n        vertical-align: middle;\n    }\n\n    .dataframe tbody tr th {\n        vertical-align: top;\n    }\n\n    .dataframe thead th {\n        text-align: right;\n    }\n</style>\n<table border=\"1\" class=\"dataframe\">\n  <thead>\n    <tr style=\"text-align: right;\">\n      <th></th>\n      <th>Airline</th>\n      <th>Source</th>\n      <th>Destination</th>\n      <th>Route</th>\n      <th>Total_Stops</th>\n      <th>Additional_Info</th>\n      <th>Route_1</th>\n      <th>Route_2</th>\n      <th>Route_3</th>\n      <th>Route_4</th>\n      <th>Route_5</th>\n    </tr>\n  </thead>\n  <tbody>\n    <tr>\n      <th>0</th>\n      <td>IndiGo</td>\n      <td>Banglore</td>\n      <td>New Delhi</td>\n      <td>BLR → DEL</td>\n      <td>non-stop</td>\n      <td>No info</td>\n      <td>BLR</td>\n      <td>DEL</td>\n      <td>NaN</td>\n      <td>NaN</td>\n      <td>NaN</td>\n    </tr>\n    <tr>\n      <th>1</th>\n      <td>Air India</td>\n      <td>Kolkata</td>\n      <td>Banglore</td>\n      <td>CCU → IXR → BBI → BLR</td>\n      <td>2 stops</td>\n      <td>No info</td>\n      <td>CCU</td>\n      <td>IXR</td>\n      <td>BBI</td>\n      <td>BLR</td>\n      <td>NaN</td>\n    </tr>\n    <tr>\n      <th>2</th>\n      <td>Jet Airways</td>\n      <td>Delhi</td>\n      <td>Cochin</td>\n      <td>DEL → LKO → BOM → COK</td>\n      <td>2 stops</td>\n      <td>No info</td>\n      <td>DEL</td>\n      <td>LKO</td>\n      <td>BOM</td>\n      <td>COK</td>\n      <td>NaN</td>\n    </tr>\n    <tr>\n      <th>3</th>\n      <td>IndiGo</td>\n      <td>Kolkata</td>\n      <td>Banglore</td>\n      <td>CCU → NAG → BLR</td>\n      <td>1 stop</td>\n      <td>No info</td>\n      <td>CCU</td>\n      <td>NAG</td>\n      <td>BLR</td>\n      <td>NaN</td>\n      <td>NaN</td>\n    </tr>\n    <tr>\n      <th>4</th>\n      <td>IndiGo</td>\n      <td>Banglore</td>\n      <td>New Delhi</td>\n      <td>BLR → NAG → DEL</td>\n      <td>1 stop</td>\n      <td>No info</td>\n      <td>BLR</td>\n      <td>NAG</td>\n      <td>DEL</td>\n      <td>NaN</td>\n      <td>NaN</td>\n    </tr>\n  </tbody>\n</table>\n</div>"
     },
     "execution_count": 63,
     "metadata": {},
     "output_type": "execute_result"
    }
   ],
   "source": [
    "categorical.head()"
   ]
  },
  {
   "cell_type": "code",
   "execution_count": 59,
   "metadata": {},
   "outputs": [],
   "source": [
    "import warnings \n",
    "from warnings import filterwarnings\n",
    "filterwarnings('ignore')"
   ]
  },
  {
   "cell_type": "code",
   "execution_count": 60,
   "metadata": {},
   "outputs": [],
   "source": [
    "categorical['Route_1'].fillna('None',inplace=True)\n",
    "categorical['Route_2'].fillna('None',inplace=True)\n",
    "categorical['Route_3'].fillna('None',inplace=True)\n",
    "categorical['Route_4'].fillna('None',inplace=True)\n",
    "categorical['Route_5'].fillna('None',inplace=True)"
   ]
  },
  {
   "cell_type": "code",
   "execution_count": 64,
   "metadata": {},
   "outputs": [
    {
     "data": {
      "text/plain": "       Airline    Source Destination                  Route Total_Stops  \\\n0       IndiGo  Banglore   New Delhi              BLR → DEL    non-stop   \n1    Air India   Kolkata    Banglore  CCU → IXR → BBI → BLR     2 stops   \n2  Jet Airways     Delhi      Cochin  DEL → LKO → BOM → COK     2 stops   \n3       IndiGo   Kolkata    Banglore        CCU → NAG → BLR      1 stop   \n4       IndiGo  Banglore   New Delhi        BLR → NAG → DEL      1 stop   \n\n  Additional_Info Route_1 Route_2 Route_3 Route_4 Route_5  \n0         No info    BLR      DEL     NaN     NaN     NaN  \n1         No info    CCU     IXR     BBI      BLR     NaN  \n2         No info    DEL     LKO     BOM      COK     NaN  \n3         No info    CCU     NAG      BLR     NaN     NaN  \n4         No info    BLR     NAG      DEL     NaN     NaN  ",
      "text/html": "<div>\n<style scoped>\n    .dataframe tbody tr th:only-of-type {\n        vertical-align: middle;\n    }\n\n    .dataframe tbody tr th {\n        vertical-align: top;\n    }\n\n    .dataframe thead th {\n        text-align: right;\n    }\n</style>\n<table border=\"1\" class=\"dataframe\">\n  <thead>\n    <tr style=\"text-align: right;\">\n      <th></th>\n      <th>Airline</th>\n      <th>Source</th>\n      <th>Destination</th>\n      <th>Route</th>\n      <th>Total_Stops</th>\n      <th>Additional_Info</th>\n      <th>Route_1</th>\n      <th>Route_2</th>\n      <th>Route_3</th>\n      <th>Route_4</th>\n      <th>Route_5</th>\n    </tr>\n  </thead>\n  <tbody>\n    <tr>\n      <th>0</th>\n      <td>IndiGo</td>\n      <td>Banglore</td>\n      <td>New Delhi</td>\n      <td>BLR → DEL</td>\n      <td>non-stop</td>\n      <td>No info</td>\n      <td>BLR</td>\n      <td>DEL</td>\n      <td>NaN</td>\n      <td>NaN</td>\n      <td>NaN</td>\n    </tr>\n    <tr>\n      <th>1</th>\n      <td>Air India</td>\n      <td>Kolkata</td>\n      <td>Banglore</td>\n      <td>CCU → IXR → BBI → BLR</td>\n      <td>2 stops</td>\n      <td>No info</td>\n      <td>CCU</td>\n      <td>IXR</td>\n      <td>BBI</td>\n      <td>BLR</td>\n      <td>NaN</td>\n    </tr>\n    <tr>\n      <th>2</th>\n      <td>Jet Airways</td>\n      <td>Delhi</td>\n      <td>Cochin</td>\n      <td>DEL → LKO → BOM → COK</td>\n      <td>2 stops</td>\n      <td>No info</td>\n      <td>DEL</td>\n      <td>LKO</td>\n      <td>BOM</td>\n      <td>COK</td>\n      <td>NaN</td>\n    </tr>\n    <tr>\n      <th>3</th>\n      <td>IndiGo</td>\n      <td>Kolkata</td>\n      <td>Banglore</td>\n      <td>CCU → NAG → BLR</td>\n      <td>1 stop</td>\n      <td>No info</td>\n      <td>CCU</td>\n      <td>NAG</td>\n      <td>BLR</td>\n      <td>NaN</td>\n      <td>NaN</td>\n    </tr>\n    <tr>\n      <th>4</th>\n      <td>IndiGo</td>\n      <td>Banglore</td>\n      <td>New Delhi</td>\n      <td>BLR → NAG → DEL</td>\n      <td>1 stop</td>\n      <td>No info</td>\n      <td>BLR</td>\n      <td>NAG</td>\n      <td>DEL</td>\n      <td>NaN</td>\n      <td>NaN</td>\n    </tr>\n  </tbody>\n</table>\n</div>"
     },
     "execution_count": 64,
     "metadata": {},
     "output_type": "execute_result"
    }
   ],
   "source": [
    "categorical.head()"
   ]
  },
  {
   "cell_type": "code",
   "execution_count": 65,
   "metadata": {},
   "outputs": [
    {
     "name": "stdout",
     "output_type": "stream",
     "text": [
      "Airline has total 12 categories \n",
      "\n",
      "Source has total 5 categories \n",
      "\n",
      "Destination has total 6 categories \n",
      "\n",
      "Route has total 128 categories \n",
      "\n",
      "Total_Stops has total 5 categories \n",
      "\n",
      "Additional_Info has total 10 categories \n",
      "\n",
      "Route_1 has total 5 categories \n",
      "\n",
      "Route_2 has total 45 categories \n",
      "\n",
      "Route_3 has total 29 categories \n",
      "\n",
      "Route_4 has total 13 categories \n",
      "\n",
      "Route_5 has total 5 categories \n",
      "\n"
     ]
    }
   ],
   "source": [
    "#now extract how many categories in each cat_feature\n",
    "for feature in categorical.columns:\n",
    "    print('{} has total {} categories \\n'.format(feature,len(categorical[feature].value_counts())))"
   ]
  },
  {
   "cell_type": "code",
   "execution_count": 63,
   "metadata": {},
   "outputs": [],
   "source": [
    "### as we will see we have lots of features in Route , one hot encoding will not be a better option lets appply Label Encoding"
   ]
  },
  {
   "cell_type": "code",
   "execution_count": 66,
   "metadata": {},
   "outputs": [
    {
     "ename": "ModuleNotFoundError",
     "evalue": "No module named 'sklearn'",
     "output_type": "error",
     "traceback": [
      "\u001B[0;31m---------------------------------------------------------------------------\u001B[0m",
      "\u001B[0;31mModuleNotFoundError\u001B[0m                       Traceback (most recent call last)",
      "\u001B[0;32m/var/folders/8q/s8p7y9td1wv7nf_pqwhh5xd00000gn/T/ipykernel_57179/3977623503.py\u001B[0m in \u001B[0;36m<module>\u001B[0;34m\u001B[0m\n\u001B[0;32m----> 1\u001B[0;31m \u001B[0;32mfrom\u001B[0m \u001B[0msklearn\u001B[0m\u001B[0;34m.\u001B[0m\u001B[0mpreprocessing\u001B[0m \u001B[0;32mimport\u001B[0m \u001B[0mLabelEncoder\u001B[0m\u001B[0;34m\u001B[0m\u001B[0;34m\u001B[0m\u001B[0m\n\u001B[0m\u001B[1;32m      2\u001B[0m \u001B[0mencoder\u001B[0m\u001B[0;34m=\u001B[0m\u001B[0mLabelEncoder\u001B[0m\u001B[0;34m(\u001B[0m\u001B[0;34m)\u001B[0m\u001B[0;34m\u001B[0m\u001B[0;34m\u001B[0m\u001B[0m\n\u001B[1;32m      3\u001B[0m \u001B[0;34m\u001B[0m\u001B[0m\n",
      "\u001B[0;31mModuleNotFoundError\u001B[0m: No module named 'sklearn'"
     ]
    }
   ],
   "source": [
    "from sklearn.preprocessing import LabelEncoder\n",
    "encoder=LabelEncoder()"
   ]
  },
  {
   "cell_type": "code",
   "execution_count": 67,
   "metadata": {},
   "outputs": [
    {
     "data": {
      "text/plain": "Index(['Airline', 'Source', 'Destination', 'Route', 'Total_Stops',\n       'Additional_Info', 'Route_1', 'Route_2', 'Route_3', 'Route_4',\n       'Route_5'],\n      dtype='object')"
     },
     "execution_count": 67,
     "metadata": {},
     "output_type": "execute_result"
    }
   ],
   "source": [
    "categorical.columns"
   ]
  },
  {
   "cell_type": "code",
   "execution_count": 68,
   "metadata": {},
   "outputs": [
    {
     "ename": "NameError",
     "evalue": "name 'encoder' is not defined",
     "output_type": "error",
     "traceback": [
      "\u001B[0;31m---------------------------------------------------------------------------\u001B[0m",
      "\u001B[0;31mNameError\u001B[0m                                 Traceback (most recent call last)",
      "\u001B[0;32m/var/folders/8q/s8p7y9td1wv7nf_pqwhh5xd00000gn/T/ipykernel_57179/413407097.py\u001B[0m in \u001B[0;36m<module>\u001B[0;34m\u001B[0m\n\u001B[1;32m      1\u001B[0m \u001B[0;32mfor\u001B[0m \u001B[0mi\u001B[0m \u001B[0;32min\u001B[0m \u001B[0;34m[\u001B[0m\u001B[0;34m'Route_1'\u001B[0m\u001B[0;34m,\u001B[0m \u001B[0;34m'Route_2'\u001B[0m\u001B[0;34m,\u001B[0m \u001B[0;34m'Route_3'\u001B[0m\u001B[0;34m,\u001B[0m \u001B[0;34m'Route_4'\u001B[0m\u001B[0;34m,\u001B[0m\u001B[0;34m'Route_5'\u001B[0m\u001B[0;34m]\u001B[0m\u001B[0;34m:\u001B[0m\u001B[0;34m\u001B[0m\u001B[0;34m\u001B[0m\u001B[0m\n\u001B[0;32m----> 2\u001B[0;31m     \u001B[0mcategorical\u001B[0m\u001B[0;34m[\u001B[0m\u001B[0mi\u001B[0m\u001B[0;34m]\u001B[0m\u001B[0;34m=\u001B[0m\u001B[0mencoder\u001B[0m\u001B[0;34m.\u001B[0m\u001B[0mfit_transform\u001B[0m\u001B[0;34m(\u001B[0m\u001B[0mcategorical\u001B[0m\u001B[0;34m[\u001B[0m\u001B[0mi\u001B[0m\u001B[0;34m]\u001B[0m\u001B[0;34m)\u001B[0m\u001B[0;34m\u001B[0m\u001B[0;34m\u001B[0m\u001B[0m\n\u001B[0m\u001B[1;32m      3\u001B[0m \u001B[0;34m\u001B[0m\u001B[0m\n",
      "\u001B[0;31mNameError\u001B[0m: name 'encoder' is not defined"
     ]
    }
   ],
   "source": [
    "for i in ['Route_1', 'Route_2', 'Route_3', 'Route_4','Route_5']:\n",
    "    categorical[i]=encoder.fit_transform(categorical[i])"
   ]
  },
  {
   "cell_type": "code",
   "execution_count": 69,
   "metadata": {},
   "outputs": [
    {
     "data": {
      "text/plain": "       Airline    Source Destination                  Route Total_Stops  \\\n0       IndiGo  Banglore   New Delhi              BLR → DEL    non-stop   \n1    Air India   Kolkata    Banglore  CCU → IXR → BBI → BLR     2 stops   \n2  Jet Airways     Delhi      Cochin  DEL → LKO → BOM → COK     2 stops   \n3       IndiGo   Kolkata    Banglore        CCU → NAG → BLR      1 stop   \n4       IndiGo  Banglore   New Delhi        BLR → NAG → DEL      1 stop   \n\n  Additional_Info Route_1 Route_2 Route_3 Route_4 Route_5  \n0         No info    BLR      DEL     NaN     NaN     NaN  \n1         No info    CCU     IXR     BBI      BLR     NaN  \n2         No info    DEL     LKO     BOM      COK     NaN  \n3         No info    CCU     NAG      BLR     NaN     NaN  \n4         No info    BLR     NAG      DEL     NaN     NaN  ",
      "text/html": "<div>\n<style scoped>\n    .dataframe tbody tr th:only-of-type {\n        vertical-align: middle;\n    }\n\n    .dataframe tbody tr th {\n        vertical-align: top;\n    }\n\n    .dataframe thead th {\n        text-align: right;\n    }\n</style>\n<table border=\"1\" class=\"dataframe\">\n  <thead>\n    <tr style=\"text-align: right;\">\n      <th></th>\n      <th>Airline</th>\n      <th>Source</th>\n      <th>Destination</th>\n      <th>Route</th>\n      <th>Total_Stops</th>\n      <th>Additional_Info</th>\n      <th>Route_1</th>\n      <th>Route_2</th>\n      <th>Route_3</th>\n      <th>Route_4</th>\n      <th>Route_5</th>\n    </tr>\n  </thead>\n  <tbody>\n    <tr>\n      <th>0</th>\n      <td>IndiGo</td>\n      <td>Banglore</td>\n      <td>New Delhi</td>\n      <td>BLR → DEL</td>\n      <td>non-stop</td>\n      <td>No info</td>\n      <td>BLR</td>\n      <td>DEL</td>\n      <td>NaN</td>\n      <td>NaN</td>\n      <td>NaN</td>\n    </tr>\n    <tr>\n      <th>1</th>\n      <td>Air India</td>\n      <td>Kolkata</td>\n      <td>Banglore</td>\n      <td>CCU → IXR → BBI → BLR</td>\n      <td>2 stops</td>\n      <td>No info</td>\n      <td>CCU</td>\n      <td>IXR</td>\n      <td>BBI</td>\n      <td>BLR</td>\n      <td>NaN</td>\n    </tr>\n    <tr>\n      <th>2</th>\n      <td>Jet Airways</td>\n      <td>Delhi</td>\n      <td>Cochin</td>\n      <td>DEL → LKO → BOM → COK</td>\n      <td>2 stops</td>\n      <td>No info</td>\n      <td>DEL</td>\n      <td>LKO</td>\n      <td>BOM</td>\n      <td>COK</td>\n      <td>NaN</td>\n    </tr>\n    <tr>\n      <th>3</th>\n      <td>IndiGo</td>\n      <td>Kolkata</td>\n      <td>Banglore</td>\n      <td>CCU → NAG → BLR</td>\n      <td>1 stop</td>\n      <td>No info</td>\n      <td>CCU</td>\n      <td>NAG</td>\n      <td>BLR</td>\n      <td>NaN</td>\n      <td>NaN</td>\n    </tr>\n    <tr>\n      <th>4</th>\n      <td>IndiGo</td>\n      <td>Banglore</td>\n      <td>New Delhi</td>\n      <td>BLR → NAG → DEL</td>\n      <td>1 stop</td>\n      <td>No info</td>\n      <td>BLR</td>\n      <td>NAG</td>\n      <td>DEL</td>\n      <td>NaN</td>\n      <td>NaN</td>\n    </tr>\n  </tbody>\n</table>\n</div>"
     },
     "execution_count": 69,
     "metadata": {},
     "output_type": "execute_result"
    }
   ],
   "source": [
    "categorical.head()"
   ]
  },
  {
   "cell_type": "code",
   "execution_count": 70,
   "metadata": {},
   "outputs": [
    {
     "name": "stderr",
     "output_type": "stream",
     "text": [
      "/Users/yrzhang/.virtualenvs/data/lib/python3.9/site-packages/pandas/core/frame.py:4906: SettingWithCopyWarning: \n",
      "A value is trying to be set on a copy of a slice from a DataFrame\n",
      "\n",
      "See the caveats in the documentation: https://pandas.pydata.org/pandas-docs/stable/user_guide/indexing.html#returning-a-view-versus-a-copy\n",
      "  return super().drop(\n"
     ]
    }
   ],
   "source": [
    "# Additional_Info contains almost 80% no_info,so we can drop this column\n",
    "# we can drop Route as well as we have pre-process that column\n",
    "    \n",
    "drop_column(categorical,'Route')\n",
    "drop_column(categorical,'Additional_Info')"
   ]
  },
  {
   "cell_type": "code",
   "execution_count": 71,
   "metadata": {},
   "outputs": [
    {
     "data": {
      "text/plain": "       Airline    Source Destination Total_Stops Route_1 Route_2 Route_3  \\\n0       IndiGo  Banglore   New Delhi    non-stop    BLR      DEL     NaN   \n1    Air India   Kolkata    Banglore     2 stops    CCU     IXR     BBI    \n2  Jet Airways     Delhi      Cochin     2 stops    DEL     LKO     BOM    \n3       IndiGo   Kolkata    Banglore      1 stop    CCU     NAG      BLR   \n4       IndiGo  Banglore   New Delhi      1 stop    BLR     NAG      DEL   \n\n  Route_4 Route_5  \n0     NaN     NaN  \n1     BLR     NaN  \n2     COK     NaN  \n3     NaN     NaN  \n4     NaN     NaN  ",
      "text/html": "<div>\n<style scoped>\n    .dataframe tbody tr th:only-of-type {\n        vertical-align: middle;\n    }\n\n    .dataframe tbody tr th {\n        vertical-align: top;\n    }\n\n    .dataframe thead th {\n        text-align: right;\n    }\n</style>\n<table border=\"1\" class=\"dataframe\">\n  <thead>\n    <tr style=\"text-align: right;\">\n      <th></th>\n      <th>Airline</th>\n      <th>Source</th>\n      <th>Destination</th>\n      <th>Total_Stops</th>\n      <th>Route_1</th>\n      <th>Route_2</th>\n      <th>Route_3</th>\n      <th>Route_4</th>\n      <th>Route_5</th>\n    </tr>\n  </thead>\n  <tbody>\n    <tr>\n      <th>0</th>\n      <td>IndiGo</td>\n      <td>Banglore</td>\n      <td>New Delhi</td>\n      <td>non-stop</td>\n      <td>BLR</td>\n      <td>DEL</td>\n      <td>NaN</td>\n      <td>NaN</td>\n      <td>NaN</td>\n    </tr>\n    <tr>\n      <th>1</th>\n      <td>Air India</td>\n      <td>Kolkata</td>\n      <td>Banglore</td>\n      <td>2 stops</td>\n      <td>CCU</td>\n      <td>IXR</td>\n      <td>BBI</td>\n      <td>BLR</td>\n      <td>NaN</td>\n    </tr>\n    <tr>\n      <th>2</th>\n      <td>Jet Airways</td>\n      <td>Delhi</td>\n      <td>Cochin</td>\n      <td>2 stops</td>\n      <td>DEL</td>\n      <td>LKO</td>\n      <td>BOM</td>\n      <td>COK</td>\n      <td>NaN</td>\n    </tr>\n    <tr>\n      <th>3</th>\n      <td>IndiGo</td>\n      <td>Kolkata</td>\n      <td>Banglore</td>\n      <td>1 stop</td>\n      <td>CCU</td>\n      <td>NAG</td>\n      <td>BLR</td>\n      <td>NaN</td>\n      <td>NaN</td>\n    </tr>\n    <tr>\n      <th>4</th>\n      <td>IndiGo</td>\n      <td>Banglore</td>\n      <td>New Delhi</td>\n      <td>1 stop</td>\n      <td>BLR</td>\n      <td>NAG</td>\n      <td>DEL</td>\n      <td>NaN</td>\n      <td>NaN</td>\n    </tr>\n  </tbody>\n</table>\n</div>"
     },
     "execution_count": 71,
     "metadata": {},
     "output_type": "execute_result"
    }
   ],
   "source": [
    "categorical.head()"
   ]
  },
  {
   "cell_type": "code",
   "execution_count": 70,
   "metadata": {},
   "outputs": [
    {
     "data": {
      "text/plain": [
       "1 stop      5625\n",
       "non-stop    3491\n",
       "2 stops     1520\n",
       "3 stops       45\n",
       "4 stops        1\n",
       "Name: Total_Stops, dtype: int64"
      ]
     },
     "execution_count": 70,
     "metadata": {},
     "output_type": "execute_result"
    }
   ],
   "source": [
    "categorical['Total_Stops'].value_counts()"
   ]
  },
  {
   "cell_type": "code",
   "execution_count": 72,
   "metadata": {},
   "outputs": [
    {
     "data": {
      "text/plain": "array(['non-stop', '2 stops', '1 stop', '3 stops', '4 stops'],\n      dtype=object)"
     },
     "execution_count": 72,
     "metadata": {},
     "output_type": "execute_result"
    }
   ],
   "source": [
    "categorical['Total_Stops'].unique()"
   ]
  },
  {
   "cell_type": "code",
   "execution_count": 73,
   "metadata": {},
   "outputs": [],
   "source": [
    "# As this is case of Ordinal Categorical type we perform LabelEncoder\n",
    "# Here Values are assigned with corresponding key\n",
    "\n",
    "dict={'non-stop':0, '2 stops':2, '1 stop':1, '3 stops':3, '4 stops':4}"
   ]
  },
  {
   "cell_type": "code",
   "execution_count": 74,
   "metadata": {},
   "outputs": [
    {
     "name": "stderr",
     "output_type": "stream",
     "text": [
      "/var/folders/8q/s8p7y9td1wv7nf_pqwhh5xd00000gn/T/ipykernel_57179/2995340578.py:1: SettingWithCopyWarning: \n",
      "A value is trying to be set on a copy of a slice from a DataFrame.\n",
      "Try using .loc[row_indexer,col_indexer] = value instead\n",
      "\n",
      "See the caveats in the documentation: https://pandas.pydata.org/pandas-docs/stable/user_guide/indexing.html#returning-a-view-versus-a-copy\n",
      "  categorical['Total_Stops']=categorical['Total_Stops'].map(dict)\n"
     ]
    }
   ],
   "source": [
    "categorical['Total_Stops']=categorical['Total_Stops'].map(dict)"
   ]
  },
  {
   "cell_type": "code",
   "execution_count": 74,
   "metadata": {},
   "outputs": [
    {
     "data": {
      "text/html": [
       "<div>\n",
       "<style scoped>\n",
       "    .dataframe tbody tr th:only-of-type {\n",
       "        vertical-align: middle;\n",
       "    }\n",
       "\n",
       "    .dataframe tbody tr th {\n",
       "        vertical-align: top;\n",
       "    }\n",
       "\n",
       "    .dataframe thead th {\n",
       "        text-align: right;\n",
       "    }\n",
       "</style>\n",
       "<table border=\"1\" class=\"dataframe\">\n",
       "  <thead>\n",
       "    <tr style=\"text-align: right;\">\n",
       "      <th></th>\n",
       "      <th>Airline</th>\n",
       "      <th>Source</th>\n",
       "      <th>Destination</th>\n",
       "      <th>Total_Stops</th>\n",
       "      <th>Route_1</th>\n",
       "      <th>Route_2</th>\n",
       "      <th>Route_3</th>\n",
       "      <th>Route_4</th>\n",
       "      <th>Route_5</th>\n",
       "    </tr>\n",
       "  </thead>\n",
       "  <tbody>\n",
       "    <tr>\n",
       "      <th>0</th>\n",
       "      <td>IndiGo</td>\n",
       "      <td>Banglore</td>\n",
       "      <td>New Delhi</td>\n",
       "      <td>0</td>\n",
       "      <td>0</td>\n",
       "      <td>13</td>\n",
       "      <td>29</td>\n",
       "      <td>13</td>\n",
       "      <td>5</td>\n",
       "    </tr>\n",
       "    <tr>\n",
       "      <th>1</th>\n",
       "      <td>Air India</td>\n",
       "      <td>Kolkata</td>\n",
       "      <td>Banglore</td>\n",
       "      <td>2</td>\n",
       "      <td>2</td>\n",
       "      <td>25</td>\n",
       "      <td>1</td>\n",
       "      <td>3</td>\n",
       "      <td>5</td>\n",
       "    </tr>\n",
       "    <tr>\n",
       "      <th>2</th>\n",
       "      <td>Jet Airways</td>\n",
       "      <td>Delhi</td>\n",
       "      <td>Cochin</td>\n",
       "      <td>2</td>\n",
       "      <td>3</td>\n",
       "      <td>32</td>\n",
       "      <td>4</td>\n",
       "      <td>5</td>\n",
       "      <td>5</td>\n",
       "    </tr>\n",
       "    <tr>\n",
       "      <th>3</th>\n",
       "      <td>IndiGo</td>\n",
       "      <td>Kolkata</td>\n",
       "      <td>Banglore</td>\n",
       "      <td>1</td>\n",
       "      <td>2</td>\n",
       "      <td>34</td>\n",
       "      <td>3</td>\n",
       "      <td>13</td>\n",
       "      <td>5</td>\n",
       "    </tr>\n",
       "    <tr>\n",
       "      <th>4</th>\n",
       "      <td>IndiGo</td>\n",
       "      <td>Banglore</td>\n",
       "      <td>New Delhi</td>\n",
       "      <td>1</td>\n",
       "      <td>0</td>\n",
       "      <td>34</td>\n",
       "      <td>8</td>\n",
       "      <td>13</td>\n",
       "      <td>5</td>\n",
       "    </tr>\n",
       "  </tbody>\n",
       "</table>\n",
       "</div>"
      ],
      "text/plain": [
       "       Airline    Source Destination  Total_Stops  Route_1  Route_2  Route_3  \\\n",
       "0       IndiGo  Banglore   New Delhi            0        0       13       29   \n",
       "1    Air India   Kolkata    Banglore            2        2       25        1   \n",
       "2  Jet Airways     Delhi      Cochin            2        3       32        4   \n",
       "3       IndiGo   Kolkata    Banglore            1        2       34        3   \n",
       "4       IndiGo  Banglore   New Delhi            1        0       34        8   \n",
       "\n",
       "   Route_4  Route_5  \n",
       "0       13        5  \n",
       "1        3        5  \n",
       "2        5        5  \n",
       "3       13        5  \n",
       "4       13        5  "
      ]
     },
     "execution_count": 74,
     "metadata": {},
     "output_type": "execute_result"
    }
   ],
   "source": [
    "categorical.head()"
   ]
  },
  {
   "cell_type": "code",
   "execution_count": 75,
   "metadata": {},
   "outputs": [
    {
     "data": {
      "text/plain": "                 Dep_Time        Arrival_Time  Price  Journey_day  \\\n0     2022-01-14 22:20:00 2022-03-22 01:10:00   3897           24   \n1     2022-01-14 05:50:00 2022-01-14 13:15:00   7662            5   \n2     2022-01-14 09:25:00 2022-06-10 04:25:00  13882            6   \n3     2022-01-14 18:05:00 2022-01-14 23:30:00   6218            5   \n4     2022-01-14 16:50:00 2022-01-14 21:35:00  13302            3   \n...                   ...                 ...    ...          ...   \n10678 2022-01-14 19:55:00 2022-01-14 22:25:00   4107            4   \n10679 2022-01-14 20:45:00 2022-01-14 23:20:00   4145           27   \n10680 2022-01-14 08:20:00 2022-01-14 11:20:00   7229           27   \n10681 2022-01-14 11:30:00 2022-01-14 14:10:00  12648            3   \n10682 2022-01-14 10:55:00 2022-01-14 19:15:00  11753            5   \n\n       Journey_month  Dep_Time_hour  Dep_Time_minute  Duration_hours  \\\n0                  3             22               20               2   \n1                  1              5               50               7   \n2                  9              9               25              19   \n3                 12             18                5               5   \n4                  1             16               50               4   \n...              ...            ...              ...             ...   \n10678              9             19               55               2   \n10679              4             20               45               2   \n10680              4              8               20               3   \n10681              1             11               30               2   \n10682              9             10               55               8   \n\n       Duration_mins  \n0                 50  \n1                 25  \n2                  0  \n3                 25  \n4                 45  \n...              ...  \n10678             30  \n10679             35  \n10680              0  \n10681             40  \n10682             20  \n\n[10682 rows x 9 columns]",
      "text/html": "<div>\n<style scoped>\n    .dataframe tbody tr th:only-of-type {\n        vertical-align: middle;\n    }\n\n    .dataframe tbody tr th {\n        vertical-align: top;\n    }\n\n    .dataframe thead th {\n        text-align: right;\n    }\n</style>\n<table border=\"1\" class=\"dataframe\">\n  <thead>\n    <tr style=\"text-align: right;\">\n      <th></th>\n      <th>Dep_Time</th>\n      <th>Arrival_Time</th>\n      <th>Price</th>\n      <th>Journey_day</th>\n      <th>Journey_month</th>\n      <th>Dep_Time_hour</th>\n      <th>Dep_Time_minute</th>\n      <th>Duration_hours</th>\n      <th>Duration_mins</th>\n    </tr>\n  </thead>\n  <tbody>\n    <tr>\n      <th>0</th>\n      <td>2022-01-14 22:20:00</td>\n      <td>2022-03-22 01:10:00</td>\n      <td>3897</td>\n      <td>24</td>\n      <td>3</td>\n      <td>22</td>\n      <td>20</td>\n      <td>2</td>\n      <td>50</td>\n    </tr>\n    <tr>\n      <th>1</th>\n      <td>2022-01-14 05:50:00</td>\n      <td>2022-01-14 13:15:00</td>\n      <td>7662</td>\n      <td>5</td>\n      <td>1</td>\n      <td>5</td>\n      <td>50</td>\n      <td>7</td>\n      <td>25</td>\n    </tr>\n    <tr>\n      <th>2</th>\n      <td>2022-01-14 09:25:00</td>\n      <td>2022-06-10 04:25:00</td>\n      <td>13882</td>\n      <td>6</td>\n      <td>9</td>\n      <td>9</td>\n      <td>25</td>\n      <td>19</td>\n      <td>0</td>\n    </tr>\n    <tr>\n      <th>3</th>\n      <td>2022-01-14 18:05:00</td>\n      <td>2022-01-14 23:30:00</td>\n      <td>6218</td>\n      <td>5</td>\n      <td>12</td>\n      <td>18</td>\n      <td>5</td>\n      <td>5</td>\n      <td>25</td>\n    </tr>\n    <tr>\n      <th>4</th>\n      <td>2022-01-14 16:50:00</td>\n      <td>2022-01-14 21:35:00</td>\n      <td>13302</td>\n      <td>3</td>\n      <td>1</td>\n      <td>16</td>\n      <td>50</td>\n      <td>4</td>\n      <td>45</td>\n    </tr>\n    <tr>\n      <th>...</th>\n      <td>...</td>\n      <td>...</td>\n      <td>...</td>\n      <td>...</td>\n      <td>...</td>\n      <td>...</td>\n      <td>...</td>\n      <td>...</td>\n      <td>...</td>\n    </tr>\n    <tr>\n      <th>10678</th>\n      <td>2022-01-14 19:55:00</td>\n      <td>2022-01-14 22:25:00</td>\n      <td>4107</td>\n      <td>4</td>\n      <td>9</td>\n      <td>19</td>\n      <td>55</td>\n      <td>2</td>\n      <td>30</td>\n    </tr>\n    <tr>\n      <th>10679</th>\n      <td>2022-01-14 20:45:00</td>\n      <td>2022-01-14 23:20:00</td>\n      <td>4145</td>\n      <td>27</td>\n      <td>4</td>\n      <td>20</td>\n      <td>45</td>\n      <td>2</td>\n      <td>35</td>\n    </tr>\n    <tr>\n      <th>10680</th>\n      <td>2022-01-14 08:20:00</td>\n      <td>2022-01-14 11:20:00</td>\n      <td>7229</td>\n      <td>27</td>\n      <td>4</td>\n      <td>8</td>\n      <td>20</td>\n      <td>3</td>\n      <td>0</td>\n    </tr>\n    <tr>\n      <th>10681</th>\n      <td>2022-01-14 11:30:00</td>\n      <td>2022-01-14 14:10:00</td>\n      <td>12648</td>\n      <td>3</td>\n      <td>1</td>\n      <td>11</td>\n      <td>30</td>\n      <td>2</td>\n      <td>40</td>\n    </tr>\n    <tr>\n      <th>10682</th>\n      <td>2022-01-14 10:55:00</td>\n      <td>2022-01-14 19:15:00</td>\n      <td>11753</td>\n      <td>5</td>\n      <td>9</td>\n      <td>10</td>\n      <td>55</td>\n      <td>8</td>\n      <td>20</td>\n    </tr>\n  </tbody>\n</table>\n<p>10682 rows × 9 columns</p>\n</div>"
     },
     "execution_count": 75,
     "metadata": {},
     "output_type": "execute_result"
    }
   ],
   "source": [
    "train_data[cont_col]"
   ]
  },
  {
   "cell_type": "code",
   "execution_count": 77,
   "metadata": {},
   "outputs": [
    {
     "data": {
      "text/plain": "       Airline    Source Destination  Total_Stops Route_1 Route_2 Route_3  \\\n0       IndiGo  Banglore   New Delhi            0    BLR      DEL     NaN   \n1    Air India   Kolkata    Banglore            2    CCU     IXR     BBI    \n2  Jet Airways     Delhi      Cochin            2    DEL     LKO     BOM    \n3       IndiGo   Kolkata    Banglore            1    CCU     NAG      BLR   \n4       IndiGo  Banglore   New Delhi            1    BLR     NAG      DEL   \n\n  Route_4 Route_5  Air India  ...  New Delhi            Dep_Time  \\\n0     NaN     NaN          0  ...          1 2022-01-14 22:20:00   \n1     BLR     NaN          1  ...          0 2022-01-14 05:50:00   \n2     COK     NaN          0  ...          0 2022-01-14 09:25:00   \n3     NaN     NaN          0  ...          0 2022-01-14 18:05:00   \n4     NaN     NaN          0  ...          1 2022-01-14 16:50:00   \n\n         Arrival_Time  Price  Journey_day  Journey_month  Dep_Time_hour  \\\n0 2022-03-22 01:10:00   3897           24              3             22   \n1 2022-01-14 13:15:00   7662            5              1              5   \n2 2022-06-10 04:25:00  13882            6              9              9   \n3 2022-01-14 23:30:00   6218            5             12             18   \n4 2022-01-14 21:35:00  13302            3              1             16   \n\n   Dep_Time_minute  Duration_hours  Duration_mins  \n0               20               2             50  \n1               50               7             25  \n2               25              19              0  \n3                5               5             25  \n4               50               4             45  \n\n[5 rows x 38 columns]",
      "text/html": "<div>\n<style scoped>\n    .dataframe tbody tr th:only-of-type {\n        vertical-align: middle;\n    }\n\n    .dataframe tbody tr th {\n        vertical-align: top;\n    }\n\n    .dataframe thead th {\n        text-align: right;\n    }\n</style>\n<table border=\"1\" class=\"dataframe\">\n  <thead>\n    <tr style=\"text-align: right;\">\n      <th></th>\n      <th>Airline</th>\n      <th>Source</th>\n      <th>Destination</th>\n      <th>Total_Stops</th>\n      <th>Route_1</th>\n      <th>Route_2</th>\n      <th>Route_3</th>\n      <th>Route_4</th>\n      <th>Route_5</th>\n      <th>Air India</th>\n      <th>...</th>\n      <th>New Delhi</th>\n      <th>Dep_Time</th>\n      <th>Arrival_Time</th>\n      <th>Price</th>\n      <th>Journey_day</th>\n      <th>Journey_month</th>\n      <th>Dep_Time_hour</th>\n      <th>Dep_Time_minute</th>\n      <th>Duration_hours</th>\n      <th>Duration_mins</th>\n    </tr>\n  </thead>\n  <tbody>\n    <tr>\n      <th>0</th>\n      <td>IndiGo</td>\n      <td>Banglore</td>\n      <td>New Delhi</td>\n      <td>0</td>\n      <td>BLR</td>\n      <td>DEL</td>\n      <td>NaN</td>\n      <td>NaN</td>\n      <td>NaN</td>\n      <td>0</td>\n      <td>...</td>\n      <td>1</td>\n      <td>2022-01-14 22:20:00</td>\n      <td>2022-03-22 01:10:00</td>\n      <td>3897</td>\n      <td>24</td>\n      <td>3</td>\n      <td>22</td>\n      <td>20</td>\n      <td>2</td>\n      <td>50</td>\n    </tr>\n    <tr>\n      <th>1</th>\n      <td>Air India</td>\n      <td>Kolkata</td>\n      <td>Banglore</td>\n      <td>2</td>\n      <td>CCU</td>\n      <td>IXR</td>\n      <td>BBI</td>\n      <td>BLR</td>\n      <td>NaN</td>\n      <td>1</td>\n      <td>...</td>\n      <td>0</td>\n      <td>2022-01-14 05:50:00</td>\n      <td>2022-01-14 13:15:00</td>\n      <td>7662</td>\n      <td>5</td>\n      <td>1</td>\n      <td>5</td>\n      <td>50</td>\n      <td>7</td>\n      <td>25</td>\n    </tr>\n    <tr>\n      <th>2</th>\n      <td>Jet Airways</td>\n      <td>Delhi</td>\n      <td>Cochin</td>\n      <td>2</td>\n      <td>DEL</td>\n      <td>LKO</td>\n      <td>BOM</td>\n      <td>COK</td>\n      <td>NaN</td>\n      <td>0</td>\n      <td>...</td>\n      <td>0</td>\n      <td>2022-01-14 09:25:00</td>\n      <td>2022-06-10 04:25:00</td>\n      <td>13882</td>\n      <td>6</td>\n      <td>9</td>\n      <td>9</td>\n      <td>25</td>\n      <td>19</td>\n      <td>0</td>\n    </tr>\n    <tr>\n      <th>3</th>\n      <td>IndiGo</td>\n      <td>Kolkata</td>\n      <td>Banglore</td>\n      <td>1</td>\n      <td>CCU</td>\n      <td>NAG</td>\n      <td>BLR</td>\n      <td>NaN</td>\n      <td>NaN</td>\n      <td>0</td>\n      <td>...</td>\n      <td>0</td>\n      <td>2022-01-14 18:05:00</td>\n      <td>2022-01-14 23:30:00</td>\n      <td>6218</td>\n      <td>5</td>\n      <td>12</td>\n      <td>18</td>\n      <td>5</td>\n      <td>5</td>\n      <td>25</td>\n    </tr>\n    <tr>\n      <th>4</th>\n      <td>IndiGo</td>\n      <td>Banglore</td>\n      <td>New Delhi</td>\n      <td>1</td>\n      <td>BLR</td>\n      <td>NAG</td>\n      <td>DEL</td>\n      <td>NaN</td>\n      <td>NaN</td>\n      <td>0</td>\n      <td>...</td>\n      <td>1</td>\n      <td>2022-01-14 16:50:00</td>\n      <td>2022-01-14 21:35:00</td>\n      <td>13302</td>\n      <td>3</td>\n      <td>1</td>\n      <td>16</td>\n      <td>50</td>\n      <td>4</td>\n      <td>45</td>\n    </tr>\n  </tbody>\n</table>\n<p>5 rows × 38 columns</p>\n</div>"
     },
     "execution_count": 77,
     "metadata": {},
     "output_type": "execute_result"
    }
   ],
   "source": [
    "# Concatenate dataframe --> categorical + Airline + Source + Destination\n",
    "\n",
    "data_train=pd.concat([categorical,Airline,Source,Destination,train_data[cont_col]],axis=1)\n",
    "data_train.head()"
   ]
  },
  {
   "cell_type": "code",
   "execution_count": 78,
   "metadata": {},
   "outputs": [],
   "source": [
    "drop_column(data_train,'Airline')\n",
    "drop_column(data_train,'Source')\n",
    "drop_column(data_train,'Destination')"
   ]
  },
  {
   "cell_type": "code",
   "execution_count": 79,
   "metadata": {},
   "outputs": [
    {
     "data": {
      "text/plain": "   Total_Stops Route_1 Route_2 Route_3 Route_4 Route_5  Air India  GoAir  \\\n0            0    BLR      DEL     NaN     NaN     NaN          0      0   \n1            2    CCU     IXR     BBI      BLR     NaN          1      0   \n2            2    DEL     LKO     BOM      COK     NaN          0      0   \n3            1    CCU     NAG      BLR     NaN     NaN          0      0   \n4            1    BLR     NAG      DEL     NaN     NaN          0      0   \n\n   IndiGo  Jet Airways  ...  New Delhi            Dep_Time  \\\n0       1            0  ...          1 2022-01-14 22:20:00   \n1       0            0  ...          0 2022-01-14 05:50:00   \n2       0            1  ...          0 2022-01-14 09:25:00   \n3       1            0  ...          0 2022-01-14 18:05:00   \n4       1            0  ...          1 2022-01-14 16:50:00   \n\n         Arrival_Time  Price  Journey_day  Journey_month  Dep_Time_hour  \\\n0 2022-03-22 01:10:00   3897           24              3             22   \n1 2022-01-14 13:15:00   7662            5              1              5   \n2 2022-06-10 04:25:00  13882            6              9              9   \n3 2022-01-14 23:30:00   6218            5             12             18   \n4 2022-01-14 21:35:00  13302            3              1             16   \n\n   Dep_Time_minute  Duration_hours  Duration_mins  \n0               20               2             50  \n1               50               7             25  \n2               25              19              0  \n3                5               5             25  \n4               50               4             45  \n\n[5 rows x 35 columns]",
      "text/html": "<div>\n<style scoped>\n    .dataframe tbody tr th:only-of-type {\n        vertical-align: middle;\n    }\n\n    .dataframe tbody tr th {\n        vertical-align: top;\n    }\n\n    .dataframe thead th {\n        text-align: right;\n    }\n</style>\n<table border=\"1\" class=\"dataframe\">\n  <thead>\n    <tr style=\"text-align: right;\">\n      <th></th>\n      <th>Total_Stops</th>\n      <th>Route_1</th>\n      <th>Route_2</th>\n      <th>Route_3</th>\n      <th>Route_4</th>\n      <th>Route_5</th>\n      <th>Air India</th>\n      <th>GoAir</th>\n      <th>IndiGo</th>\n      <th>Jet Airways</th>\n      <th>...</th>\n      <th>New Delhi</th>\n      <th>Dep_Time</th>\n      <th>Arrival_Time</th>\n      <th>Price</th>\n      <th>Journey_day</th>\n      <th>Journey_month</th>\n      <th>Dep_Time_hour</th>\n      <th>Dep_Time_minute</th>\n      <th>Duration_hours</th>\n      <th>Duration_mins</th>\n    </tr>\n  </thead>\n  <tbody>\n    <tr>\n      <th>0</th>\n      <td>0</td>\n      <td>BLR</td>\n      <td>DEL</td>\n      <td>NaN</td>\n      <td>NaN</td>\n      <td>NaN</td>\n      <td>0</td>\n      <td>0</td>\n      <td>1</td>\n      <td>0</td>\n      <td>...</td>\n      <td>1</td>\n      <td>2022-01-14 22:20:00</td>\n      <td>2022-03-22 01:10:00</td>\n      <td>3897</td>\n      <td>24</td>\n      <td>3</td>\n      <td>22</td>\n      <td>20</td>\n      <td>2</td>\n      <td>50</td>\n    </tr>\n    <tr>\n      <th>1</th>\n      <td>2</td>\n      <td>CCU</td>\n      <td>IXR</td>\n      <td>BBI</td>\n      <td>BLR</td>\n      <td>NaN</td>\n      <td>1</td>\n      <td>0</td>\n      <td>0</td>\n      <td>0</td>\n      <td>...</td>\n      <td>0</td>\n      <td>2022-01-14 05:50:00</td>\n      <td>2022-01-14 13:15:00</td>\n      <td>7662</td>\n      <td>5</td>\n      <td>1</td>\n      <td>5</td>\n      <td>50</td>\n      <td>7</td>\n      <td>25</td>\n    </tr>\n    <tr>\n      <th>2</th>\n      <td>2</td>\n      <td>DEL</td>\n      <td>LKO</td>\n      <td>BOM</td>\n      <td>COK</td>\n      <td>NaN</td>\n      <td>0</td>\n      <td>0</td>\n      <td>0</td>\n      <td>1</td>\n      <td>...</td>\n      <td>0</td>\n      <td>2022-01-14 09:25:00</td>\n      <td>2022-06-10 04:25:00</td>\n      <td>13882</td>\n      <td>6</td>\n      <td>9</td>\n      <td>9</td>\n      <td>25</td>\n      <td>19</td>\n      <td>0</td>\n    </tr>\n    <tr>\n      <th>3</th>\n      <td>1</td>\n      <td>CCU</td>\n      <td>NAG</td>\n      <td>BLR</td>\n      <td>NaN</td>\n      <td>NaN</td>\n      <td>0</td>\n      <td>0</td>\n      <td>1</td>\n      <td>0</td>\n      <td>...</td>\n      <td>0</td>\n      <td>2022-01-14 18:05:00</td>\n      <td>2022-01-14 23:30:00</td>\n      <td>6218</td>\n      <td>5</td>\n      <td>12</td>\n      <td>18</td>\n      <td>5</td>\n      <td>5</td>\n      <td>25</td>\n    </tr>\n    <tr>\n      <th>4</th>\n      <td>1</td>\n      <td>BLR</td>\n      <td>NAG</td>\n      <td>DEL</td>\n      <td>NaN</td>\n      <td>NaN</td>\n      <td>0</td>\n      <td>0</td>\n      <td>1</td>\n      <td>0</td>\n      <td>...</td>\n      <td>1</td>\n      <td>2022-01-14 16:50:00</td>\n      <td>2022-01-14 21:35:00</td>\n      <td>13302</td>\n      <td>3</td>\n      <td>1</td>\n      <td>16</td>\n      <td>50</td>\n      <td>4</td>\n      <td>45</td>\n    </tr>\n  </tbody>\n</table>\n<p>5 rows × 35 columns</p>\n</div>"
     },
     "execution_count": 79,
     "metadata": {},
     "output_type": "execute_result"
    }
   ],
   "source": [
    "data_train.head()"
   ]
  },
  {
   "cell_type": "code",
   "execution_count": null,
   "metadata": {},
   "outputs": [],
   "source": []
  },
  {
   "cell_type": "code",
   "execution_count": 80,
   "metadata": {},
   "outputs": [],
   "source": [
    "pd.set_option('display.max_columns',35)"
   ]
  },
  {
   "cell_type": "code",
   "execution_count": 81,
   "metadata": {},
   "outputs": [
    {
     "data": {
      "text/plain": "   Total_Stops Route_1 Route_2 Route_3 Route_4 Route_5  Air India  GoAir  \\\n0            0    BLR      DEL     NaN     NaN     NaN          0      0   \n1            2    CCU     IXR     BBI      BLR     NaN          1      0   \n2            2    DEL     LKO     BOM      COK     NaN          0      0   \n3            1    CCU     NAG      BLR     NaN     NaN          0      0   \n4            1    BLR     NAG      DEL     NaN     NaN          0      0   \n\n   IndiGo  Jet Airways  Jet Airways Business  Multiple carriers  \\\n0       1            0                     0                  0   \n1       0            0                     0                  0   \n2       0            1                     0                  0   \n3       1            0                     0                  0   \n4       1            0                     0                  0   \n\n   Multiple carriers Premium economy  SpiceJet  Trujet  Vistara  \\\n0                                  0         0       0        0   \n1                                  0         0       0        0   \n2                                  0         0       0        0   \n3                                  0         0       0        0   \n4                                  0         0       0        0   \n\n   Vistara Premium economy  Chennai  Delhi  Kolkata  Mumbai  Cochin  Delhi  \\\n0                        0        0      0        0       0       0      0   \n1                        0        0      0        1       0       0      0   \n2                        0        0      1        0       0       1      0   \n3                        0        0      0        1       0       0      0   \n4                        0        0      0        0       0       0      0   \n\n   Hyderabad  Kolkata  New Delhi            Dep_Time        Arrival_Time  \\\n0          0        0          1 2022-01-14 22:20:00 2022-03-22 01:10:00   \n1          0        0          0 2022-01-14 05:50:00 2022-01-14 13:15:00   \n2          0        0          0 2022-01-14 09:25:00 2022-06-10 04:25:00   \n3          0        0          0 2022-01-14 18:05:00 2022-01-14 23:30:00   \n4          0        0          1 2022-01-14 16:50:00 2022-01-14 21:35:00   \n\n   Price  Journey_day  Journey_month  Dep_Time_hour  Dep_Time_minute  \\\n0   3897           24              3             22               20   \n1   7662            5              1              5               50   \n2  13882            6              9              9               25   \n3   6218            5             12             18                5   \n4  13302            3              1             16               50   \n\n   Duration_hours  Duration_mins  \n0               2             50  \n1               7             25  \n2              19              0  \n3               5             25  \n4               4             45  ",
      "text/html": "<div>\n<style scoped>\n    .dataframe tbody tr th:only-of-type {\n        vertical-align: middle;\n    }\n\n    .dataframe tbody tr th {\n        vertical-align: top;\n    }\n\n    .dataframe thead th {\n        text-align: right;\n    }\n</style>\n<table border=\"1\" class=\"dataframe\">\n  <thead>\n    <tr style=\"text-align: right;\">\n      <th></th>\n      <th>Total_Stops</th>\n      <th>Route_1</th>\n      <th>Route_2</th>\n      <th>Route_3</th>\n      <th>Route_4</th>\n      <th>Route_5</th>\n      <th>Air India</th>\n      <th>GoAir</th>\n      <th>IndiGo</th>\n      <th>Jet Airways</th>\n      <th>Jet Airways Business</th>\n      <th>Multiple carriers</th>\n      <th>Multiple carriers Premium economy</th>\n      <th>SpiceJet</th>\n      <th>Trujet</th>\n      <th>Vistara</th>\n      <th>Vistara Premium economy</th>\n      <th>Chennai</th>\n      <th>Delhi</th>\n      <th>Kolkata</th>\n      <th>Mumbai</th>\n      <th>Cochin</th>\n      <th>Delhi</th>\n      <th>Hyderabad</th>\n      <th>Kolkata</th>\n      <th>New Delhi</th>\n      <th>Dep_Time</th>\n      <th>Arrival_Time</th>\n      <th>Price</th>\n      <th>Journey_day</th>\n      <th>Journey_month</th>\n      <th>Dep_Time_hour</th>\n      <th>Dep_Time_minute</th>\n      <th>Duration_hours</th>\n      <th>Duration_mins</th>\n    </tr>\n  </thead>\n  <tbody>\n    <tr>\n      <th>0</th>\n      <td>0</td>\n      <td>BLR</td>\n      <td>DEL</td>\n      <td>NaN</td>\n      <td>NaN</td>\n      <td>NaN</td>\n      <td>0</td>\n      <td>0</td>\n      <td>1</td>\n      <td>0</td>\n      <td>0</td>\n      <td>0</td>\n      <td>0</td>\n      <td>0</td>\n      <td>0</td>\n      <td>0</td>\n      <td>0</td>\n      <td>0</td>\n      <td>0</td>\n      <td>0</td>\n      <td>0</td>\n      <td>0</td>\n      <td>0</td>\n      <td>0</td>\n      <td>0</td>\n      <td>1</td>\n      <td>2022-01-14 22:20:00</td>\n      <td>2022-03-22 01:10:00</td>\n      <td>3897</td>\n      <td>24</td>\n      <td>3</td>\n      <td>22</td>\n      <td>20</td>\n      <td>2</td>\n      <td>50</td>\n    </tr>\n    <tr>\n      <th>1</th>\n      <td>2</td>\n      <td>CCU</td>\n      <td>IXR</td>\n      <td>BBI</td>\n      <td>BLR</td>\n      <td>NaN</td>\n      <td>1</td>\n      <td>0</td>\n      <td>0</td>\n      <td>0</td>\n      <td>0</td>\n      <td>0</td>\n      <td>0</td>\n      <td>0</td>\n      <td>0</td>\n      <td>0</td>\n      <td>0</td>\n      <td>0</td>\n      <td>0</td>\n      <td>1</td>\n      <td>0</td>\n      <td>0</td>\n      <td>0</td>\n      <td>0</td>\n      <td>0</td>\n      <td>0</td>\n      <td>2022-01-14 05:50:00</td>\n      <td>2022-01-14 13:15:00</td>\n      <td>7662</td>\n      <td>5</td>\n      <td>1</td>\n      <td>5</td>\n      <td>50</td>\n      <td>7</td>\n      <td>25</td>\n    </tr>\n    <tr>\n      <th>2</th>\n      <td>2</td>\n      <td>DEL</td>\n      <td>LKO</td>\n      <td>BOM</td>\n      <td>COK</td>\n      <td>NaN</td>\n      <td>0</td>\n      <td>0</td>\n      <td>0</td>\n      <td>1</td>\n      <td>0</td>\n      <td>0</td>\n      <td>0</td>\n      <td>0</td>\n      <td>0</td>\n      <td>0</td>\n      <td>0</td>\n      <td>0</td>\n      <td>1</td>\n      <td>0</td>\n      <td>0</td>\n      <td>1</td>\n      <td>0</td>\n      <td>0</td>\n      <td>0</td>\n      <td>0</td>\n      <td>2022-01-14 09:25:00</td>\n      <td>2022-06-10 04:25:00</td>\n      <td>13882</td>\n      <td>6</td>\n      <td>9</td>\n      <td>9</td>\n      <td>25</td>\n      <td>19</td>\n      <td>0</td>\n    </tr>\n    <tr>\n      <th>3</th>\n      <td>1</td>\n      <td>CCU</td>\n      <td>NAG</td>\n      <td>BLR</td>\n      <td>NaN</td>\n      <td>NaN</td>\n      <td>0</td>\n      <td>0</td>\n      <td>1</td>\n      <td>0</td>\n      <td>0</td>\n      <td>0</td>\n      <td>0</td>\n      <td>0</td>\n      <td>0</td>\n      <td>0</td>\n      <td>0</td>\n      <td>0</td>\n      <td>0</td>\n      <td>1</td>\n      <td>0</td>\n      <td>0</td>\n      <td>0</td>\n      <td>0</td>\n      <td>0</td>\n      <td>0</td>\n      <td>2022-01-14 18:05:00</td>\n      <td>2022-01-14 23:30:00</td>\n      <td>6218</td>\n      <td>5</td>\n      <td>12</td>\n      <td>18</td>\n      <td>5</td>\n      <td>5</td>\n      <td>25</td>\n    </tr>\n    <tr>\n      <th>4</th>\n      <td>1</td>\n      <td>BLR</td>\n      <td>NAG</td>\n      <td>DEL</td>\n      <td>NaN</td>\n      <td>NaN</td>\n      <td>0</td>\n      <td>0</td>\n      <td>1</td>\n      <td>0</td>\n      <td>0</td>\n      <td>0</td>\n      <td>0</td>\n      <td>0</td>\n      <td>0</td>\n      <td>0</td>\n      <td>0</td>\n      <td>0</td>\n      <td>0</td>\n      <td>0</td>\n      <td>0</td>\n      <td>0</td>\n      <td>0</td>\n      <td>0</td>\n      <td>0</td>\n      <td>1</td>\n      <td>2022-01-14 16:50:00</td>\n      <td>2022-01-14 21:35:00</td>\n      <td>13302</td>\n      <td>3</td>\n      <td>1</td>\n      <td>16</td>\n      <td>50</td>\n      <td>4</td>\n      <td>45</td>\n    </tr>\n  </tbody>\n</table>\n</div>"
     },
     "execution_count": 81,
     "metadata": {},
     "output_type": "execute_result"
    }
   ],
   "source": [
    "data_train.head()"
   ]
  },
  {
   "cell_type": "code",
   "execution_count": 82,
   "metadata": {},
   "outputs": [
    {
     "data": {
      "text/plain": "Index(['Total_Stops', 'Route_1', 'Route_2', 'Route_3', 'Route_4', 'Route_5',\n       'Air India', 'GoAir', 'IndiGo', 'Jet Airways', 'Jet Airways Business',\n       'Multiple carriers', 'Multiple carriers Premium economy', 'SpiceJet',\n       'Trujet', 'Vistara', 'Vistara Premium economy', 'Chennai', 'Delhi',\n       'Kolkata', 'Mumbai', 'Cochin', 'Delhi', 'Hyderabad', 'Kolkata',\n       'New Delhi', 'Dep_Time', 'Arrival_Time', 'Price', 'Journey_day',\n       'Journey_month', 'Dep_Time_hour', 'Dep_Time_minute', 'Duration_hours',\n       'Duration_mins'],\n      dtype='object')"
     },
     "execution_count": 82,
     "metadata": {},
     "output_type": "execute_result"
    }
   ],
   "source": [
    "data_train.columns"
   ]
  },
  {
   "cell_type": "code",
   "execution_count": null,
   "metadata": {},
   "outputs": [],
   "source": []
  },
  {
   "cell_type": "markdown",
   "metadata": {},
   "source": [
    "### outlier detection"
   ]
  },
  {
   "cell_type": "code",
   "execution_count": 83,
   "metadata": {},
   "outputs": [],
   "source": [
    "def plot(df,col):\n",
    "    fig,(ax1,ax2)=plt.subplots(2,1)\n",
    "    sns.distplot(df[col],ax=ax1)\n",
    "    sns.boxplot(df[col],ax=ax2)\n",
    "    "
   ]
  },
  {
   "cell_type": "code",
   "execution_count": 84,
   "metadata": {},
   "outputs": [
    {
     "name": "stderr",
     "output_type": "stream",
     "text": [
      "/Users/yrzhang/.virtualenvs/data/lib/python3.9/site-packages/seaborn/distributions.py:2619: FutureWarning: `distplot` is a deprecated function and will be removed in a future version. Please adapt your code to use either `displot` (a figure-level function with similar flexibility) or `histplot` (an axes-level function for histograms).\n",
      "  warnings.warn(msg, FutureWarning)\n",
      "/Users/yrzhang/.virtualenvs/data/lib/python3.9/site-packages/seaborn/_decorators.py:36: FutureWarning: Pass the following variable as a keyword arg: x. From version 0.12, the only valid positional argument will be `data`, and passing other arguments without an explicit keyword will result in an error or misinterpretation.\n",
      "  warnings.warn(\n"
     ]
    },
    {
     "data": {
      "text/plain": "<Figure size 2160x1440 with 0 Axes>"
     },
     "metadata": {},
     "output_type": "display_data"
    },
    {
     "data": {
      "text/plain": "<Figure size 432x288 with 2 Axes>",
      "image/png": "[encoded data removed]"
     },
     "metadata": {
      "needs_background": "light"
     },
     "output_type": "display_data"
    }
   ],
   "source": [
    "plt.figure(figsize=(30,20))\n",
    "plot(data_train,'Price')"
   ]
  },
  {
   "cell_type": "code",
   "execution_count": null,
   "metadata": {},
   "outputs": [],
   "source": []
  },
  {
   "cell_type": "code",
   "execution_count": null,
   "metadata": {},
   "outputs": [],
   "source": []
  },
  {
   "cell_type": "markdown",
   "metadata": {},
   "source": [
    "#### dealing with Outliers"
   ]
  },
  {
   "cell_type": "code",
   "execution_count": 85,
   "metadata": {},
   "outputs": [],
   "source": [
    "data_train['Price']=np.where(data_train['Price']>=40000,data_train['Price'].median(),data_train['Price'])"
   ]
  },
  {
   "cell_type": "code",
   "execution_count": 86,
   "metadata": {},
   "outputs": [
    {
     "name": "stderr",
     "output_type": "stream",
     "text": [
      "/Users/yrzhang/.virtualenvs/data/lib/python3.9/site-packages/seaborn/distributions.py:2619: FutureWarning: `distplot` is a deprecated function and will be removed in a future version. Please adapt your code to use either `displot` (a figure-level function with similar flexibility) or `histplot` (an axes-level function for histograms).\n",
      "  warnings.warn(msg, FutureWarning)\n",
      "/Users/yrzhang/.virtualenvs/data/lib/python3.9/site-packages/seaborn/_decorators.py:36: FutureWarning: Pass the following variable as a keyword arg: x. From version 0.12, the only valid positional argument will be `data`, and passing other arguments without an explicit keyword will result in an error or misinterpretation.\n",
      "  warnings.warn(\n"
     ]
    },
    {
     "data": {
      "text/plain": "<Figure size 2160x1440 with 0 Axes>"
     },
     "metadata": {},
     "output_type": "display_data"
    },
    {
     "data": {
      "text/plain": "<Figure size 432x288 with 2 Axes>",
      "image/png": "[encoded data removed]"
     },
     "metadata": {
      "needs_background": "light"
     },
     "output_type": "display_data"
    }
   ],
   "source": [
    "plt.figure(figsize=(30,20))\n",
    "plot(data_train,'Price')"
   ]
  },
  {
   "cell_type": "code",
   "execution_count": null,
   "metadata": {},
   "outputs": [],
   "source": []
  },
  {
   "cell_type": "code",
   "execution_count": 86,
   "metadata": {},
   "outputs": [],
   "source": [
    "### separate your independent & dependent data"
   ]
  },
  {
   "cell_type": "code",
   "execution_count": 87,
   "metadata": {},
   "outputs": [
    {
     "data": {
      "text/plain": "   Total_Stops Route_1 Route_2 Route_3 Route_4 Route_5  Air India  GoAir  \\\n0            0    BLR      DEL     NaN     NaN     NaN          0      0   \n1            2    CCU     IXR     BBI      BLR     NaN          1      0   \n2            2    DEL     LKO     BOM      COK     NaN          0      0   \n3            1    CCU     NAG      BLR     NaN     NaN          0      0   \n4            1    BLR     NAG      DEL     NaN     NaN          0      0   \n\n   IndiGo  Jet Airways  Jet Airways Business  Multiple carriers  \\\n0       1            0                     0                  0   \n1       0            0                     0                  0   \n2       0            1                     0                  0   \n3       1            0                     0                  0   \n4       1            0                     0                  0   \n\n   Multiple carriers Premium economy  SpiceJet  Trujet  Vistara  \\\n0                                  0         0       0        0   \n1                                  0         0       0        0   \n2                                  0         0       0        0   \n3                                  0         0       0        0   \n4                                  0         0       0        0   \n\n   Vistara Premium economy  Chennai  Delhi  Kolkata  Mumbai  Cochin  Delhi  \\\n0                        0        0      0        0       0       0      0   \n1                        0        0      0        1       0       0      0   \n2                        0        0      1        0       0       1      0   \n3                        0        0      0        1       0       0      0   \n4                        0        0      0        0       0       0      0   \n\n   Hyderabad  Kolkata  New Delhi            Dep_Time        Arrival_Time  \\\n0          0        0          1 2022-01-14 22:20:00 2022-03-22 01:10:00   \n1          0        0          0 2022-01-14 05:50:00 2022-01-14 13:15:00   \n2          0        0          0 2022-01-14 09:25:00 2022-06-10 04:25:00   \n3          0        0          0 2022-01-14 18:05:00 2022-01-14 23:30:00   \n4          0        0          1 2022-01-14 16:50:00 2022-01-14 21:35:00   \n\n   Journey_day  Journey_month  Dep_Time_hour  Dep_Time_minute  Duration_hours  \\\n0           24              3             22               20               2   \n1            5              1              5               50               7   \n2            6              9              9               25              19   \n3            5             12             18                5               5   \n4            3              1             16               50               4   \n\n   Duration_mins  \n0             50  \n1             25  \n2              0  \n3             25  \n4             45  ",
      "text/html": "<div>\n<style scoped>\n    .dataframe tbody tr th:only-of-type {\n        vertical-align: middle;\n    }\n\n    .dataframe tbody tr th {\n        vertical-align: top;\n    }\n\n    .dataframe thead th {\n        text-align: right;\n    }\n</style>\n<table border=\"1\" class=\"dataframe\">\n  <thead>\n    <tr style=\"text-align: right;\">\n      <th></th>\n      <th>Total_Stops</th>\n      <th>Route_1</th>\n      <th>Route_2</th>\n      <th>Route_3</th>\n      <th>Route_4</th>\n      <th>Route_5</th>\n      <th>Air India</th>\n      <th>GoAir</th>\n      <th>IndiGo</th>\n      <th>Jet Airways</th>\n      <th>Jet Airways Business</th>\n      <th>Multiple carriers</th>\n      <th>Multiple carriers Premium economy</th>\n      <th>SpiceJet</th>\n      <th>Trujet</th>\n      <th>Vistara</th>\n      <th>Vistara Premium economy</th>\n      <th>Chennai</th>\n      <th>Delhi</th>\n      <th>Kolkata</th>\n      <th>Mumbai</th>\n      <th>Cochin</th>\n      <th>Delhi</th>\n      <th>Hyderabad</th>\n      <th>Kolkata</th>\n      <th>New Delhi</th>\n      <th>Dep_Time</th>\n      <th>Arrival_Time</th>\n      <th>Journey_day</th>\n      <th>Journey_month</th>\n      <th>Dep_Time_hour</th>\n      <th>Dep_Time_minute</th>\n      <th>Duration_hours</th>\n      <th>Duration_mins</th>\n    </tr>\n  </thead>\n  <tbody>\n    <tr>\n      <th>0</th>\n      <td>0</td>\n      <td>BLR</td>\n      <td>DEL</td>\n      <td>NaN</td>\n      <td>NaN</td>\n      <td>NaN</td>\n      <td>0</td>\n      <td>0</td>\n      <td>1</td>\n      <td>0</td>\n      <td>0</td>\n      <td>0</td>\n      <td>0</td>\n      <td>0</td>\n      <td>0</td>\n      <td>0</td>\n      <td>0</td>\n      <td>0</td>\n      <td>0</td>\n      <td>0</td>\n      <td>0</td>\n      <td>0</td>\n      <td>0</td>\n      <td>0</td>\n      <td>0</td>\n      <td>1</td>\n      <td>2022-01-14 22:20:00</td>\n      <td>2022-03-22 01:10:00</td>\n      <td>24</td>\n      <td>3</td>\n      <td>22</td>\n      <td>20</td>\n      <td>2</td>\n      <td>50</td>\n    </tr>\n    <tr>\n      <th>1</th>\n      <td>2</td>\n      <td>CCU</td>\n      <td>IXR</td>\n      <td>BBI</td>\n      <td>BLR</td>\n      <td>NaN</td>\n      <td>1</td>\n      <td>0</td>\n      <td>0</td>\n      <td>0</td>\n      <td>0</td>\n      <td>0</td>\n      <td>0</td>\n      <td>0</td>\n      <td>0</td>\n      <td>0</td>\n      <td>0</td>\n      <td>0</td>\n      <td>0</td>\n      <td>1</td>\n      <td>0</td>\n      <td>0</td>\n      <td>0</td>\n      <td>0</td>\n      <td>0</td>\n      <td>0</td>\n      <td>2022-01-14 05:50:00</td>\n      <td>2022-01-14 13:15:00</td>\n      <td>5</td>\n      <td>1</td>\n      <td>5</td>\n      <td>50</td>\n      <td>7</td>\n      <td>25</td>\n    </tr>\n    <tr>\n      <th>2</th>\n      <td>2</td>\n      <td>DEL</td>\n      <td>LKO</td>\n      <td>BOM</td>\n      <td>COK</td>\n      <td>NaN</td>\n      <td>0</td>\n      <td>0</td>\n      <td>0</td>\n      <td>1</td>\n      <td>0</td>\n      <td>0</td>\n      <td>0</td>\n      <td>0</td>\n      <td>0</td>\n      <td>0</td>\n      <td>0</td>\n      <td>0</td>\n      <td>1</td>\n      <td>0</td>\n      <td>0</td>\n      <td>1</td>\n      <td>0</td>\n      <td>0</td>\n      <td>0</td>\n      <td>0</td>\n      <td>2022-01-14 09:25:00</td>\n      <td>2022-06-10 04:25:00</td>\n      <td>6</td>\n      <td>9</td>\n      <td>9</td>\n      <td>25</td>\n      <td>19</td>\n      <td>0</td>\n    </tr>\n    <tr>\n      <th>3</th>\n      <td>1</td>\n      <td>CCU</td>\n      <td>NAG</td>\n      <td>BLR</td>\n      <td>NaN</td>\n      <td>NaN</td>\n      <td>0</td>\n      <td>0</td>\n      <td>1</td>\n      <td>0</td>\n      <td>0</td>\n      <td>0</td>\n      <td>0</td>\n      <td>0</td>\n      <td>0</td>\n      <td>0</td>\n      <td>0</td>\n      <td>0</td>\n      <td>0</td>\n      <td>1</td>\n      <td>0</td>\n      <td>0</td>\n      <td>0</td>\n      <td>0</td>\n      <td>0</td>\n      <td>0</td>\n      <td>2022-01-14 18:05:00</td>\n      <td>2022-01-14 23:30:00</td>\n      <td>5</td>\n      <td>12</td>\n      <td>18</td>\n      <td>5</td>\n      <td>5</td>\n      <td>25</td>\n    </tr>\n    <tr>\n      <th>4</th>\n      <td>1</td>\n      <td>BLR</td>\n      <td>NAG</td>\n      <td>DEL</td>\n      <td>NaN</td>\n      <td>NaN</td>\n      <td>0</td>\n      <td>0</td>\n      <td>1</td>\n      <td>0</td>\n      <td>0</td>\n      <td>0</td>\n      <td>0</td>\n      <td>0</td>\n      <td>0</td>\n      <td>0</td>\n      <td>0</td>\n      <td>0</td>\n      <td>0</td>\n      <td>0</td>\n      <td>0</td>\n      <td>0</td>\n      <td>0</td>\n      <td>0</td>\n      <td>0</td>\n      <td>1</td>\n      <td>2022-01-14 16:50:00</td>\n      <td>2022-01-14 21:35:00</td>\n      <td>3</td>\n      <td>1</td>\n      <td>16</td>\n      <td>50</td>\n      <td>4</td>\n      <td>45</td>\n    </tr>\n  </tbody>\n</table>\n</div>"
     },
     "execution_count": 87,
     "metadata": {},
     "output_type": "execute_result"
    }
   ],
   "source": [
    "X=data_train.drop('Price',axis=1)\n",
    "X.head()"
   ]
  },
  {
   "cell_type": "code",
   "execution_count": null,
   "metadata": {},
   "outputs": [],
   "source": []
  },
  {
   "cell_type": "code",
   "execution_count": 89,
   "metadata": {},
   "outputs": [
    {
     "data": {
      "text/plain": "0         3897.0\n1         7662.0\n2        13882.0\n3         6218.0\n4        13302.0\n          ...   \n10678     4107.0\n10679     4145.0\n10680     7229.0\n10681    12648.0\n10682    11753.0\nName: Price, Length: 10682, dtype: float64"
     },
     "execution_count": 89,
     "metadata": {},
     "output_type": "execute_result"
    }
   ],
   "source": [
    "y=data_train['Price']\n",
    "y"
   ]
  },
  {
   "cell_type": "code",
   "execution_count": null,
   "metadata": {},
   "outputs": [],
   "source": [
    "##type(X)"
   ]
  },
  {
   "cell_type": "code",
   "execution_count": null,
   "metadata": {},
   "outputs": [],
   "source": [
    "##type(y)"
   ]
  },
  {
   "cell_type": "code",
   "execution_count": null,
   "metadata": {},
   "outputs": [],
   "source": [
    "##X.isnull().sum()"
   ]
  },
  {
   "cell_type": "code",
   "execution_count": null,
   "metadata": {},
   "outputs": [],
   "source": [
    "##y.isnull().sum()"
   ]
  },
  {
   "cell_type": "code",
   "execution_count": null,
   "metadata": {},
   "outputs": [],
   "source": [
    "#### as now we dont have any missing value in data, we can definitely go ahead with Feature Selection"
   ]
  },
  {
   "cell_type": "code",
   "execution_count": null,
   "metadata": {},
   "outputs": [],
   "source": []
  },
  {
   "cell_type": "markdown",
   "metadata": {},
   "source": [
    "### Feature Selection\n",
    "    Finding out the best feature which will contribute and have good relation with target variable. \n",
    "    \n",
    "### Why to apply Feature Selection?\n",
    "    To select important features to get rid of curse of dimensionality ie..to get rid of duplicate features"
   ]
  },
  {
   "cell_type": "code",
   "execution_count": null,
   "metadata": {},
   "outputs": [],
   "source": [
    "###np.array(X)"
   ]
  },
  {
   "cell_type": "code",
   "execution_count": null,
   "metadata": {},
   "outputs": [],
   "source": [
    "##np.array(y)"
   ]
  },
  {
   "cell_type": "markdown",
   "metadata": {},
   "source": [
    "### I wanted to find mutual information scores or matrix to get to know about the relationship between all features."
   ]
  },
  {
   "cell_type": "markdown",
   "metadata": {},
   "source": [
    "####  Feature Selection using Information Gain,"
   ]
  },
  {
   "cell_type": "code",
   "execution_count": 90,
   "metadata": {},
   "outputs": [
    {
     "ename": "ModuleNotFoundError",
     "evalue": "No module named 'sklearn'",
     "output_type": "error",
     "traceback": [
      "\u001B[0;31m---------------------------------------------------------------------------\u001B[0m",
      "\u001B[0;31mModuleNotFoundError\u001B[0m                       Traceback (most recent call last)",
      "\u001B[0;32m/var/folders/8q/s8p7y9td1wv7nf_pqwhh5xd00000gn/T/ipykernel_57179/2203309566.py\u001B[0m in \u001B[0;36m<module>\u001B[0;34m\u001B[0m\n\u001B[0;32m----> 1\u001B[0;31m \u001B[0;32mfrom\u001B[0m \u001B[0msklearn\u001B[0m\u001B[0;34m.\u001B[0m\u001B[0mfeature_selection\u001B[0m \u001B[0;32mimport\u001B[0m \u001B[0mmutual_info_classif\u001B[0m\u001B[0;34m\u001B[0m\u001B[0;34m\u001B[0m\u001B[0m\n\u001B[0m\u001B[1;32m      2\u001B[0m \u001B[0;34m\u001B[0m\u001B[0m\n",
      "\u001B[0;31mModuleNotFoundError\u001B[0m: No module named 'sklearn'"
     ]
    }
   ],
   "source": [
    "from sklearn.feature_selection import mutual_info_classif"
   ]
  },
  {
   "cell_type": "code",
   "execution_count": 91,
   "metadata": {},
   "outputs": [
    {
     "ename": "NameError",
     "evalue": "name 'mutual_info_classif' is not defined",
     "output_type": "error",
     "traceback": [
      "\u001B[0;31m---------------------------------------------------------------------------\u001B[0m",
      "\u001B[0;31mNameError\u001B[0m                                 Traceback (most recent call last)",
      "\u001B[0;32m/var/folders/8q/s8p7y9td1wv7nf_pqwhh5xd00000gn/T/ipykernel_57179/2729525046.py\u001B[0m in \u001B[0;36m<module>\u001B[0;34m\u001B[0m\n\u001B[0;32m----> 1\u001B[0;31m \u001B[0mmutual_info_classif\u001B[0m\u001B[0;34m(\u001B[0m\u001B[0;34m)\u001B[0m\u001B[0;34m\u001B[0m\u001B[0;34m\u001B[0m\u001B[0m\n\u001B[0m\u001B[1;32m      2\u001B[0m \u001B[0;34m\u001B[0m\u001B[0m\n",
      "\u001B[0;31mNameError\u001B[0m: name 'mutual_info_classif' is not defined"
     ]
    }
   ],
   "source": [
    "mutual_info_classif()"
   ]
  },
  {
   "cell_type": "code",
   "execution_count": null,
   "metadata": {},
   "outputs": [],
   "source": [
    "###mutual_info_classif(np.array(X),np.array(y))"
   ]
  },
  {
   "cell_type": "code",
   "execution_count": 92,
   "metadata": {},
   "outputs": [
    {
     "data": {
      "text/plain": "Total_Stops                                   int64\nRoute_1                                      object\nRoute_2                                      object\nRoute_3                                      object\nRoute_4                                      object\nRoute_5                                      object\nAir India                                     uint8\nGoAir                                         uint8\nIndiGo                                        uint8\nJet Airways                                   uint8\nJet Airways Business                          uint8\nMultiple carriers                             uint8\nMultiple carriers Premium economy             uint8\nSpiceJet                                      uint8\nTrujet                                        uint8\nVistara                                       uint8\nVistara Premium economy                       uint8\nChennai                                       uint8\nDelhi                                         uint8\nKolkata                                       uint8\nMumbai                                        uint8\nCochin                                        uint8\nDelhi                                         uint8\nHyderabad                                     uint8\nKolkata                                       uint8\nNew Delhi                                     uint8\nDep_Time                             datetime64[ns]\nArrival_Time                         datetime64[ns]\nJourney_day                                   int64\nJourney_month                                 int64\nDep_Time_hour                                 int64\nDep_Time_minute                               int64\nDuration_hours                                int64\nDuration_mins                                 int64\ndtype: object"
     },
     "execution_count": 92,
     "metadata": {},
     "output_type": "execute_result"
    }
   ],
   "source": [
    "X.dtypes"
   ]
  },
  {
   "cell_type": "code",
   "execution_count": 93,
   "metadata": {},
   "outputs": [
    {
     "ename": "NameError",
     "evalue": "name 'mutual_info_classif' is not defined",
     "output_type": "error",
     "traceback": [
      "\u001B[0;31m---------------------------------------------------------------------------\u001B[0m",
      "\u001B[0;31mNameError\u001B[0m                                 Traceback (most recent call last)",
      "\u001B[0;32m/var/folders/8q/s8p7y9td1wv7nf_pqwhh5xd00000gn/T/ipykernel_57179/3424234482.py\u001B[0m in \u001B[0;36m<module>\u001B[0;34m\u001B[0m\n\u001B[0;32m----> 1\u001B[0;31m \u001B[0mmutual_info_classif\u001B[0m\u001B[0;34m(\u001B[0m\u001B[0mX\u001B[0m\u001B[0;34m,\u001B[0m\u001B[0my\u001B[0m\u001B[0;34m)\u001B[0m\u001B[0;34m\u001B[0m\u001B[0;34m\u001B[0m\u001B[0m\n\u001B[0m\u001B[1;32m      2\u001B[0m \u001B[0;34m\u001B[0m\u001B[0m\n",
      "\u001B[0;31mNameError\u001B[0m: name 'mutual_info_classif' is not defined"
     ]
    }
   ],
   "source": [
    "mutual_info_classif(X,y)"
   ]
  },
  {
   "cell_type": "code",
   "execution_count": 81,
   "metadata": {},
   "outputs": [
    {
     "data": {
      "text/html": [
       "<div>\n",
       "<style scoped>\n",
       "    .dataframe tbody tr th:only-of-type {\n",
       "        vertical-align: middle;\n",
       "    }\n",
       "\n",
       "    .dataframe tbody tr th {\n",
       "        vertical-align: top;\n",
       "    }\n",
       "\n",
       "    .dataframe thead th {\n",
       "        text-align: right;\n",
       "    }\n",
       "</style>\n",
       "<table border=\"1\" class=\"dataframe\">\n",
       "  <thead>\n",
       "    <tr style=\"text-align: right;\">\n",
       "      <th></th>\n",
       "      <th>0</th>\n",
       "    </tr>\n",
       "  </thead>\n",
       "  <tbody>\n",
       "    <tr>\n",
       "      <th>Total_Stops</th>\n",
       "      <td>2.194628</td>\n",
       "    </tr>\n",
       "    <tr>\n",
       "      <th>Route_1</th>\n",
       "      <td>2.058102</td>\n",
       "    </tr>\n",
       "    <tr>\n",
       "      <th>Route_2</th>\n",
       "      <td>2.815119</td>\n",
       "    </tr>\n",
       "    <tr>\n",
       "      <th>Route_3</th>\n",
       "      <td>2.337620</td>\n",
       "    </tr>\n",
       "    <tr>\n",
       "      <th>Route_4</th>\n",
       "      <td>1.455257</td>\n",
       "    </tr>\n",
       "    <tr>\n",
       "      <th>Route_5</th>\n",
       "      <td>0.715127</td>\n",
       "    </tr>\n",
       "    <tr>\n",
       "      <th>Air India</th>\n",
       "      <td>0.781658</td>\n",
       "    </tr>\n",
       "    <tr>\n",
       "      <th>GoAir</th>\n",
       "      <td>0.093884</td>\n",
       "    </tr>\n",
       "    <tr>\n",
       "      <th>IndiGo</th>\n",
       "      <td>0.679138</td>\n",
       "    </tr>\n",
       "    <tr>\n",
       "      <th>Jet Airways</th>\n",
       "      <td>0.924709</td>\n",
       "    </tr>\n",
       "    <tr>\n",
       "      <th>Jet Airways Business</th>\n",
       "      <td>0.005136</td>\n",
       "    </tr>\n",
       "    <tr>\n",
       "      <th>Multiple carriers</th>\n",
       "      <td>0.557502</td>\n",
       "    </tr>\n",
       "    <tr>\n",
       "      <th>Multiple carriers Premium economy</th>\n",
       "      <td>0.015180</td>\n",
       "    </tr>\n",
       "    <tr>\n",
       "      <th>SpiceJet</th>\n",
       "      <td>0.319211</td>\n",
       "    </tr>\n",
       "    <tr>\n",
       "      <th>Trujet</th>\n",
       "      <td>0.000000</td>\n",
       "    </tr>\n",
       "    <tr>\n",
       "      <th>Vistara</th>\n",
       "      <td>0.218790</td>\n",
       "    </tr>\n",
       "    <tr>\n",
       "      <th>Vistara Premium economy</th>\n",
       "      <td>0.004367</td>\n",
       "    </tr>\n",
       "    <tr>\n",
       "      <th>Chennai</th>\n",
       "      <td>0.176605</td>\n",
       "    </tr>\n",
       "    <tr>\n",
       "      <th>Delhi</th>\n",
       "      <td>1.567707</td>\n",
       "    </tr>\n",
       "    <tr>\n",
       "      <th>Kolkata</th>\n",
       "      <td>0.883307</td>\n",
       "    </tr>\n",
       "    <tr>\n",
       "      <th>Mumbai</th>\n",
       "      <td>0.287219</td>\n",
       "    </tr>\n",
       "    <tr>\n",
       "      <th>Cochin</th>\n",
       "      <td>1.542882</td>\n",
       "    </tr>\n",
       "    <tr>\n",
       "      <th>Delhi</th>\n",
       "      <td>0.401278</td>\n",
       "    </tr>\n",
       "    <tr>\n",
       "      <th>Hyderabad</th>\n",
       "      <td>0.271150</td>\n",
       "    </tr>\n",
       "    <tr>\n",
       "      <th>Kolkata</th>\n",
       "      <td>0.173318</td>\n",
       "    </tr>\n",
       "    <tr>\n",
       "      <th>New Delhi</th>\n",
       "      <td>0.378684</td>\n",
       "    </tr>\n",
       "    <tr>\n",
       "      <th>Journey_day</th>\n",
       "      <td>1.086590</td>\n",
       "    </tr>\n",
       "    <tr>\n",
       "      <th>Journey_month</th>\n",
       "      <td>0.877797</td>\n",
       "    </tr>\n",
       "    <tr>\n",
       "      <th>Dep_hour</th>\n",
       "      <td>1.420480</td>\n",
       "    </tr>\n",
       "    <tr>\n",
       "      <th>Dep_min</th>\n",
       "      <td>1.199261</td>\n",
       "    </tr>\n",
       "    <tr>\n",
       "      <th>Arrival_hour</th>\n",
       "      <td>1.855666</td>\n",
       "    </tr>\n",
       "    <tr>\n",
       "      <th>Arrival_min</th>\n",
       "      <td>1.529901</td>\n",
       "    </tr>\n",
       "    <tr>\n",
       "      <th>Duration_hours</th>\n",
       "      <td>1.776158</td>\n",
       "    </tr>\n",
       "    <tr>\n",
       "      <th>Duration_mins</th>\n",
       "      <td>1.067492</td>\n",
       "    </tr>\n",
       "  </tbody>\n",
       "</table>\n",
       "</div>"
      ],
      "text/plain": [
       "                                          0\n",
       "Total_Stops                        2.194628\n",
       "Route_1                            2.058102\n",
       "Route_2                            2.815119\n",
       "Route_3                            2.337620\n",
       "Route_4                            1.455257\n",
       "Route_5                            0.715127\n",
       "Air India                          0.781658\n",
       "GoAir                              0.093884\n",
       "IndiGo                             0.679138\n",
       "Jet Airways                        0.924709\n",
       "Jet Airways Business               0.005136\n",
       "Multiple carriers                  0.557502\n",
       "Multiple carriers Premium economy  0.015180\n",
       "SpiceJet                           0.319211\n",
       "Trujet                             0.000000\n",
       "Vistara                            0.218790\n",
       "Vistara Premium economy            0.004367\n",
       "Chennai                            0.176605\n",
       "Delhi                              1.567707\n",
       "Kolkata                            0.883307\n",
       "Mumbai                             0.287219\n",
       "Cochin                             1.542882\n",
       "Delhi                              0.401278\n",
       "Hyderabad                          0.271150\n",
       "Kolkata                            0.173318\n",
       "New Delhi                          0.378684\n",
       "Journey_day                        1.086590\n",
       "Journey_month                      0.877797\n",
       "Dep_hour                           1.420480\n",
       "Dep_min                            1.199261\n",
       "Arrival_hour                       1.855666\n",
       "Arrival_min                        1.529901\n",
       "Duration_hours                     1.776158\n",
       "Duration_mins                      1.067492"
      ]
     },
     "execution_count": 81,
     "metadata": {},
     "output_type": "execute_result"
    }
   ],
   "source": [
    "imp=pd.DataFrame(mutual_info_classif(X,y),index=X.columns)\n",
    "imp"
   ]
  },
  {
   "cell_type": "code",
   "execution_count": 82,
   "metadata": {},
   "outputs": [
    {
     "data": {
      "text/html": [
       "<div>\n",
       "<style scoped>\n",
       "    .dataframe tbody tr th:only-of-type {\n",
       "        vertical-align: middle;\n",
       "    }\n",
       "\n",
       "    .dataframe tbody tr th {\n",
       "        vertical-align: top;\n",
       "    }\n",
       "\n",
       "    .dataframe thead th {\n",
       "        text-align: right;\n",
       "    }\n",
       "</style>\n",
       "<table border=\"1\" class=\"dataframe\">\n",
       "  <thead>\n",
       "    <tr style=\"text-align: right;\">\n",
       "      <th></th>\n",
       "      <th>importance</th>\n",
       "    </tr>\n",
       "  </thead>\n",
       "  <tbody>\n",
       "    <tr>\n",
       "      <th>Route_2</th>\n",
       "      <td>2.815119</td>\n",
       "    </tr>\n",
       "    <tr>\n",
       "      <th>Route_3</th>\n",
       "      <td>2.337620</td>\n",
       "    </tr>\n",
       "    <tr>\n",
       "      <th>Total_Stops</th>\n",
       "      <td>2.194628</td>\n",
       "    </tr>\n",
       "    <tr>\n",
       "      <th>Route_1</th>\n",
       "      <td>2.058102</td>\n",
       "    </tr>\n",
       "    <tr>\n",
       "      <th>Arrival_hour</th>\n",
       "      <td>1.855666</td>\n",
       "    </tr>\n",
       "    <tr>\n",
       "      <th>Duration_hours</th>\n",
       "      <td>1.776158</td>\n",
       "    </tr>\n",
       "    <tr>\n",
       "      <th>Delhi</th>\n",
       "      <td>1.567707</td>\n",
       "    </tr>\n",
       "    <tr>\n",
       "      <th>Cochin</th>\n",
       "      <td>1.542882</td>\n",
       "    </tr>\n",
       "    <tr>\n",
       "      <th>Arrival_min</th>\n",
       "      <td>1.529901</td>\n",
       "    </tr>\n",
       "    <tr>\n",
       "      <th>Route_4</th>\n",
       "      <td>1.455257</td>\n",
       "    </tr>\n",
       "    <tr>\n",
       "      <th>Dep_hour</th>\n",
       "      <td>1.420480</td>\n",
       "    </tr>\n",
       "    <tr>\n",
       "      <th>Dep_min</th>\n",
       "      <td>1.199261</td>\n",
       "    </tr>\n",
       "    <tr>\n",
       "      <th>Journey_day</th>\n",
       "      <td>1.086590</td>\n",
       "    </tr>\n",
       "    <tr>\n",
       "      <th>Duration_mins</th>\n",
       "      <td>1.067492</td>\n",
       "    </tr>\n",
       "    <tr>\n",
       "      <th>Jet Airways</th>\n",
       "      <td>0.924709</td>\n",
       "    </tr>\n",
       "    <tr>\n",
       "      <th>Kolkata</th>\n",
       "      <td>0.883307</td>\n",
       "    </tr>\n",
       "    <tr>\n",
       "      <th>Journey_month</th>\n",
       "      <td>0.877797</td>\n",
       "    </tr>\n",
       "    <tr>\n",
       "      <th>Air India</th>\n",
       "      <td>0.781658</td>\n",
       "    </tr>\n",
       "    <tr>\n",
       "      <th>Route_5</th>\n",
       "      <td>0.715127</td>\n",
       "    </tr>\n",
       "    <tr>\n",
       "      <th>IndiGo</th>\n",
       "      <td>0.679138</td>\n",
       "    </tr>\n",
       "    <tr>\n",
       "      <th>Multiple carriers</th>\n",
       "      <td>0.557502</td>\n",
       "    </tr>\n",
       "    <tr>\n",
       "      <th>Delhi</th>\n",
       "      <td>0.401278</td>\n",
       "    </tr>\n",
       "    <tr>\n",
       "      <th>New Delhi</th>\n",
       "      <td>0.378684</td>\n",
       "    </tr>\n",
       "    <tr>\n",
       "      <th>SpiceJet</th>\n",
       "      <td>0.319211</td>\n",
       "    </tr>\n",
       "    <tr>\n",
       "      <th>Mumbai</th>\n",
       "      <td>0.287219</td>\n",
       "    </tr>\n",
       "    <tr>\n",
       "      <th>Hyderabad</th>\n",
       "      <td>0.271150</td>\n",
       "    </tr>\n",
       "    <tr>\n",
       "      <th>Vistara</th>\n",
       "      <td>0.218790</td>\n",
       "    </tr>\n",
       "    <tr>\n",
       "      <th>Chennai</th>\n",
       "      <td>0.176605</td>\n",
       "    </tr>\n",
       "    <tr>\n",
       "      <th>Kolkata</th>\n",
       "      <td>0.173318</td>\n",
       "    </tr>\n",
       "    <tr>\n",
       "      <th>GoAir</th>\n",
       "      <td>0.093884</td>\n",
       "    </tr>\n",
       "    <tr>\n",
       "      <th>Multiple carriers Premium economy</th>\n",
       "      <td>0.015180</td>\n",
       "    </tr>\n",
       "    <tr>\n",
       "      <th>Jet Airways Business</th>\n",
       "      <td>0.005136</td>\n",
       "    </tr>\n",
       "    <tr>\n",
       "      <th>Vistara Premium economy</th>\n",
       "      <td>0.004367</td>\n",
       "    </tr>\n",
       "    <tr>\n",
       "      <th>Trujet</th>\n",
       "      <td>0.000000</td>\n",
       "    </tr>\n",
       "  </tbody>\n",
       "</table>\n",
       "</div>"
      ],
      "text/plain": [
       "                                   importance\n",
       "Route_2                              2.815119\n",
       "Route_3                              2.337620\n",
       "Total_Stops                          2.194628\n",
       "Route_1                              2.058102\n",
       "Arrival_hour                         1.855666\n",
       "Duration_hours                       1.776158\n",
       "Delhi                                1.567707\n",
       "Cochin                               1.542882\n",
       "Arrival_min                          1.529901\n",
       "Route_4                              1.455257\n",
       "Dep_hour                             1.420480\n",
       "Dep_min                              1.199261\n",
       "Journey_day                          1.086590\n",
       "Duration_mins                        1.067492\n",
       "Jet Airways                          0.924709\n",
       "Kolkata                              0.883307\n",
       "Journey_month                        0.877797\n",
       "Air India                            0.781658\n",
       "Route_5                              0.715127\n",
       "IndiGo                               0.679138\n",
       "Multiple carriers                    0.557502\n",
       "Delhi                                0.401278\n",
       "New Delhi                            0.378684\n",
       "SpiceJet                             0.319211\n",
       "Mumbai                               0.287219\n",
       "Hyderabad                            0.271150\n",
       "Vistara                              0.218790\n",
       "Chennai                              0.176605\n",
       "Kolkata                              0.173318\n",
       "GoAir                                0.093884\n",
       "Multiple carriers Premium economy    0.015180\n",
       "Jet Airways Business                 0.005136\n",
       "Vistara Premium economy              0.004367\n",
       "Trujet                               0.000000"
      ]
     },
     "execution_count": 82,
     "metadata": {},
     "output_type": "execute_result"
    }
   ],
   "source": [
    "imp.columns=['importance']\n",
    "imp.sort_values(by='importance',ascending=False)"
   ]
  },
  {
   "cell_type": "code",
   "execution_count": null,
   "metadata": {},
   "outputs": [],
   "source": []
  },
  {
   "cell_type": "markdown",
   "metadata": {},
   "source": [
    "#### split dataset into train & test"
   ]
  },
  {
   "cell_type": "code",
   "execution_count": 116,
   "metadata": {},
   "outputs": [],
   "source": [
    "from sklearn.model_selection import train_test_split"
   ]
  },
  {
   "cell_type": "code",
   "execution_count": 117,
   "metadata": {},
   "outputs": [],
   "source": [
    "X_train,X_test,y_train,y_test=train_test_split(X,y,test_size=0.2)"
   ]
  },
  {
   "cell_type": "code",
   "execution_count": null,
   "metadata": {},
   "outputs": [],
   "source": []
  },
  {
   "cell_type": "code",
   "execution_count": 136,
   "metadata": {},
   "outputs": [],
   "source": [
    "from sklearn import metrics\n",
    "##dump your model using pickle so that we will re-use\n",
    "import pickle\n",
    "def predict(ml_model,dump):\n",
    "    model=ml_model.fit(X_train,y_train)\n",
    "    print('Training score : {}'.format(model.score(X_train,y_train)))\n",
    "    y_prediction=model.predict(X_test)\n",
    "    print('predictions are: \\n {}'.format(y_prediction))\n",
    "    print('\\n')\n",
    "    r2_score=metrics.r2_score(y_test,y_prediction)\n",
    "    print('r2 score: {}'.format(r2_score))\n",
    "    print('MAE:',metrics.mean_absolute_error(y_test,y_prediction))\n",
    "    print('MSE:',metrics.mean_squared_error(y_test,y_prediction))\n",
    "    print('RMSE:',np.sqrt(metrics.mean_squared_error(y_test,y_prediction)))\n",
    "    sns.distplot(y_test-y_prediction)\n",
    "    \n",
    "    if dump==1:\n",
    "        ##dump your model using pickle so that we will re-use\n",
    "        file=open('E:\\End-2-end Projects\\Flight_Price/model.pkl','wb')\n",
    "        pickle.dump(model,file)"
   ]
  },
  {
   "cell_type": "code",
   "execution_count": null,
   "metadata": {},
   "outputs": [],
   "source": []
  },
  {
   "cell_type": "markdown",
   "metadata": {},
   "source": [
    "#### import randomforest class"
   ]
  },
  {
   "cell_type": "code",
   "execution_count": 125,
   "metadata": {},
   "outputs": [],
   "source": [
    "from sklearn.ensemble import RandomForestRegressor"
   ]
  },
  {
   "cell_type": "code",
   "execution_count": 137,
   "metadata": {},
   "outputs": [
    {
     "name": "stdout",
     "output_type": "stream",
     "text": [
      "Training score : 0.9556692169211497\n",
      "predictions are: \n",
      " [11670.71       12807.64566667  7637.22809524 ...  3867.19\n",
      "  8130.2905      7088.85      ]\n",
      "\n",
      "\n",
      "r2 score: 0.7836751385244558\n",
      "MAE: 1220.6687220088443\n",
      "MSE: 4069813.514958583\n",
      "RMSE: 2017.3778810521799\n"
     ]
    },
    {
     "data": {
      "image/png": "[encoded data removed]",
      "text/plain": [
       "<Figure size 432x288 with 1 Axes>"
      ]
     },
     "metadata": {
      "needs_background": "light"
     },
     "output_type": "display_data"
    }
   ],
   "source": [
    "predict(RandomForestRegressor(),1)"
   ]
  },
  {
   "cell_type": "code",
   "execution_count": null,
   "metadata": {},
   "outputs": [],
   "source": []
  },
  {
   "cell_type": "code",
   "execution_count": null,
   "metadata": {},
   "outputs": [],
   "source": []
  },
  {
   "cell_type": "code",
   "execution_count": null,
   "metadata": {},
   "outputs": [],
   "source": []
  },
  {
   "cell_type": "markdown",
   "metadata": {},
   "source": [
    "#### play with multiple Algorithms"
   ]
  },
  {
   "cell_type": "code",
   "execution_count": 138,
   "metadata": {},
   "outputs": [],
   "source": [
    "\n",
    "from sklearn.linear_model import LinearRegression\n",
    "from sklearn.neighbors import KNeighborsRegressor\n",
    "from sklearn.ensemble import RandomForestRegressor\n",
    "from sklearn.tree import DecisionTreeRegressor"
   ]
  },
  {
   "cell_type": "code",
   "execution_count": null,
   "metadata": {},
   "outputs": [],
   "source": []
  },
  {
   "cell_type": "code",
   "execution_count": 139,
   "metadata": {},
   "outputs": [
    {
     "name": "stdout",
     "output_type": "stream",
     "text": [
      "Training score : 0.9685134197428378\n",
      "predictions are: \n",
      " [11622. 13044.  8016. ...  3858.  8937.  6282.]\n",
      "\n",
      "\n",
      "r2 score: 0.6741394214992276\n",
      "MAE: 1408.7951099672437\n",
      "MSE: 6130556.503440051\n",
      "RMSE: 2475.996062888641\n"
     ]
    },
    {
     "data": {
      "image/png": "[encoded data removed]",
      "text/plain": [
       "<Figure size 432x288 with 1 Axes>"
      ]
     },
     "metadata": {
      "needs_background": "light"
     },
     "output_type": "display_data"
    }
   ],
   "source": [
    "predict(DecisionTreeRegressor(),0)"
   ]
  },
  {
   "cell_type": "code",
   "execution_count": 140,
   "metadata": {},
   "outputs": [
    {
     "name": "stdout",
     "output_type": "stream",
     "text": [
      "Training score : 0.6218075684598243\n",
      "predictions are: \n",
      " [10690.53125 11651.       7835.40625 ...  3334.71875 11530.34375\n",
      "  7610.5625 ]\n",
      "\n",
      "\n",
      "r2 score: 0.5899807190639135\n",
      "MAE: 1963.421195016378\n",
      "MSE: 7713870.701523291\n",
      "RMSE: 2777.3855874766996\n"
     ]
    },
    {
     "data": {
      "image/png": "[encoded data removed]",
      "text/plain": [
       "<Figure size 432x288 with 1 Axes>"
      ]
     },
     "metadata": {
      "needs_background": "light"
     },
     "output_type": "display_data"
    }
   ],
   "source": [
    "predict(LinearRegression(),0)"
   ]
  },
  {
   "cell_type": "code",
   "execution_count": null,
   "metadata": {},
   "outputs": [],
   "source": []
  },
  {
   "cell_type": "code",
   "execution_count": null,
   "metadata": {},
   "outputs": [],
   "source": []
  },
  {
   "cell_type": "code",
   "execution_count": null,
   "metadata": {},
   "outputs": [],
   "source": []
  },
  {
   "cell_type": "code",
   "execution_count": null,
   "metadata": {},
   "outputs": [],
   "source": []
  },
  {
   "cell_type": "code",
   "execution_count": null,
   "metadata": {},
   "outputs": [],
   "source": []
  },
  {
   "cell_type": "markdown",
   "metadata": {},
   "source": [
    "#### Hyperparameter Tuning\n",
    "    1.Choose following method for hyperparameter tuning\n",
    "        a.RandomizedSearchCV --> Fast way to Hypertune model\n",
    "        b.GridSearchCV--> Slow way to hypertune my model\n",
    "    \n",
    "    2.Assign hyperparameters in form of dictionary\n",
    "    3.Fit the model\n",
    "    4.Check best paramters and best score"
   ]
  },
  {
   "cell_type": "code",
   "execution_count": 97,
   "metadata": {},
   "outputs": [],
   "source": [
    "from sklearn.model_selection import RandomizedSearchCV"
   ]
  },
  {
   "cell_type": "code",
   "execution_count": 98,
   "metadata": {},
   "outputs": [],
   "source": [
    "# Number of trees in random forest\n",
    "n_estimators=[int(x) for x in np.linspace(start=100,stop=1200,num=6)]\n",
    "\n",
    "# Number of features to consider at every split\n",
    "max_features=['auto','sqrt']\n",
    "\n",
    "# Maximum number of levels in tree\n",
    "max_depth=[int(x) for x in np.linspace(5,30,num=4)]\n",
    "\n",
    "# Minimum number of samples required to split a node\n",
    "min_samples_split=[5,10,15,100]"
   ]
  },
  {
   "cell_type": "code",
   "execution_count": 99,
   "metadata": {},
   "outputs": [],
   "source": [
    "# Create the random grid\n",
    "\n",
    "random_grid={\n",
    "    'n_estimators':n_estimators,\n",
    "    'max_features':max_features,\n",
    "'max_depth':max_depth,\n",
    "    'min_samples_split':min_samples_split\n",
    "}"
   ]
  },
  {
   "cell_type": "code",
   "execution_count": 100,
   "metadata": {},
   "outputs": [
    {
     "data": {
      "text/plain": [
       "{'n_estimators': [100, 320, 540, 760, 980, 1200],\n",
       " 'max_features': ['auto', 'sqrt'],\n",
       " 'max_depth': [5, 13, 21, 30],\n",
       " 'min_samples_split': [5, 10, 15, 100]}"
      ]
     },
     "execution_count": 100,
     "metadata": {},
     "output_type": "execute_result"
    }
   ],
   "source": [
    "random_grid"
   ]
  },
  {
   "cell_type": "code",
   "execution_count": null,
   "metadata": {},
   "outputs": [],
   "source": [
    "### initialise your estimator\n",
    "reg_rf=RandomForestRegressor()"
   ]
  },
  {
   "cell_type": "code",
   "execution_count": 101,
   "metadata": {},
   "outputs": [],
   "source": [
    "# Random search of parameters, using 3 fold cross validation\n",
    "\n",
    "rf_random=RandomizedSearchCV(estimator=reg_rf,param_distributions=random_grid,cv=3,verbose=2,n_jobs=-1)"
   ]
  },
  {
   "cell_type": "code",
   "execution_count": 102,
   "metadata": {},
   "outputs": [
    {
     "name": "stdout",
     "output_type": "stream",
     "text": [
      "Fitting 3 folds for each of 10 candidates, totalling 30 fits\n"
     ]
    },
    {
     "name": "stderr",
     "output_type": "stream",
     "text": [
      "[Parallel(n_jobs=-1)]: Using backend LokyBackend with 2 concurrent workers.\n",
      "[Parallel(n_jobs=-1)]: Done  30 out of  30 | elapsed:  3.2min finished\n"
     ]
    },
    {
     "data": {
      "text/plain": [
       "RandomizedSearchCV(cv=3, error_score=nan,\n",
       "                   estimator=RandomForestRegressor(bootstrap=True,\n",
       "                                                   ccp_alpha=0.0,\n",
       "                                                   criterion='mse',\n",
       "                                                   max_depth=None,\n",
       "                                                   max_features='auto',\n",
       "                                                   max_leaf_nodes=None,\n",
       "                                                   max_samples=None,\n",
       "                                                   min_impurity_decrease=0.0,\n",
       "                                                   min_impurity_split=None,\n",
       "                                                   min_samples_leaf=1,\n",
       "                                                   min_samples_split=2,\n",
       "                                                   min_weight_fraction_leaf=0.0,\n",
       "                                                   n_estimators=100,\n",
       "                                                   n_jobs=None, oob_score=False,\n",
       "                                                   random_state=None, verbose=0,\n",
       "                                                   warm_start=False),\n",
       "                   iid='deprecated', n_iter=10, n_jobs=-1,\n",
       "                   param_distributions={'max_depth': [5, 13, 21, 30],\n",
       "                                        'max_features': ['auto', 'sqrt'],\n",
       "                                        'min_samples_split': [5, 10, 15, 100],\n",
       "                                        'n_estimators': [100, 320, 540, 760,\n",
       "                                                         980, 1200]},\n",
       "                   pre_dispatch='2*n_jobs', random_state=None, refit=True,\n",
       "                   return_train_score=False, scoring=None, verbose=2)"
      ]
     },
     "execution_count": 102,
     "metadata": {},
     "output_type": "execute_result"
    }
   ],
   "source": [
    "rf_random.fit(X_train,y_train)"
   ]
  },
  {
   "cell_type": "code",
   "execution_count": 103,
   "metadata": {},
   "outputs": [
    {
     "data": {
      "text/plain": [
       "{'n_estimators': 320,\n",
       " 'min_samples_split': 15,\n",
       " 'max_features': 'auto',\n",
       " 'max_depth': 30}"
      ]
     },
     "execution_count": 103,
     "metadata": {},
     "output_type": "execute_result"
    }
   ],
   "source": [
    "rf_random.best_params_"
   ]
  },
  {
   "cell_type": "code",
   "execution_count": 104,
   "metadata": {},
   "outputs": [],
   "source": [
    "prediction=rf_random.predict(X_test)"
   ]
  },
  {
   "cell_type": "code",
   "execution_count": 105,
   "metadata": {},
   "outputs": [
    {
     "data": {
      "text/plain": [
       "<matplotlib.axes._subplots.AxesSubplot at 0x56e9257c48>"
      ]
     },
     "execution_count": 105,
     "metadata": {},
     "output_type": "execute_result"
    },
    {
     "data": {
      "image/png": "[encoded data removed]",
      "text/plain": [
       "<Figure size 432x288 with 1 Axes>"
      ]
     },
     "metadata": {
      "needs_background": "light"
     },
     "output_type": "display_data"
    }
   ],
   "source": [
    "sns.distplot(y_test-prediction)"
   ]
  },
  {
   "cell_type": "code",
   "execution_count": 106,
   "metadata": {},
   "outputs": [
    {
     "data": {
      "text/plain": [
       "0.8403085124679607"
      ]
     },
     "execution_count": 106,
     "metadata": {},
     "output_type": "execute_result"
    }
   ],
   "source": [
    "metrics.r2_score(y_test,prediction)"
   ]
  },
  {
   "cell_type": "code",
   "execution_count": 107,
   "metadata": {},
   "outputs": [
    {
     "name": "stdout",
     "output_type": "stream",
     "text": [
      "MAE 1110.6771600647069\n",
      "MSE 3121555.2556893183\n",
      "RMSE 1766.792363490775\n"
     ]
    }
   ],
   "source": [
    "print('MAE',metrics.mean_absolute_error(y_test,prediction))\n",
    "print('MSE',metrics.mean_squared_error(y_test,prediction))\n",
    "print('RMSE',np.sqrt(metrics.mean_squared_error(y_test,prediction)))"
   ]
  },
  {
   "cell_type": "code",
   "execution_count": null,
   "metadata": {},
   "outputs": [],
   "source": []
  },
  {
   "cell_type": "markdown",
   "metadata": {},
   "source": [
    "##### Save the model to reuse it again"
   ]
  },
  {
   "cell_type": "code",
   "execution_count": null,
   "metadata": {},
   "outputs": [],
   "source": [
    "!pip install pickle"
   ]
  },
  {
   "cell_type": "code",
   "execution_count": 108,
   "metadata": {},
   "outputs": [],
   "source": [
    "import pickle"
   ]
  },
  {
   "cell_type": "code",
   "execution_count": null,
   "metadata": {},
   "outputs": [],
   "source": [
    "# open a file, where you want to store the data\n",
    "file=open('rf_random.pkl','wb')"
   ]
  },
  {
   "cell_type": "code",
   "execution_count": 111,
   "metadata": {},
   "outputs": [],
   "source": [
    "# dump information to that file\n",
    "pickle.dump(rf_random,file)"
   ]
  },
  {
   "cell_type": "code",
   "execution_count": null,
   "metadata": {},
   "outputs": [],
   "source": []
  },
  {
   "cell_type": "code",
   "execution_count": 112,
   "metadata": {},
   "outputs": [],
   "source": [
    "model=open('rf_random.pkl','rb')\n",
    "forest=pickle.load(model)"
   ]
  },
  {
   "cell_type": "code",
   "execution_count": 113,
   "metadata": {},
   "outputs": [],
   "source": [
    "y_prediction=forest.predict(X_test)"
   ]
  },
  {
   "cell_type": "code",
   "execution_count": 114,
   "metadata": {},
   "outputs": [
    {
     "data": {
      "text/plain": [
       "array([11506.99156954, 13445.35137211, 11741.51764807, ...,\n",
       "        6591.58536441,  4234.29701584,  6280.78887529])"
      ]
     },
     "execution_count": 114,
     "metadata": {},
     "output_type": "execute_result"
    }
   ],
   "source": [
    "y_prediction"
   ]
  },
  {
   "cell_type": "code",
   "execution_count": 115,
   "metadata": {},
   "outputs": [
    {
     "data": {
      "text/plain": [
       "0.8403085124679607"
      ]
     },
     "execution_count": 115,
     "metadata": {},
     "output_type": "execute_result"
    }
   ],
   "source": [
    "metrics.r2_score(y_test,y_prediction)"
   ]
  },
  {
   "cell_type": "code",
   "execution_count": null,
   "metadata": {},
   "outputs": [],
   "source": []
  },
  {
   "cell_type": "code",
   "execution_count": null,
   "metadata": {},
   "outputs": [],
   "source": []
  },
  {
   "cell_type": "code",
   "execution_count": null,
   "metadata": {},
   "outputs": [],
   "source": []
  }
 ],
 "metadata": {
  "kernelspec": {
   "display_name": "Python 3",
   "language": "python",
   "name": "python3"
  },
  "language_info": {
   "codemirror_mode": {
    "name": "ipython",
    "version": 3
   },
   "file_extension": ".py",
   "mimetype": "text/x-python",
   "name": "python",
   "nbconvert_exporter": "python",
   "pygments_lexer": "ipython3",
   "version": "3.7.4"
  }
 },
 "nbformat": 4,
 "nbformat_minor": 2
}